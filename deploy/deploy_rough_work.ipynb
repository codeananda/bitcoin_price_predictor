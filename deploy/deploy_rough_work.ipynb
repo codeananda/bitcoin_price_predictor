{
 "cells": [
  {
   "cell_type": "code",
   "execution_count": 30,
   "metadata": {},
   "outputs": [],
   "source": [
    "import streamlit as st\n",
    "import pandas as pd\n",
    "import numpy as np\n",
    "import requests\n",
    "import time\n",
    "import json"
   ]
  },
  {
   "cell_type": "code",
   "execution_count": 45,
   "metadata": {},
   "outputs": [
    {
     "data": {
      "text/plain": [
       "('1636095205528', 13, 13)"
      ]
     },
     "execution_count": 45,
     "metadata": {},
     "output_type": "execute_result"
    }
   ],
   "source": [
    "ns = str(time.time_ns())[:13]\n",
    "ms = '1528470720000'\n",
    "\n",
    "ns, len(ns), len(ms)"
   ]
  },
  {
   "cell_type": "code",
   "execution_count": 82,
   "metadata": {},
   "outputs": [],
   "source": [
    "def get_last_8_days_hourly_bitcoin_data():\n",
    "    \"\"\"Call Coincap API and request last 8 days of hourly Bitcoin USD data,\n",
    "    return DataFrame with 'date' and 'price' columns.\n",
    "\n",
    "    Returns\n",
    "    -------\n",
    "    pd.DataFrame\n",
    "        Dataframe (columns: 'date', 'price' with correct types).\n",
    "        Price is rounded to 2 decimal places. Last row contains most recent \n",
    "        price, first contains price 8 days ago.\n",
    "    \"\"\"\n",
    "    num_seconds_in_8_days = 60 * 60 * 24 * 8\n",
    "    num_milliseconds_in_8_days = num_seconds_in_8_days * 1000\n",
    "\n",
    "    now_ns = str(time.time_ns())\n",
    "    # Take first 13 digits for milliseconds\n",
    "    # Coincap API only accepts milliseconds\n",
    "    now_ms = int(now_ns[:13])\n",
    "    eight_days_ago = now_ms - num_milliseconds_in_8_days\n",
    "\n",
    "    # Get Bitcoin data for last 8 days\n",
    "    url = (f\"https://api.coincap.io/v2/assets/bitcoin/history?interval=h1\"\n",
    "            f\"&start={eight_days_ago}&end={now_ms}\")\n",
    "\n",
    "    payload = {}\n",
    "    headers = {}\n",
    "    response = requests.request(\"GET\", url, headers=headers, data=payload)\n",
    "\n",
    "    json_data = json.loads(response.text.encode(\"utf8\"))\n",
    "    bitcoin_data = json_data['data']\n",
    "    \n",
    "    df = pd.DataFrame(bitcoin_data)\n",
    "    df = df.loc[:, ['date', 'priceUsd']]\n",
    "    df.rename(mapper={'priceUsd': 'price'}, inplace=True, axis=1)\n",
    "    df['date'] = df['date'].apply(pd.to_datetime)\n",
    "    df['price'] = df['price'].apply(pd.to_numeric)\n",
    "    df['price'] = df['price'].round(2)\n",
    "    return df"
   ]
  },
  {
   "cell_type": "code",
   "execution_count": 83,
   "metadata": {},
   "outputs": [
    {
     "data": {
      "text/html": [
       "<div>\n",
       "<style scoped>\n",
       "    .dataframe tbody tr th:only-of-type {\n",
       "        vertical-align: middle;\n",
       "    }\n",
       "\n",
       "    .dataframe tbody tr th {\n",
       "        vertical-align: top;\n",
       "    }\n",
       "\n",
       "    .dataframe thead th {\n",
       "        text-align: right;\n",
       "    }\n",
       "</style>\n",
       "<table border=\"1\" class=\"dataframe\">\n",
       "  <thead>\n",
       "    <tr style=\"text-align: right;\">\n",
       "      <th></th>\n",
       "      <th>priceUsd</th>\n",
       "      <th>time</th>\n",
       "      <th>circulatingSupply</th>\n",
       "      <th>date</th>\n",
       "    </tr>\n",
       "  </thead>\n",
       "  <tbody>\n",
       "    <tr>\n",
       "      <th>0</th>\n",
       "      <td>60593.3393898699611987</td>\n",
       "      <td>1635411600000</td>\n",
       "      <td>18856618.0000000000000000</td>\n",
       "      <td>2021-10-28T09:00:00.000Z</td>\n",
       "    </tr>\n",
       "    <tr>\n",
       "      <th>1</th>\n",
       "      <td>61027.7922815506216029</td>\n",
       "      <td>1635415200000</td>\n",
       "      <td>18856681.0000000000000000</td>\n",
       "      <td>2021-10-28T10:00:00.000Z</td>\n",
       "    </tr>\n",
       "    <tr>\n",
       "      <th>2</th>\n",
       "      <td>61048.5667226751748454</td>\n",
       "      <td>1635418800000</td>\n",
       "      <td>18856681.0000000000000000</td>\n",
       "      <td>2021-10-28T11:00:00.000Z</td>\n",
       "    </tr>\n",
       "    <tr>\n",
       "      <th>3</th>\n",
       "      <td>60993.0928749382902512</td>\n",
       "      <td>1635422400000</td>\n",
       "      <td>18856781.0000000000000000</td>\n",
       "      <td>2021-10-28T12:00:00.000Z</td>\n",
       "    </tr>\n",
       "    <tr>\n",
       "      <th>4</th>\n",
       "      <td>61135.7078704091089916</td>\n",
       "      <td>1635426000000</td>\n",
       "      <td>18856781.0000000000000000</td>\n",
       "      <td>2021-10-28T13:00:00.000Z</td>\n",
       "    </tr>\n",
       "    <tr>\n",
       "      <th>...</th>\n",
       "      <td>...</td>\n",
       "      <td>...</td>\n",
       "      <td>...</td>\n",
       "      <td>...</td>\n",
       "    </tr>\n",
       "    <tr>\n",
       "      <th>187</th>\n",
       "      <td>62307.8054568924045434</td>\n",
       "      <td>1636084800000</td>\n",
       "      <td>18864112.0000000000000000</td>\n",
       "      <td>2021-11-05T04:00:00.000Z</td>\n",
       "    </tr>\n",
       "    <tr>\n",
       "      <th>188</th>\n",
       "      <td>62187.6101454638151687</td>\n",
       "      <td>1636088400000</td>\n",
       "      <td>18864181.0000000000000000</td>\n",
       "      <td>2021-11-05T05:00:00.000Z</td>\n",
       "    </tr>\n",
       "    <tr>\n",
       "      <th>189</th>\n",
       "      <td>62271.5217865396891294</td>\n",
       "      <td>1636092000000</td>\n",
       "      <td>18864181.0000000000000000</td>\n",
       "      <td>2021-11-05T06:00:00.000Z</td>\n",
       "    </tr>\n",
       "    <tr>\n",
       "      <th>190</th>\n",
       "      <td>62305.0377666721078014</td>\n",
       "      <td>1636095600000</td>\n",
       "      <td>18864268.0000000000000000</td>\n",
       "      <td>2021-11-05T07:00:00.000Z</td>\n",
       "    </tr>\n",
       "    <tr>\n",
       "      <th>191</th>\n",
       "      <td>62249.8923445232124076</td>\n",
       "      <td>1636099200000</td>\n",
       "      <td>18864268.0000000000000000</td>\n",
       "      <td>2021-11-05T08:00:00.000Z</td>\n",
       "    </tr>\n",
       "  </tbody>\n",
       "</table>\n",
       "<p>192 rows × 4 columns</p>\n",
       "</div>"
      ],
      "text/plain": [
       "                   priceUsd           time          circulatingSupply  \\\n",
       "0    60593.3393898699611987  1635411600000  18856618.0000000000000000   \n",
       "1    61027.7922815506216029  1635415200000  18856681.0000000000000000   \n",
       "2    61048.5667226751748454  1635418800000  18856681.0000000000000000   \n",
       "3    60993.0928749382902512  1635422400000  18856781.0000000000000000   \n",
       "4    61135.7078704091089916  1635426000000  18856781.0000000000000000   \n",
       "..                      ...            ...                        ...   \n",
       "187  62307.8054568924045434  1636084800000  18864112.0000000000000000   \n",
       "188  62187.6101454638151687  1636088400000  18864181.0000000000000000   \n",
       "189  62271.5217865396891294  1636092000000  18864181.0000000000000000   \n",
       "190  62305.0377666721078014  1636095600000  18864268.0000000000000000   \n",
       "191  62249.8923445232124076  1636099200000  18864268.0000000000000000   \n",
       "\n",
       "                         date  \n",
       "0    2021-10-28T09:00:00.000Z  \n",
       "1    2021-10-28T10:00:00.000Z  \n",
       "2    2021-10-28T11:00:00.000Z  \n",
       "3    2021-10-28T12:00:00.000Z  \n",
       "4    2021-10-28T13:00:00.000Z  \n",
       "..                        ...  \n",
       "187  2021-11-05T04:00:00.000Z  \n",
       "188  2021-11-05T05:00:00.000Z  \n",
       "189  2021-11-05T06:00:00.000Z  \n",
       "190  2021-11-05T07:00:00.000Z  \n",
       "191  2021-11-05T08:00:00.000Z  \n",
       "\n",
       "[192 rows x 4 columns]"
      ]
     },
     "execution_count": 83,
     "metadata": {},
     "output_type": "execute_result"
    }
   ],
   "source": [
    "num_seconds_in_8_days = 60 * 60 * 24 * 8\n",
    "num_milliseconds_in_8_days = num_seconds_in_8_days * 1000\n",
    "\n",
    "now_ns = str(time.time_ns())\n",
    "# Take first 13 digits for milliseconds\n",
    "# Coincap API only accepts milliseconds\n",
    "now_ms = int(now_ns[:13])\n",
    "eight_days_ago = now_ms - num_milliseconds_in_8_days\n",
    "\n",
    "# Get Bitcoin data for last 8 days\n",
    "url = (f\"https://api.coincap.io/v2/assets/bitcoin/history?interval=h1\"\n",
    "        f\"&start={eight_days_ago}&end={now_ms}\")\n",
    "\n",
    "payload = {}\n",
    "headers = {}\n",
    "response = requests.request(\"GET\", url, headers=headers, data=payload)\n",
    "pd.DataFrame(response.json()['data'])"
   ]
  },
  {
   "cell_type": "code",
   "execution_count": 72,
   "metadata": {},
   "outputs": [
    {
     "data": {
      "text/plain": [
       "<AxesSubplot:xlabel='date'>"
      ]
     },
     "execution_count": 72,
     "metadata": {},
     "output_type": "execute_result"
    },
    {
     "data": {
      "image/png": "[encoded data removed]",
      "text/plain": [
       "<Figure size 432x288 with 1 Axes>"
      ]
     },
     "metadata": {
      "needs_background": "light"
     },
     "output_type": "display_data"
    }
   ],
   "source": [
    "df.plot(x='date', y='price')"
   ]
  },
  {
   "cell_type": "code",
   "execution_count": 54,
   "metadata": {},
   "outputs": [
    {
     "data": {
      "text/html": [
       "<div>\n",
       "<style scoped>\n",
       "    .dataframe tbody tr th:only-of-type {\n",
       "        vertical-align: middle;\n",
       "    }\n",
       "\n",
       "    .dataframe tbody tr th {\n",
       "        vertical-align: top;\n",
       "    }\n",
       "\n",
       "    .dataframe thead th {\n",
       "        text-align: right;\n",
       "    }\n",
       "</style>\n",
       "<table border=\"1\" class=\"dataframe\">\n",
       "  <thead>\n",
       "    <tr style=\"text-align: right;\">\n",
       "      <th></th>\n",
       "      <th>priceUsd</th>\n",
       "      <th>time</th>\n",
       "      <th>circulatingSupply</th>\n",
       "      <th>date</th>\n",
       "    </tr>\n",
       "  </thead>\n",
       "  <tbody>\n",
       "    <tr>\n",
       "      <th>0</th>\n",
       "      <td>59140.5605515122468073</td>\n",
       "      <td>1635404400000</td>\n",
       "      <td>18856537.0000000000000000</td>\n",
       "      <td>2021-10-28T07:00:00.000Z</td>\n",
       "    </tr>\n",
       "    <tr>\n",
       "      <th>1</th>\n",
       "      <td>59068.2592819495710441</td>\n",
       "      <td>1635408000000</td>\n",
       "      <td>18856618.0000000000000000</td>\n",
       "      <td>2021-10-28T08:00:00.000Z</td>\n",
       "    </tr>\n",
       "    <tr>\n",
       "      <th>2</th>\n",
       "      <td>60593.3393898699611987</td>\n",
       "      <td>1635411600000</td>\n",
       "      <td>18856618.0000000000000000</td>\n",
       "      <td>2021-10-28T09:00:00.000Z</td>\n",
       "    </tr>\n",
       "    <tr>\n",
       "      <th>3</th>\n",
       "      <td>61027.7922815506216029</td>\n",
       "      <td>1635415200000</td>\n",
       "      <td>18856681.0000000000000000</td>\n",
       "      <td>2021-10-28T10:00:00.000Z</td>\n",
       "    </tr>\n",
       "    <tr>\n",
       "      <th>4</th>\n",
       "      <td>61048.5667226751748454</td>\n",
       "      <td>1635418800000</td>\n",
       "      <td>18856681.0000000000000000</td>\n",
       "      <td>2021-10-28T11:00:00.000Z</td>\n",
       "    </tr>\n",
       "    <tr>\n",
       "      <th>...</th>\n",
       "      <td>...</td>\n",
       "      <td>...</td>\n",
       "      <td>...</td>\n",
       "      <td>...</td>\n",
       "    </tr>\n",
       "    <tr>\n",
       "      <th>187</th>\n",
       "      <td>61765.5955091704797180</td>\n",
       "      <td>1636077600000</td>\n",
       "      <td>18864025.0000000000000000</td>\n",
       "      <td>2021-11-05T02:00:00.000Z</td>\n",
       "    </tr>\n",
       "    <tr>\n",
       "      <th>188</th>\n",
       "      <td>61794.4897326117395223</td>\n",
       "      <td>1636081200000</td>\n",
       "      <td>18864112.0000000000000000</td>\n",
       "      <td>2021-11-05T03:00:00.000Z</td>\n",
       "    </tr>\n",
       "    <tr>\n",
       "      <th>189</th>\n",
       "      <td>62307.8054568924045434</td>\n",
       "      <td>1636084800000</td>\n",
       "      <td>18864112.0000000000000000</td>\n",
       "      <td>2021-11-05T04:00:00.000Z</td>\n",
       "    </tr>\n",
       "    <tr>\n",
       "      <th>190</th>\n",
       "      <td>62187.6101454638151687</td>\n",
       "      <td>1636088400000</td>\n",
       "      <td>18864181.0000000000000000</td>\n",
       "      <td>2021-11-05T05:00:00.000Z</td>\n",
       "    </tr>\n",
       "    <tr>\n",
       "      <th>191</th>\n",
       "      <td>62271.5217865396891294</td>\n",
       "      <td>1636092000000</td>\n",
       "      <td>18864181.0000000000000000</td>\n",
       "      <td>2021-11-05T06:00:00.000Z</td>\n",
       "    </tr>\n",
       "  </tbody>\n",
       "</table>\n",
       "<p>192 rows × 4 columns</p>\n",
       "</div>"
      ],
      "text/plain": [
       "                   priceUsd           time          circulatingSupply  \\\n",
       "0    59140.5605515122468073  1635404400000  18856537.0000000000000000   \n",
       "1    59068.2592819495710441  1635408000000  18856618.0000000000000000   \n",
       "2    60593.3393898699611987  1635411600000  18856618.0000000000000000   \n",
       "3    61027.7922815506216029  1635415200000  18856681.0000000000000000   \n",
       "4    61048.5667226751748454  1635418800000  18856681.0000000000000000   \n",
       "..                      ...            ...                        ...   \n",
       "187  61765.5955091704797180  1636077600000  18864025.0000000000000000   \n",
       "188  61794.4897326117395223  1636081200000  18864112.0000000000000000   \n",
       "189  62307.8054568924045434  1636084800000  18864112.0000000000000000   \n",
       "190  62187.6101454638151687  1636088400000  18864181.0000000000000000   \n",
       "191  62271.5217865396891294  1636092000000  18864181.0000000000000000   \n",
       "\n",
       "                         date  \n",
       "0    2021-10-28T07:00:00.000Z  \n",
       "1    2021-10-28T08:00:00.000Z  \n",
       "2    2021-10-28T09:00:00.000Z  \n",
       "3    2021-10-28T10:00:00.000Z  \n",
       "4    2021-10-28T11:00:00.000Z  \n",
       "..                        ...  \n",
       "187  2021-11-05T02:00:00.000Z  \n",
       "188  2021-11-05T03:00:00.000Z  \n",
       "189  2021-11-05T04:00:00.000Z  \n",
       "190  2021-11-05T05:00:00.000Z  \n",
       "191  2021-11-05T06:00:00.000Z  \n",
       "\n",
       "[192 rows x 4 columns]"
      ]
     },
     "execution_count": 54,
     "metadata": {},
     "output_type": "execute_result"
    }
   ],
   "source": [
    "pd.DataFrame(json_data['data'])"
   ]
  },
  {
   "cell_type": "code",
   "execution_count": 19,
   "metadata": {},
   "outputs": [
    {
     "data": {
      "text/plain": [
       "1636094309.928011"
      ]
     },
     "execution_count": 19,
     "metadata": {},
     "output_type": "execute_result"
    }
   ],
   "source": [
    "import time\n",
    "time.time()"
   ]
  },
  {
   "cell_type": "code",
   "execution_count": 20,
   "metadata": {},
   "outputs": [],
   "source": [
    "num_seconds_in_8_days = 60 * 60 * 24 * 8"
   ]
  },
  {
   "cell_type": "code",
   "execution_count": 21,
   "metadata": {},
   "outputs": [
    {
     "data": {
      "text/plain": [
       "1635403189.315574"
      ]
     },
     "execution_count": 21,
     "metadata": {},
     "output_type": "execute_result"
    }
   ],
   "source": [
    "time.time() - num_seconds_in_8_days"
   ]
  },
  {
   "cell_type": "code",
   "execution_count": 28,
   "metadata": {},
   "outputs": [
    {
     "name": "stdout",
     "output_type": "stream",
     "text": [
      "time.struct_time(tm_year=2021, tm_mon=11, tm_mday=5, tm_hour=14, tm_min=44, tm_sec=21, tm_wday=4, tm_yday=309, tm_isdst=0)\n",
      "time.struct_time(tm_year=2021, tm_mon=10, tm_mday=28, tm_hour=14, tm_min=44, tm_sec=21, tm_wday=3, tm_yday=301, tm_isdst=0)\n"
     ]
    }
   ],
   "source": [
    "now = time.time()\n",
    "past = time.localtime(now - num_seconds_in_8_days)\n",
    "\n",
    "print(time.localtime(now))\n",
    "print(past)"
   ]
  },
  {
   "cell_type": "code",
   "execution_count": 29,
   "metadata": {},
   "outputs": [
    {
     "data": {
      "text/plain": [
       "1636094710884485000"
      ]
     },
     "execution_count": 29,
     "metadata": {},
     "output_type": "execute_result"
    }
   ],
   "source": [
    "time.time_ns()"
   ]
  },
  {
   "cell_type": "code",
   "execution_count": null,
   "metadata": {},
   "outputs": [],
   "source": []
  }
 ],
 "metadata": {
  "interpreter": {
   "hash": "3ecf27939019150eaf754eaa3fa3d26a02c50bfda8c9a7333dada8ff5bafce6b"
  },
  "kernelspec": {
   "display_name": "Python 3.8.8 64-bit ('base': conda)",
   "name": "python3"
  },
  "language_info": {
   "codemirror_mode": {
    "name": "ipython",
    "version": 3
   },
   "file_extension": ".py",
   "mimetype": "text/x-python",
   "name": "python",
   "nbconvert_exporter": "python",
   "pygments_lexer": "ipython3",
   "version": "3.8.8"
  },
  "orig_nbformat": 4
 },
 "nbformat": 4,
 "nbformat_minor": 2
}
