{
 "cells": [
  {
   "cell_type": "markdown",
   "source": [
    "Taken from https://www.kaggle.com/code/sugghi/training-3rd-place-solution"
   ],
   "metadata": {
    "collapsed": false
   },
   "id": "c110a13077def83c"
  },
  {
   "cell_type": "markdown",
   "source": [
    "# Setup"
   ],
   "metadata": {
    "collapsed": false
   },
   "id": "a563906b7f728e54"
  },
  {
   "cell_type": "code",
   "execution_count": 1,
   "outputs": [],
   "source": [
    "%reload_ext autoreload\n",
    "%autoreload 2"
   ],
   "metadata": {
    "collapsed": false,
    "ExecuteTime": {
     "end_time": "2023-12-01T14:26:05.760474900Z",
     "start_time": "2023-12-01T14:26:05.704558Z"
    }
   },
   "id": "64cbb62e435a430"
  },
  {
   "cell_type": "code",
   "execution_count": 13,
   "id": "initial_id",
   "metadata": {
    "collapsed": true,
    "ExecuteTime": {
     "end_time": "2023-12-01T14:47:58.421061700Z",
     "start_time": "2023-12-01T14:47:58.350216Z"
    }
   },
   "outputs": [],
   "source": [
    "import os\n",
    "import random\n",
    "import pandas as pd\n",
    "import numpy as np\n",
    "import matplotlib.pyplot as plt\n",
    "import seaborn as sns\n",
    "import lightgbm as lgb\n",
    "import time\n",
    "import datetime\n",
    "from alpaca.data.historical import CryptoHistoricalDataClient\n",
    "from alpaca.data.requests import CryptoBarsRequest\n",
    "from alpaca.data.timeframe import TimeFrame\n",
    "from datetime import datetime\n",
    "import config\n",
    "\n",
    "from feature_engineering import *\n",
    "from training import *\n",
    "\n",
    "import pickle\n",
    "import gc\n",
    "\n",
    "from tqdm import tqdm\n",
    "\n",
    "n_fold = 7\n",
    "seed0 = 8586\n",
    "use_supple_for_train = True\n",
    "\n",
    "# If True, the period used to evaluate Public LB will not be used for training.\n",
    "# Set to False on final submission.\n",
    "not_use_overlap_to_train = False\n",
    "\n",
    "pd.set_option('display.max_rows', 6)\n",
    "pd.set_option('display.max_columns', 350)\n",
    "\n",
    "lags = [60,300,900]"
   ]
  },
  {
   "cell_type": "code",
   "execution_count": 3,
   "outputs": [],
   "source": [
    "params = {\n",
    "    'early_stopping_rounds': 50,\n",
    "    'objective': 'regression',\n",
    "    'metric': 'rmse',\n",
    "#     'metric': 'None',\n",
    "    'boosting_type': 'gbdt',\n",
    "    'max_depth': 5,\n",
    "    'verbose': -1,\n",
    "    'max_bin':600,\n",
    "    'min_data_in_leaf':50,\n",
    "    'learning_rate': 0.03,\n",
    "    'subsample': 0.7,\n",
    "    'subsample_freq': 1,\n",
    "    'feature_fraction': 1,\n",
    "    'lambda_l1': 0.5,\n",
    "    'lambda_l2': 2,\n",
    "    'seed':seed0,\n",
    "    'feature_fraction_seed': seed0,\n",
    "    'bagging_fraction_seed': seed0,\n",
    "    'drop_seed': seed0,\n",
    "    'data_random_seed': seed0,\n",
    "    'extra_trees': True,\n",
    "    'extra_seed': seed0,\n",
    "    'zero_as_missing': True,\n",
    "    \"first_metric_only\": True\n",
    "         }"
   ],
   "metadata": {
    "collapsed": false,
    "ExecuteTime": {
     "end_time": "2023-12-01T14:26:06.222493100Z",
     "start_time": "2023-12-01T14:26:06.170084600Z"
    }
   },
   "id": "3a627c09e23ae4ac"
  },
  {
   "cell_type": "markdown",
   "source": [
    "# Data Processing"
   ],
   "metadata": {
    "collapsed": false
   },
   "id": "7c81a872d70ae97c"
  },
  {
   "cell_type": "code",
   "execution_count": 4,
   "outputs": [],
   "source": [
    "def reduce_mem_usage(df):\n",
    "    \"\"\" iterate through all the columns of a dataframe and modify the data type\n",
    "        to reduce memory usage.        \n",
    "    \"\"\"\n",
    "    start_mem = df.memory_usage().sum() / 1024**2\n",
    "    print('Memory usage of dataframe is {:.2f} MB'.format(start_mem))\n",
    "\n",
    "    for col in df.columns:\n",
    "        col_type = df[col].dtype\n",
    "\n",
    "        if col_type != object:\n",
    "            c_min = df[col].min()\n",
    "            c_max = df[col].max()\n",
    "            if str(col_type)[:3] == 'int':\n",
    "                if c_min > np.iinfo(np.int8).min and c_max < np.iinfo(np.int8).max:\n",
    "                    df[col] = df[col].astype(np.int8)\n",
    "                elif c_min > np.iinfo(np.int16).min and c_max < np.iinfo(np.int16).max:\n",
    "                    df[col] = df[col].astype(np.int16)\n",
    "                elif c_min > np.iinfo(np.int32).min and c_max < np.iinfo(np.int32).max:\n",
    "                    df[col] = df[col].astype(np.int32)\n",
    "                elif c_min > np.iinfo(np.int64).min and c_max < np.iinfo(np.int64).max:\n",
    "                    df[col] = df[col].astype(np.int64)  \n",
    "            else:\n",
    "                if c_min > np.finfo(np.float16).min and c_max < np.finfo(np.float16).max:\n",
    "                    df[col] = df[col].astype(np.float16)\n",
    "                elif c_min > np.finfo(np.float32).min and c_max < np.finfo(np.float32).max:\n",
    "                    df[col] = df[col].astype(np.float32)\n",
    "                else:\n",
    "                    df[col] = df[col].astype(np.float64)\n",
    "        else:\n",
    "            df[col] = df[col].astype('category')\n",
    "\n",
    "    end_mem = df.memory_usage().sum() / 1024**2\n",
    "    print('Memory usage after optimization is: {:.2f} MB'.format(end_mem))\n",
    "    print('Decreased by {:.1f}%'.format(100 * (start_mem - end_mem) / start_mem))\n",
    "\n",
    "    return df"
   ],
   "metadata": {
    "collapsed": false,
    "ExecuteTime": {
     "end_time": "2023-12-01T14:26:06.285631600Z",
     "start_time": "2023-12-01T14:26:06.226517600Z"
    }
   },
   "id": "1f2b608dac54b8ec"
  },
  {
   "cell_type": "code",
   "execution_count": 5,
   "outputs": [],
   "source": [
    "# no keys required for crypto data\n",
    "client = CryptoHistoricalDataClient()\n",
    "\n",
    "symbol = \"BTC/USD\"\n",
    "request_params = CryptoBarsRequest(\n",
    "    # symbol_or_symbols=[\"BTC/USD\", \"ETH/USD\"],\n",
    "    symbol_or_symbols=symbol,\n",
    "    timeframe=TimeFrame.Hour,\n",
    "    start=datetime.strptime(\"2023-03-01\", '%Y-%m-%d')\n",
    ")\n",
    "\n",
    "bars = client.get_crypto_bars(request_params)"
   ],
   "metadata": {
    "collapsed": false,
    "ExecuteTime": {
     "end_time": "2023-12-01T14:26:09.564655200Z",
     "start_time": "2023-12-01T14:26:06.285631600Z"
    }
   },
   "id": "a022c409dad50d4"
  },
  {
   "cell_type": "code",
   "execution_count": 6,
   "outputs": [
    {
     "name": "stdout",
     "output_type": "stream",
     "text": [
      "Memory usage of dataframe is 0.10 MB\n",
      "Memory usage after optimization is: 0.06 MB\n",
      "Decreased by 37.5%\n"
     ]
    }
   ],
   "source": [
    "# convert to dataframe\n",
    "btc = bars.df.loc[symbol]\n",
    "btc = btc[['close']].copy()\n",
    "btc.fillna(method='ffill', limit=100)\n",
    "btc = reduce_mem_usage(btc)\n",
    "\n",
    "df_train, df_val, df_test = (\n",
    "    btc.loc[:config.TRAIN_END_DATE].copy(), \n",
    "    btc.loc[config.VAL_START_DATE:config.VAL_END_DATE].copy(),\n",
    "    btc.loc[config.TEST_START_DATE:].copy()\n",
    ")"
   ],
   "metadata": {
    "collapsed": false,
    "ExecuteTime": {
     "end_time": "2023-12-01T14:26:09.685332600Z",
     "start_time": "2023-12-01T14:26:09.566655300Z"
    }
   },
   "id": "d5e8e7d7fca53251"
  },
  {
   "cell_type": "markdown",
   "source": [
    "# Feature Engineering"
   ],
   "metadata": {
    "collapsed": false
   },
   "id": "cdba275d250d98a3"
  },
  {
   "cell_type": "code",
   "execution_count": 7,
   "outputs": [
    {
     "data": {
      "text/plain": "                             close  log_close/mean_60  log_return_60  \\\ntimestamp                                                              \n2023-03-01 00:00:00+00:00  23104.0          10.047761      -0.119141   \n2023-03-01 01:00:00+00:00  23248.0          10.053974      -0.113098   \n2023-03-01 02:00:00+00:00  23328.0          10.057410      -0.164673   \n...                            ...                ...            ...   \n2023-08-31 21:00:00+00:00  26016.0          -0.043092       0.001951   \n2023-08-31 22:00:00+00:00  26032.0          -0.042517       0.002926   \n2023-08-31 23:00:00+00:00  25920.0          -0.046799      -0.001955   \n\n                           mean_close/mean_60  mean_log_returns_60  \\\ntimestamp                                                            \n2023-03-01 00:00:00+00:00            0.135274        -6.556511e-07   \n2023-03-01 01:00:00+00:00            0.135274        -6.556511e-07   \n2023-03-01 02:00:00+00:00            0.135274        -6.556511e-07   \n...                                       ...                  ...   \n2023-08-31 21:00:00+00:00            0.135274        -6.556511e-07   \n2023-08-31 22:00:00+00:00            0.135274        -6.556511e-07   \n2023-08-31 23:00:00+00:00            0.135274        -6.556511e-07   \n\n                           log_close/mean_60-mean_close/mean_60  \\\ntimestamp                                                         \n2023-03-01 00:00:00+00:00                              9.912487   \n2023-03-01 01:00:00+00:00                              9.918700   \n2023-03-01 02:00:00+00:00                              9.922136   \n...                                                         ...   \n2023-08-31 21:00:00+00:00                             -0.178367   \n2023-08-31 22:00:00+00:00                             -0.177791   \n2023-08-31 23:00:00+00:00                             -0.182073   \n\n                           log_return_60-mean_log_returns_60  \\\ntimestamp                                                      \n2023-03-01 00:00:00+00:00                          -0.119141   \n2023-03-01 01:00:00+00:00                          -0.113098   \n2023-03-01 02:00:00+00:00                          -0.164673   \n...                                                      ...   \n2023-08-31 21:00:00+00:00                           0.001952   \n2023-08-31 22:00:00+00:00                           0.002926   \n2023-08-31 23:00:00+00:00                          -0.001955   \n\n                           log_close/mean_300  log_return_300  \\\ntimestamp                                                       \n2023-03-01 00:00:00+00:00           10.047761       -0.114197   \n2023-03-01 01:00:00+00:00           10.053974       -0.108704   \n2023-03-01 02:00:00+00:00           10.057410       -0.107117   \n...                                       ...             ...   \n2023-08-31 21:00:00+00:00           -0.010689        0.002926   \n2023-08-31 22:00:00+00:00           -0.010090        0.004871   \n2023-08-31 23:00:00+00:00           -0.014404        0.000976   \n\n                           mean_close/mean_300  mean_log_returns_300  \\\ntimestamp                                                              \n2023-03-01 00:00:00+00:00             0.683295         -5.960464e-07   \n2023-03-01 01:00:00+00:00             0.683295         -5.960464e-07   \n2023-03-01 02:00:00+00:00             0.683295         -5.960464e-07   \n...                                        ...                   ...   \n2023-08-31 21:00:00+00:00             0.683295         -5.960464e-07   \n2023-08-31 22:00:00+00:00             0.683295         -5.960464e-07   \n2023-08-31 23:00:00+00:00             0.683295         -5.960464e-07   \n\n                           log_close/mean_300-mean_close/mean_300  \\\ntimestamp                                                           \n2023-03-01 00:00:00+00:00                                9.364466   \n2023-03-01 01:00:00+00:00                                9.370679   \n2023-03-01 02:00:00+00:00                                9.374114   \n...                                                           ...   \n2023-08-31 21:00:00+00:00                               -0.693984   \n2023-08-31 22:00:00+00:00                               -0.693386   \n2023-08-31 23:00:00+00:00                               -0.697699   \n\n                           log_return_300-mean_log_returns_300  \\\ntimestamp                                                        \n2023-03-01 00:00:00+00:00                            -0.114197   \n2023-03-01 01:00:00+00:00                            -0.108704   \n2023-03-01 02:00:00+00:00                            -0.107117   \n...                                                        ...   \n2023-08-31 21:00:00+00:00                             0.002926   \n2023-08-31 22:00:00+00:00                             0.004871   \n2023-08-31 23:00:00+00:00                             0.000977   \n\n                           log_close/mean_900  log_return_900  \\\ntimestamp                                                       \n2023-03-01 00:00:00+00:00           10.047761       -0.231323   \n2023-03-01 01:00:00+00:00           10.053974       -0.230713   \n2023-03-01 02:00:00+00:00           10.057410       -0.223999   \n...                                       ...             ...   \n2023-08-31 21:00:00+00:00           -0.078528       -0.114746   \n2023-08-31 22:00:00+00:00           -0.077790       -0.113647   \n2023-08-31 23:00:00+00:00           -0.081974       -0.116943   \n\n                           mean_close/mean_900  mean_log_returns_900  \\\ntimestamp                                                              \n2023-03-01 00:00:00+00:00             2.066016          2.384186e-07   \n2023-03-01 01:00:00+00:00             2.066016          2.384186e-07   \n2023-03-01 02:00:00+00:00             2.066016          2.384186e-07   \n...                                        ...                   ...   \n2023-08-31 21:00:00+00:00             2.066016          2.384186e-07   \n2023-08-31 22:00:00+00:00             2.066016          2.384186e-07   \n2023-08-31 23:00:00+00:00             2.066016          2.384186e-07   \n\n                           log_close/mean_900-mean_close/mean_900  \\\ntimestamp                                                           \n2023-03-01 00:00:00+00:00                                7.981745   \n2023-03-01 01:00:00+00:00                                7.987959   \n2023-03-01 02:00:00+00:00                                7.991394   \n...                                                           ...   \n2023-08-31 21:00:00+00:00                               -2.144544   \n2023-08-31 22:00:00+00:00                               -2.143805   \n2023-08-31 23:00:00+00:00                               -2.147990   \n\n                           log_return_900-mean_log_returns_900  \ntimestamp                                                       \n2023-03-01 00:00:00+00:00                            -0.231323  \n2023-03-01 01:00:00+00:00                            -0.230713  \n2023-03-01 02:00:00+00:00                            -0.223999  \n...                                                        ...  \n2023-08-31 21:00:00+00:00                            -0.114746  \n2023-08-31 22:00:00+00:00                            -0.113647  \n2023-08-31 23:00:00+00:00                            -0.116943  \n\n[4416 rows x 19 columns]",
      "text/html": "<div>\n<style scoped>\n    .dataframe tbody tr th:only-of-type {\n        vertical-align: middle;\n    }\n\n    .dataframe tbody tr th {\n        vertical-align: top;\n    }\n\n    .dataframe thead th {\n        text-align: right;\n    }\n</style>\n<table border=\"1\" class=\"dataframe\">\n  <thead>\n    <tr style=\"text-align: right;\">\n      <th></th>\n      <th>close</th>\n      <th>log_close/mean_60</th>\n      <th>log_return_60</th>\n      <th>mean_close/mean_60</th>\n      <th>mean_log_returns_60</th>\n      <th>log_close/mean_60-mean_close/mean_60</th>\n      <th>log_return_60-mean_log_returns_60</th>\n      <th>log_close/mean_300</th>\n      <th>log_return_300</th>\n      <th>mean_close/mean_300</th>\n      <th>mean_log_returns_300</th>\n      <th>log_close/mean_300-mean_close/mean_300</th>\n      <th>log_return_300-mean_log_returns_300</th>\n      <th>log_close/mean_900</th>\n      <th>log_return_900</th>\n      <th>mean_close/mean_900</th>\n      <th>mean_log_returns_900</th>\n      <th>log_close/mean_900-mean_close/mean_900</th>\n      <th>log_return_900-mean_log_returns_900</th>\n    </tr>\n    <tr>\n      <th>timestamp</th>\n      <th></th>\n      <th></th>\n      <th></th>\n      <th></th>\n      <th></th>\n      <th></th>\n      <th></th>\n      <th></th>\n      <th></th>\n      <th></th>\n      <th></th>\n      <th></th>\n      <th></th>\n      <th></th>\n      <th></th>\n      <th></th>\n      <th></th>\n      <th></th>\n      <th></th>\n    </tr>\n  </thead>\n  <tbody>\n    <tr>\n      <th>2023-03-01 00:00:00+00:00</th>\n      <td>23104.0</td>\n      <td>10.047761</td>\n      <td>-0.119141</td>\n      <td>0.135274</td>\n      <td>-6.556511e-07</td>\n      <td>9.912487</td>\n      <td>-0.119141</td>\n      <td>10.047761</td>\n      <td>-0.114197</td>\n      <td>0.683295</td>\n      <td>-5.960464e-07</td>\n      <td>9.364466</td>\n      <td>-0.114197</td>\n      <td>10.047761</td>\n      <td>-0.231323</td>\n      <td>2.066016</td>\n      <td>2.384186e-07</td>\n      <td>7.981745</td>\n      <td>-0.231323</td>\n    </tr>\n    <tr>\n      <th>2023-03-01 01:00:00+00:00</th>\n      <td>23248.0</td>\n      <td>10.053974</td>\n      <td>-0.113098</td>\n      <td>0.135274</td>\n      <td>-6.556511e-07</td>\n      <td>9.918700</td>\n      <td>-0.113098</td>\n      <td>10.053974</td>\n      <td>-0.108704</td>\n      <td>0.683295</td>\n      <td>-5.960464e-07</td>\n      <td>9.370679</td>\n      <td>-0.108704</td>\n      <td>10.053974</td>\n      <td>-0.230713</td>\n      <td>2.066016</td>\n      <td>2.384186e-07</td>\n      <td>7.987959</td>\n      <td>-0.230713</td>\n    </tr>\n    <tr>\n      <th>2023-03-01 02:00:00+00:00</th>\n      <td>23328.0</td>\n      <td>10.057410</td>\n      <td>-0.164673</td>\n      <td>0.135274</td>\n      <td>-6.556511e-07</td>\n      <td>9.922136</td>\n      <td>-0.164673</td>\n      <td>10.057410</td>\n      <td>-0.107117</td>\n      <td>0.683295</td>\n      <td>-5.960464e-07</td>\n      <td>9.374114</td>\n      <td>-0.107117</td>\n      <td>10.057410</td>\n      <td>-0.223999</td>\n      <td>2.066016</td>\n      <td>2.384186e-07</td>\n      <td>7.991394</td>\n      <td>-0.223999</td>\n    </tr>\n    <tr>\n      <th>...</th>\n      <td>...</td>\n      <td>...</td>\n      <td>...</td>\n      <td>...</td>\n      <td>...</td>\n      <td>...</td>\n      <td>...</td>\n      <td>...</td>\n      <td>...</td>\n      <td>...</td>\n      <td>...</td>\n      <td>...</td>\n      <td>...</td>\n      <td>...</td>\n      <td>...</td>\n      <td>...</td>\n      <td>...</td>\n      <td>...</td>\n      <td>...</td>\n    </tr>\n    <tr>\n      <th>2023-08-31 21:00:00+00:00</th>\n      <td>26016.0</td>\n      <td>-0.043092</td>\n      <td>0.001951</td>\n      <td>0.135274</td>\n      <td>-6.556511e-07</td>\n      <td>-0.178367</td>\n      <td>0.001952</td>\n      <td>-0.010689</td>\n      <td>0.002926</td>\n      <td>0.683295</td>\n      <td>-5.960464e-07</td>\n      <td>-0.693984</td>\n      <td>0.002926</td>\n      <td>-0.078528</td>\n      <td>-0.114746</td>\n      <td>2.066016</td>\n      <td>2.384186e-07</td>\n      <td>-2.144544</td>\n      <td>-0.114746</td>\n    </tr>\n    <tr>\n      <th>2023-08-31 22:00:00+00:00</th>\n      <td>26032.0</td>\n      <td>-0.042517</td>\n      <td>0.002926</td>\n      <td>0.135274</td>\n      <td>-6.556511e-07</td>\n      <td>-0.177791</td>\n      <td>0.002926</td>\n      <td>-0.010090</td>\n      <td>0.004871</td>\n      <td>0.683295</td>\n      <td>-5.960464e-07</td>\n      <td>-0.693386</td>\n      <td>0.004871</td>\n      <td>-0.077790</td>\n      <td>-0.113647</td>\n      <td>2.066016</td>\n      <td>2.384186e-07</td>\n      <td>-2.143805</td>\n      <td>-0.113647</td>\n    </tr>\n    <tr>\n      <th>2023-08-31 23:00:00+00:00</th>\n      <td>25920.0</td>\n      <td>-0.046799</td>\n      <td>-0.001955</td>\n      <td>0.135274</td>\n      <td>-6.556511e-07</td>\n      <td>-0.182073</td>\n      <td>-0.001955</td>\n      <td>-0.014404</td>\n      <td>0.000976</td>\n      <td>0.683295</td>\n      <td>-5.960464e-07</td>\n      <td>-0.697699</td>\n      <td>0.000977</td>\n      <td>-0.081974</td>\n      <td>-0.116943</td>\n      <td>2.066016</td>\n      <td>2.384186e-07</td>\n      <td>-2.147990</td>\n      <td>-0.116943</td>\n    </tr>\n  </tbody>\n</table>\n<p>4416 rows × 19 columns</p>\n</div>"
     },
     "execution_count": 7,
     "metadata": {},
     "output_type": "execute_result"
    }
   ],
   "source": [
    "feat = get_features(df_train)\n",
    "feat"
   ],
   "metadata": {
    "collapsed": false,
    "ExecuteTime": {
     "end_time": "2023-12-01T14:26:09.785427800Z",
     "start_time": "2023-12-01T14:26:09.660889800Z"
    }
   },
   "id": "249ebefa68c5042a"
  },
  {
   "cell_type": "code",
   "execution_count": 10,
   "outputs": [
    {
     "data": {
      "text/plain": "19"
     },
     "execution_count": 10,
     "metadata": {},
     "output_type": "execute_result"
    }
   ],
   "source": [
    "features = feat.columns.tolist()\n",
    "# TODO - he has 174 total... but 19 x 14 = 266\n",
    "len(features)"
   ],
   "metadata": {
    "collapsed": false,
    "ExecuteTime": {
     "end_time": "2023-12-01T14:28:29.294052500Z",
     "start_time": "2023-12-01T14:28:29.232602100Z"
    }
   },
   "id": "8cef18821bfcd70b"
  },
  {
   "cell_type": "markdown",
   "source": [
    "# Training"
   ],
   "metadata": {
    "collapsed": false
   },
   "id": "a595d4aa4762f580"
  },
  {
   "cell_type": "code",
   "execution_count": null,
   "outputs": [],
   "source": [
    "oof = [ [] for id in range(14)   ]\n",
    "\n",
    "all_oof_pred = []\n",
    "all_oof_valid = []\n",
    "all_oof_weight = []\n",
    "\n",
    "\n",
    "print(f\"Training model for BTC\")\n",
    "\n",
    "oof_pred, oof_valid = get_Xy_and_model_for_asset(feat, asset_id)\n",
    "\n",
    "weight_temp = float( df_asset_details.loc[  df_asset_details['Asset_ID'] == asset_id  , 'Weight'   ]  )\n",
    "\n",
    "all_oof_pred += oof_pred\n",
    "all_oof_valid += oof_valid\n",
    "all_oof_weight += [weight_temp] * len(oof_pred)\n",
    "\n",
    "oof[asset_id] = corr_score(     np.array(oof_pred)   ,    np.array(oof_valid)    )\n",
    "\n",
    "print(f'OOF corr score of {asset_name} (ID={asset_id}) is {oof[asset_id]:.5f}. (Weight: {float(weight_temp):.5f})')\n",
    "print('')\n",
    "print('')"
   ],
   "metadata": {
    "collapsed": false
   },
   "id": "f510efb9afba0ab6"
  }
 ],
 "metadata": {
  "kernelspec": {
   "display_name": "Python 3",
   "language": "python",
   "name": "python3"
  },
  "language_info": {
   "codemirror_mode": {
    "name": "ipython",
    "version": 2
   },
   "file_extension": ".py",
   "mimetype": "text/x-python",
   "name": "python",
   "nbconvert_exporter": "python",
   "pygments_lexer": "ipython2",
   "version": "2.7.6"
  }
 },
 "nbformat": 4,
 "nbformat_minor": 5
}
