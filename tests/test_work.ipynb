{
 "cells": [
  {
   "cell_type": "code",
   "execution_count": 2,
   "metadata": {},
   "outputs": [],
   "source": [
    "from simple_price_predictor.constants import HISTORICAL_BITCOIN_CSV_FILEPATH\n",
    "from simple_price_predictor.train_helpers import (\n",
    "    load_raw_bitcoin_df,\n",
    "    make_tf_dataset,\n",
    "    get_optimizer,\n",
    ")\n",
    "import os\n",
    "import tensorflow as tf\n",
    "import numpy as np\n",
    "import pytest\n",
    "\n",
    "from tensorflow.keras.models import Sequential\n",
    "from tensorflow.keras.layers import Dense, LSTM\n",
    "from tensorflow.keras.metrics import RootMeanSquaredError\n",
    "from tensorflow.keras.optimizers import Adam, RMSprop\n",
    "from tensorflow.keras.callbacks import EarlyStopping, LearningRateScheduler"
   ]
  },
  {
   "cell_type": "code",
   "execution_count": 3,
   "metadata": {},
   "outputs": [],
   "source": [
    "opt = get_optimizer()"
   ]
  },
  {
   "cell_type": "code",
   "execution_count": 18,
   "metadata": {},
   "outputs": [
    {
     "data": {
      "text/plain": [
       "True"
      ]
     },
     "execution_count": 18,
     "metadata": {},
     "output_type": "execute_result"
    }
   ],
   "source": [
    "opt.learning_rate.numpy() == np.float32(1e-4)"
   ]
  },
  {
   "cell_type": "code",
   "execution_count": 19,
   "metadata": {},
   "outputs": [],
   "source": [
    "assert opt"
   ]
  },
  {
   "cell_type": "code",
   "execution_count": 10,
   "metadata": {},
   "outputs": [
    {
     "data": {
      "text/plain": [
       "True"
      ]
     },
     "execution_count": 10,
     "metadata": {},
     "output_type": "execute_result"
    }
   ],
   "source": [
    "type(opt)\n",
    "isinstance(opt, Adam)"
   ]
  },
  {
   "cell_type": "markdown",
   "metadata": {},
   "source": [
    "## Issues\n",
    "\n",
    "- What if batch_size, input_length, or output_length are greater than len(array)\n",
    "- What if we want output length to be 0 to just get the inference?"
   ]
  },
  {
   "cell_type": "code",
   "execution_count": 8,
   "metadata": {},
   "outputs": [
    {
     "name": "stdout",
     "output_type": "stream",
     "text": [
      "(1000000, 1)\n"
     ]
    },
    {
     "data": {
      "text/plain": [
       "<PrefetchDataset shapes: ((2, 10, 1), (2, 0, 1)), types: (tf.int64, tf.int64)>"
      ]
     },
     "execution_count": 8,
     "metadata": {},
     "output_type": "execute_result"
    }
   ],
   "source": [
    "array = np.arange(1000000).reshape(-1, 1)\n",
    "print(array.shape)\n",
    "input_length = 200\n",
    "output_length = 1\n",
    "batch_size = 1\n",
    "\n",
    "ds = make_tf_dataset(array, input_length, output_length, batch_size)\n",
    "ds"
   ]
  },
  {
   "cell_type": "code",
   "execution_count": 13,
   "metadata": {},
   "outputs": [
    {
     "name": "stdout",
     "output_type": "stream",
     "text": [
      "(2, 10, 1)\n",
      "(2, 0, 1)\n"
     ]
    }
   ],
   "source": [
    "for x in ds.take(1):\n",
    "    feature, target = x\n",
    "    print(feature.shape)\n",
    "    print(target.shape)"
   ]
  },
  {
   "cell_type": "code",
   "execution_count": 24,
   "metadata": {},
   "outputs": [
    {
     "data": {
      "text/plain": [
       "<PrefetchDataset shapes: ((1, 200, 1), (1, 0, 1)), types: (tf.int64, tf.int64)>"
      ]
     },
     "execution_count": 24,
     "metadata": {},
     "output_type": "execute_result"
    }
   ],
   "source": [
    "array = np.arange(200).reshape(-1, 1)\n",
    "in_ = 200\n",
    "out_ = 0\n",
    "batch = 1\n",
    "\n",
    "\n",
    "ds = make_tf_dataset(array, in_, out_, batch)\n",
    "ds"
   ]
  },
  {
   "cell_type": "code",
   "execution_count": 25,
   "metadata": {},
   "outputs": [
    {
     "data": {
      "text/plain": [
       "True"
      ]
     },
     "execution_count": 25,
     "metadata": {},
     "output_type": "execute_result"
    }
   ],
   "source": [
    "isinstance(array, np.ndarray)"
   ]
  },
  {
   "cell_type": "code",
   "execution_count": 23,
   "metadata": {},
   "outputs": [
    {
     "name": "stdout",
     "output_type": "stream",
     "text": [
      "Feature\n",
      "(1, 200, 1)\n",
      "Target\n",
      "(1, 0, 1)\n"
     ]
    }
   ],
   "source": [
    "for x in ds.take(1):\n",
    "    feature, target = x\n",
    "    print('Feature')\n",
    "    print(feature.shape)\n",
    "    print('Target')\n",
    "    print(target.shape)"
   ]
  },
  {
   "cell_type": "code",
   "execution_count": 20,
   "metadata": {},
   "outputs": [
    {
     "name": "stdout",
     "output_type": "stream",
     "text": [
      "<class 'NoneType'>\n",
      "<class 'NoneType'>\n",
      "<class 'NoneType'>\n"
     ]
    }
   ],
   "source": [
    "for x in [None, None, None]:\n",
    "    print(type(x))"
   ]
  },
  {
   "cell_type": "code",
   "execution_count": 27,
   "metadata": {},
   "outputs": [],
   "source": [
    "for thing in ds.take(10):\n",
    "    a, b = thing\n",
    "    print(type(a), type(b))"
   ]
  }
 ],
 "metadata": {
  "kernelspec": {
   "display_name": "Python 3.9.12 ('bitcoin')",
   "language": "python",
   "name": "python3"
  },
  "language_info": {
   "codemirror_mode": {
    "name": "ipython",
    "version": 3
   },
   "file_extension": ".py",
   "mimetype": "text/x-python",
   "name": "python",
   "nbconvert_exporter": "python",
   "pygments_lexer": "ipython3",
   "version": "3.9.12"
  },
  "orig_nbformat": 4,
  "vscode": {
   "interpreter": {
    "hash": "b1c7e686e33dccdbf2ae025899075f96284607f59b15d5b1f6cbb1b93f8e0a35"
   }
  }
 },
 "nbformat": 4,
 "nbformat_minor": 2
}
