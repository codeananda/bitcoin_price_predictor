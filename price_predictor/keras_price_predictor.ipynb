{
 "cells": [
  {
   "cell_type": "markdown",
   "id": "spoken-mixer",
   "metadata": {
    "id": "spoken-mixer"
   },
   "source": [
    "# First Attempts with Keras\n",
    "\n",
    "Let's have a play around and see what I can do. Let's just build a nice simple model, using the medium article as a follow along. \n",
    "\n",
    "# Necessary Imports"
   ]
  },
  {
   "cell_type": "code",
   "execution_count": 1,
   "id": "discrete-profit",
   "metadata": {
    "ExecuteTime": {
     "end_time": "2021-03-11T15:15:03.849729Z",
     "start_time": "2021-03-11T15:14:50.124133Z"
    },
    "executionInfo": {
     "elapsed": 2868,
     "status": "ok",
     "timestamp": 1615210764216,
     "user": {
      "displayName": "Adam Murphy",
      "photoUrl": "https://lh3.googleusercontent.com/a-/AOh14GhrEUWR1gM_kMZc1JaOXZTsyHAIY7wGzIWe3pircVE=s64",
      "userId": "08787610892899884155"
     },
     "user_tz": -120
    },
    "id": "discrete-profit"
   },
   "outputs": [],
   "source": [
    "import numpy as np\n",
    "import pandas as pd\n",
    "import matplotlib.pyplot as plt\n",
    "from pathlib import Path\n",
    "import seaborn as sns\n",
    "\n",
    "from tensorflow.keras import Input, Model\n",
    "from tensorflow.keras.layers import Dense, LSTM\n",
    "from tensorflow.keras.models import Sequential\n",
    "from tensorflow.keras.metrics import RootMeanSquaredError\n",
    "\n",
    "from sklearn.preprocessing import StandardScaler, MinMaxScaler\n",
    "min_max = MinMaxScaler()\n",
    "scaler = StandardScaler()\n",
    "\n",
    "DOWNLOAD_DIR = Path('../download')"
   ]
  },
  {
   "cell_type": "code",
   "execution_count": 2,
   "id": "incredible-princeton",
   "metadata": {
    "ExecuteTime": {
     "end_time": "2021-03-11T15:15:03.866182Z",
     "start_time": "2021-03-11T15:15:03.863485Z"
    },
    "executionInfo": {
     "elapsed": 2198,
     "status": "ok",
     "timestamp": 1615210764217,
     "user": {
      "displayName": "Adam Murphy",
      "photoUrl": "https://lh3.googleusercontent.com/a-/AOh14GhrEUWR1gM_kMZc1JaOXZTsyHAIY7wGzIWe3pircVE=s64",
      "userId": "08787610892899884155"
     },
     "user_tz": -120
    },
    "id": "incredible-princeton"
   },
   "outputs": [],
   "source": [
    "sns.set()"
   ]
  },
  {
   "cell_type": "code",
   "execution_count": 3,
   "id": "Bf_VIy7MEE7F",
   "metadata": {
    "ExecuteTime": {
     "end_time": "2021-03-11T15:15:06.728400Z",
     "start_time": "2021-03-11T15:15:03.878402Z"
    },
    "colab": {
     "base_uri": "https://localhost:8080/"
    },
    "executionInfo": {
     "elapsed": 3439,
     "status": "ok",
     "timestamp": 1615210953645,
     "user": {
      "displayName": "Adam Murphy",
      "photoUrl": "https://lh3.googleusercontent.com/a-/AOh14GhrEUWR1gM_kMZc1JaOXZTsyHAIY7wGzIWe3pircVE=s64",
      "userId": "08787610892899884155"
     },
     "user_tz": -120
    },
    "id": "Bf_VIy7MEE7F",
    "outputId": "55aa30bb-305e-450c-9c35-12485e6615ba"
   },
   "outputs": [
    {
     "name": "stderr",
     "output_type": "stream",
     "text": [
      "\u001b[34m\u001b[1mwandb\u001b[0m: Currently logged in as: \u001b[33mtheadammurphy\u001b[0m (use `wandb login --relogin` to force relogin)\n"
     ]
    },
    {
     "data": {
      "text/plain": [
       "True"
      ]
     },
     "execution_count": 3,
     "metadata": {},
     "output_type": "execute_result"
    }
   ],
   "source": [
    "# !pip install wandb -qqq\n",
    "import wandb\n",
    "from wandb.keras import WandbCallback\n",
    "wandb.login()"
   ]
  },
  {
   "cell_type": "code",
   "execution_count": 11,
   "id": "champion-smooth",
   "metadata": {
    "ExecuteTime": {
     "end_time": "2021-03-08T10:43:53.653180Z",
     "start_time": "2021-03-08T10:43:53.532414Z"
    },
    "executionInfo": {
     "elapsed": 2327,
     "status": "ok",
     "timestamp": 1615211886183,
     "user": {
      "displayName": "Adam Murphy",
      "photoUrl": "https://lh3.googleusercontent.com/a-/AOh14GhrEUWR1gM_kMZc1JaOXZTsyHAIY7wGzIWe3pircVE=s64",
      "userId": "08787610892899884155"
     },
     "user_tz": -120
    },
    "id": "champion-smooth"
   },
   "outputs": [],
   "source": [
    "# price = pd.read_csv(DOWNLOAD_DIR / 'price.csv')\n",
    "price = pd.read_csv('price.csv')\n",
    "close = price.loc[:, 'c']"
   ]
  },
  {
   "cell_type": "code",
   "execution_count": 21,
   "id": "handmade-childhood",
   "metadata": {
    "ExecuteTime": {
     "end_time": "2021-03-08T10:43:55.245707Z",
     "start_time": "2021-03-08T10:43:55.227837Z"
    },
    "colab": {
     "base_uri": "https://localhost:8080/",
     "height": 204
    },
    "executionInfo": {
     "elapsed": 704,
     "status": "ok",
     "timestamp": 1615204567670,
     "user": {
      "displayName": "Adam Murphy",
      "photoUrl": "https://lh3.googleusercontent.com/a-/AOh14GhrEUWR1gM_kMZc1JaOXZTsyHAIY7wGzIWe3pircVE=s64",
      "userId": "08787610892899884155"
     },
     "user_tz": -120
    },
    "id": "handmade-childhood",
    "outputId": "40cff362-243a-491d-d76a-9d651382bbd8"
   },
   "outputs": [
    {
     "data": {
      "text/html": [
       "<div>\n",
       "<style scoped>\n",
       "    .dataframe tbody tr th:only-of-type {\n",
       "        vertical-align: middle;\n",
       "    }\n",
       "\n",
       "    .dataframe tbody tr th {\n",
       "        vertical-align: top;\n",
       "    }\n",
       "\n",
       "    .dataframe thead th {\n",
       "        text-align: right;\n",
       "    }\n",
       "</style>\n",
       "<table border=\"1\" class=\"dataframe\">\n",
       "  <thead>\n",
       "    <tr style=\"text-align: right;\">\n",
       "      <th></th>\n",
       "      <th>timestamp</th>\n",
       "      <th>c</th>\n",
       "      <th>h</th>\n",
       "      <th>l</th>\n",
       "      <th>o</th>\n",
       "    </tr>\n",
       "  </thead>\n",
       "  <tbody>\n",
       "    <tr>\n",
       "      <th>0</th>\n",
       "      <td>2010-07-17T23:00:00Z</td>\n",
       "      <td>0.04951</td>\n",
       "      <td>0.04951</td>\n",
       "      <td>0.04951</td>\n",
       "      <td>0.04951</td>\n",
       "    </tr>\n",
       "    <tr>\n",
       "      <th>1</th>\n",
       "      <td>2010-07-18T00:00:00Z</td>\n",
       "      <td>NaN</td>\n",
       "      <td>NaN</td>\n",
       "      <td>NaN</td>\n",
       "      <td>NaN</td>\n",
       "    </tr>\n",
       "    <tr>\n",
       "      <th>2</th>\n",
       "      <td>2010-07-18T01:00:00Z</td>\n",
       "      <td>NaN</td>\n",
       "      <td>NaN</td>\n",
       "      <td>NaN</td>\n",
       "      <td>NaN</td>\n",
       "    </tr>\n",
       "    <tr>\n",
       "      <th>3</th>\n",
       "      <td>2010-07-18T02:00:00Z</td>\n",
       "      <td>NaN</td>\n",
       "      <td>NaN</td>\n",
       "      <td>NaN</td>\n",
       "      <td>NaN</td>\n",
       "    </tr>\n",
       "    <tr>\n",
       "      <th>4</th>\n",
       "      <td>2010-07-18T03:00:00Z</td>\n",
       "      <td>0.05941</td>\n",
       "      <td>0.05941</td>\n",
       "      <td>0.05941</td>\n",
       "      <td>0.05941</td>\n",
       "    </tr>\n",
       "  </tbody>\n",
       "</table>\n",
       "</div>"
      ],
      "text/plain": [
       "              timestamp        c        h        l        o\n",
       "0  2010-07-17T23:00:00Z  0.04951  0.04951  0.04951  0.04951\n",
       "1  2010-07-18T00:00:00Z      NaN      NaN      NaN      NaN\n",
       "2  2010-07-18T01:00:00Z      NaN      NaN      NaN      NaN\n",
       "3  2010-07-18T02:00:00Z      NaN      NaN      NaN      NaN\n",
       "4  2010-07-18T03:00:00Z  0.05941  0.05941  0.05941  0.05941"
      ]
     },
     "execution_count": 21,
     "metadata": {
      "tags": []
     },
     "output_type": "execute_result"
    }
   ],
   "source": [
    "price.head()"
   ]
  },
  {
   "cell_type": "code",
   "execution_count": 12,
   "id": "LUWgvGIfrz-p",
   "metadata": {
    "colab": {
     "base_uri": "https://localhost:8080/"
    },
    "executionInfo": {
     "elapsed": 2509,
     "status": "ok",
     "timestamp": 1615211890227,
     "user": {
      "displayName": "Adam Murphy",
      "photoUrl": "https://lh3.googleusercontent.com/a-/AOh14GhrEUWR1gM_kMZc1JaOXZTsyHAIY7wGzIWe3pircVE=s64",
      "userId": "08787610892899884155"
     },
     "user_tz": -120
    },
    "id": "LUWgvGIfrz-p",
    "outputId": "dfe72c8c-1c88-405f-d163-cf630caf38e9"
   },
   "outputs": [
    {
     "data": {
      "text/plain": [
       "(92974, 5)"
      ]
     },
     "execution_count": 12,
     "metadata": {
      "tags": []
     },
     "output_type": "execute_result"
    }
   ],
   "source": [
    "price.shape"
   ]
  },
  {
   "cell_type": "markdown",
   "id": "IXSrlMhwIk7U",
   "metadata": {
    "id": "IXSrlMhwIk7U"
   },
   "source": [
    "# First Attempt"
   ]
  },
  {
   "cell_type": "code",
   "execution_count": null,
   "id": "backed-width",
   "metadata": {
    "ExecuteTime": {
     "end_time": "2021-03-08T10:43:55.530632Z",
     "start_time": "2021-03-08T10:43:55.525603Z"
    },
    "id": "backed-width",
    "outputId": "21f3e208-10c8-49c0-c9be-99534623a67c"
   },
   "outputs": [
    {
     "data": {
      "text/plain": [
       "92969    47437.266848\n",
       "92970    47332.765754\n",
       "92971    47410.123970\n",
       "92972    45889.364858\n",
       "92973    47467.739097\n",
       "Name: c, dtype: float64"
      ]
     },
     "execution_count": 13,
     "metadata": {
      "tags": []
     },
     "output_type": "execute_result"
    }
   ],
   "source": [
    "close.tail()"
   ]
  },
  {
   "cell_type": "markdown",
   "id": "temporal-upper",
   "metadata": {
    "id": "temporal-upper"
   },
   "source": [
    "Let's take 1 year of data and use it to predict the next 30 days. "
   ]
  },
  {
   "cell_type": "code",
   "execution_count": null,
   "id": "catholic-queue",
   "metadata": {
    "ExecuteTime": {
     "end_time": "2021-02-26T17:00:00.722594Z",
     "start_time": "2021-02-26T17:00:00.719147Z"
    },
    "id": "catholic-queue"
   },
   "outputs": [],
   "source": [
    "prediction_days = 30\n",
    "one_year = 365\n",
    "# close[-365 - 2*30:].plot()\n",
    "\n",
    "close_train = close[(-one_year - 2 * prediction_days) : -2 * prediction_days] # [-365 - 60 : -60]\n",
    "close_val = close[-2 * prediction_days: -prediction_days] # [-60 : -30]\n",
    "close_test = close[-prediction_days:] # [-30:]"
   ]
  },
  {
   "cell_type": "code",
   "execution_count": null,
   "id": "amended-gabriel",
   "metadata": {
    "ExecuteTime": {
     "end_time": "2021-02-26T16:51:06.938641Z",
     "start_time": "2021-02-26T16:51:06.738620Z"
    },
    "id": "amended-gabriel",
    "outputId": "85c4887c-4388-4f5f-8009-380ee83bf59a"
   },
   "outputs": [
    {
     "data": {
      "text/plain": [
       "<AxesSubplot:>"
      ]
     },
     "execution_count": 50,
     "metadata": {
      "tags": []
     },
     "output_type": "execute_result"
    },
    {
     "data": {
      "image/png": "[encoded data removed]",
      "text/plain": [
       "<Figure size 432x288 with 1 Axes>"
      ]
     },
     "metadata": {
      "tags": []
     },
     "output_type": "display_data"
    }
   ],
   "source": [
    "close_train.plot()"
   ]
  },
  {
   "cell_type": "code",
   "execution_count": null,
   "id": "intelligent-current",
   "metadata": {
    "ExecuteTime": {
     "end_time": "2021-02-26T16:51:09.353616Z",
     "start_time": "2021-02-26T16:51:09.164623Z"
    },
    "id": "intelligent-current",
    "outputId": "d543a89e-86da-4cb3-e426-d59595ed830e"
   },
   "outputs": [
    {
     "data": {
      "text/plain": [
       "<AxesSubplot:>"
      ]
     },
     "execution_count": 51,
     "metadata": {
      "tags": []
     },
     "output_type": "execute_result"
    },
    {
     "data": {
      "image/png": "[encoded data removed]",
      "text/plain": [
       "<Figure size 432x288 with 1 Axes>"
      ]
     },
     "metadata": {
      "tags": []
     },
     "output_type": "display_data"
    }
   ],
   "source": [
    "close_val.plot()"
   ]
  },
  {
   "cell_type": "code",
   "execution_count": null,
   "id": "boxed-space",
   "metadata": {
    "ExecuteTime": {
     "end_time": "2021-02-26T16:51:13.813223Z",
     "start_time": "2021-02-26T16:51:13.628264Z"
    },
    "id": "boxed-space",
    "outputId": "ca6156bf-1cf4-49c6-f1da-62d7d188427c"
   },
   "outputs": [
    {
     "data": {
      "text/plain": [
       "<AxesSubplot:>"
      ]
     },
     "execution_count": 52,
     "metadata": {
      "tags": []
     },
     "output_type": "execute_result"
    },
    {
     "data": {
      "image/png": "[encoded data removed]",
      "text/plain": [
       "<Figure size 432x288 with 1 Axes>"
      ]
     },
     "metadata": {
      "tags": []
     },
     "output_type": "display_data"
    }
   ],
   "source": [
    "close_test.plot()"
   ]
  },
  {
   "cell_type": "code",
   "execution_count": null,
   "id": "prime-graduate",
   "metadata": {
    "ExecuteTime": {
     "end_time": "2021-02-25T10:55:38.103669Z",
     "start_time": "2021-02-25T10:55:38.096964Z"
    },
    "id": "prime-graduate",
    "outputId": "194123df-f41f-4dea-f7d5-df972569663d",
    "scrolled": true
   },
   "outputs": [
    {
     "data": {
      "text/plain": [
       "(92943, 92944)"
      ]
     },
     "execution_count": 28,
     "metadata": {
      "tags": []
     },
     "output_type": "execute_result"
    }
   ],
   "source": [
    "close_train.index[-1], close_test.index[0]"
   ]
  },
  {
   "cell_type": "code",
   "execution_count": null,
   "id": "blessed-brush",
   "metadata": {
    "ExecuteTime": {
     "end_time": "2021-02-26T16:52:34.667479Z",
     "start_time": "2021-02-26T16:52:34.662206Z"
    },
    "id": "blessed-brush",
    "outputId": "ae326496-9ced-46c4-9584-c70614cecd4c"
   },
   "outputs": [
    {
     "data": {
      "text/plain": [
       "(365,)"
      ]
     },
     "execution_count": 53,
     "metadata": {
      "tags": []
     },
     "output_type": "execute_result"
    }
   ],
   "source": [
    "close_train.shape"
   ]
  },
  {
   "cell_type": "code",
   "execution_count": null,
   "id": "alternate-restriction",
   "metadata": {
    "id": "alternate-restriction"
   },
   "outputs": [],
   "source": [
    "def train_val_test_split(sequences, targets):\n",
    "    "
   ]
  },
  {
   "cell_type": "code",
   "execution_count": null,
   "id": "official-crack",
   "metadata": {
    "ExecuteTime": {
     "end_time": "2021-02-26T17:00:08.757835Z",
     "start_time": "2021-02-26T17:00:08.752609Z"
    },
    "id": "official-crack"
   },
   "outputs": [],
   "source": [
    "# Prep for training\n",
    "training_set = close_train.values.reshape(-1, 1)\n",
    "training_set = min_max.fit_transform(training_set)\n",
    "training_set = training_set.reshape((-1, 1, 1))\n",
    "\n",
    "validation_set = close_val.values.reshape(-1, 1)\n",
    "validation_set = min_max.transform(validation_set)\n",
    "validation_set = validation_set.reshape((-1, 1, 1))\n",
    "\n",
    "# Prep for testing\n",
    "testing_set = close_test.values.reshape((-1, 1))\n",
    "testing_set = min_max.transform(testing_set)\n",
    "testing_set = testing_set.reshape((-1, 1, 1))\n",
    "\n",
    "# We are training to predict the next day's close\n",
    "# so cut off final val for X_train and start at index 1 for\n",
    "# y_train\n",
    "X_train = training_set[:-1]\n",
    "y_train = training_set[1:]\n",
    "\n",
    "X_val = validation_set[:-1]\n",
    "y_val = validation_set[1:]\n",
    "\n",
    "X_test = testing_set[:-1]\n",
    "y_test = testing_set[1:]"
   ]
  },
  {
   "cell_type": "code",
   "execution_count": null,
   "id": "identified-discipline",
   "metadata": {
    "ExecuteTime": {
     "end_time": "2021-02-26T17:00:52.061231Z",
     "start_time": "2021-02-26T17:00:10.000154Z"
    },
    "id": "identified-discipline",
    "outputId": "6731e379-e453-4637-8840-7bb778ed880e"
   },
   "outputs": [
    {
     "name": "stdout",
     "output_type": "stream",
     "text": [
      "Train on 364 samples, validate on 29 samples\n",
      "Epoch 1/100\n",
      "364/364 [==============================] - 5s 13ms/sample - loss: 0.1535 - root_mean_squared_error: 0.3917 - val_loss: 0.3875 - val_root_mean_squared_error: 0.6225\n",
      "Epoch 2/100\n",
      "364/364 [==============================] - 0s 930us/sample - loss: 0.0685 - root_mean_squared_error: 0.2618 - val_loss: 0.2199 - val_root_mean_squared_error: 0.4690\n",
      "Epoch 3/100\n",
      "364/364 [==============================] - 0s 947us/sample - loss: 0.0336 - root_mean_squared_error: 0.1832 - val_loss: 0.1264 - val_root_mean_squared_error: 0.3556\n",
      "Epoch 4/100\n",
      "364/364 [==============================] - 0s 998us/sample - loss: 0.0242 - root_mean_squared_error: 0.1555 - val_loss: 0.0827 - val_root_mean_squared_error: 0.2877\n",
      "Epoch 5/100\n",
      "364/364 [==============================] - 0s 1ms/sample - loss: 0.0226 - root_mean_squared_error: 0.1504 - val_loss: 0.0632 - val_root_mean_squared_error: 0.2513\n",
      "Epoch 6/100\n",
      "364/364 [==============================] - 0s 977us/sample - loss: 0.0215 - root_mean_squared_error: 0.1467 - val_loss: 0.0528 - val_root_mean_squared_error: 0.2299\n",
      "Epoch 7/100\n",
      "364/364 [==============================] - 0s 1ms/sample - loss: 0.0198 - root_mean_squared_error: 0.1409 - val_loss: 0.0456 - val_root_mean_squared_error: 0.2137\n",
      "Epoch 8/100\n",
      "364/364 [==============================] - 0s 996us/sample - loss: 0.0179 - root_mean_squared_error: 0.1337 - val_loss: 0.0395 - val_root_mean_squared_error: 0.1988\n",
      "Epoch 9/100\n",
      "364/364 [==============================] - 0s 990us/sample - loss: 0.0158 - root_mean_squared_error: 0.1259 - val_loss: 0.0339 - val_root_mean_squared_error: 0.1840\n",
      "Epoch 10/100\n",
      "364/364 [==============================] - 0s 1ms/sample - loss: 0.0138 - root_mean_squared_error: 0.1176 - val_loss: 0.0286 - val_root_mean_squared_error: 0.1692\n",
      "Epoch 11/100\n",
      "364/364 [==============================] - 0s 1ms/sample - loss: 0.0119 - root_mean_squared_error: 0.1089 - val_loss: 0.0238 - val_root_mean_squared_error: 0.1544\n",
      "Epoch 12/100\n",
      "364/364 [==============================] - 0s 1ms/sample - loss: 0.0100 - root_mean_squared_error: 0.1001 - val_loss: 0.0195 - val_root_mean_squared_error: 0.1396\n",
      "Epoch 13/100\n",
      "364/364 [==============================] - 0s 1ms/sample - loss: 0.0083 - root_mean_squared_error: 0.0911 - val_loss: 0.0156 - val_root_mean_squared_error: 0.1251\n",
      "Epoch 14/100\n",
      "364/364 [==============================] - 0s 1ms/sample - loss: 0.0067 - root_mean_squared_error: 0.0821 - val_loss: 0.0123 - val_root_mean_squared_error: 0.1111\n",
      "Epoch 15/100\n",
      "364/364 [==============================] - 0s 1ms/sample - loss: 0.0054 - root_mean_squared_error: 0.0733 - val_loss: 0.0096 - val_root_mean_squared_error: 0.0977\n",
      "Epoch 16/100\n",
      "364/364 [==============================] - 0s 1ms/sample - loss: 0.0042 - root_mean_squared_error: 0.0648 - val_loss: 0.0073 - val_root_mean_squared_error: 0.0853\n",
      "Epoch 17/100\n",
      "364/364 [==============================] - 0s 1ms/sample - loss: 0.0032 - root_mean_squared_error: 0.0567 - val_loss: 0.0055 - val_root_mean_squared_error: 0.0740\n",
      "Epoch 18/100\n",
      "364/364 [==============================] - 0s 1ms/sample - loss: 0.0024 - root_mean_squared_error: 0.0492 - val_loss: 0.0041 - val_root_mean_squared_error: 0.0641\n",
      "Epoch 19/100\n",
      "364/364 [==============================] - 0s 1ms/sample - loss: 0.0018 - root_mean_squared_error: 0.0426 - val_loss: 0.0031 - val_root_mean_squared_error: 0.0556\n",
      "Epoch 20/100\n",
      "364/364 [==============================] - 1s 1ms/sample - loss: 0.0014 - root_mean_squared_error: 0.0368 - val_loss: 0.0024 - val_root_mean_squared_error: 0.0485\n",
      "Epoch 21/100\n",
      "364/364 [==============================] - 0s 1ms/sample - loss: 0.0010 - root_mean_squared_error: 0.0321 - val_loss: 0.0018 - val_root_mean_squared_error: 0.0430\n",
      "Epoch 22/100\n",
      "364/364 [==============================] - 0s 1ms/sample - loss: 8.1116e-04 - root_mean_squared_error: 0.0285 - val_loss: 0.0015 - val_root_mean_squared_error: 0.0388\n",
      "Epoch 23/100\n",
      "364/364 [==============================] - 0s 1ms/sample - loss: 6.6867e-04 - root_mean_squared_error: 0.0259 - val_loss: 0.0013 - val_root_mean_squared_error: 0.0357\n",
      "Epoch 24/100\n",
      "364/364 [==============================] - 0s 1ms/sample - loss: 5.8133e-04 - root_mean_squared_error: 0.0241 - val_loss: 0.0011 - val_root_mean_squared_error: 0.0336\n",
      "Epoch 25/100\n",
      "364/364 [==============================] - 0s 1ms/sample - loss: 5.3083e-04 - root_mean_squared_error: 0.0230 - val_loss: 0.0010 - val_root_mean_squared_error: 0.0321\n",
      "Epoch 26/100\n",
      "364/364 [==============================] - 0s 1ms/sample - loss: 5.0351e-04 - root_mean_squared_error: 0.0224 - val_loss: 9.6821e-04 - val_root_mean_squared_error: 0.0311\n",
      "Epoch 27/100\n",
      "364/364 [==============================] - 0s 1ms/sample - loss: 4.8989e-04 - root_mean_squared_error: 0.0221 - val_loss: 9.2610e-04 - val_root_mean_squared_error: 0.0304\n",
      "Epoch 28/100\n",
      "364/364 [==============================] - 0s 1ms/sample - loss: 4.8383e-04 - root_mean_squared_error: 0.0220 - val_loss: 8.9753e-04 - val_root_mean_squared_error: 0.0300\n",
      "Epoch 29/100\n",
      "364/364 [==============================] - 0s 1ms/sample - loss: 4.8158e-04 - root_mean_squared_error: 0.0219 - val_loss: 8.7753e-04 - val_root_mean_squared_error: 0.0296\n",
      "Epoch 30/100\n",
      "364/364 [==============================] - 0s 1ms/sample - loss: 4.8105e-04 - root_mean_squared_error: 0.0219 - val_loss: 8.6295e-04 - val_root_mean_squared_error: 0.0294\n",
      "Epoch 31/100\n",
      "364/364 [==============================] - 0s 1ms/sample - loss: 4.8114e-04 - root_mean_squared_error: 0.0219 - val_loss: 8.5184e-04 - val_root_mean_squared_error: 0.0292\n",
      "Epoch 32/100\n",
      "364/364 [==============================] - 0s 1ms/sample - loss: 4.8133e-04 - root_mean_squared_error: 0.0219 - val_loss: 8.4294e-04 - val_root_mean_squared_error: 0.0290\n",
      "Epoch 33/100\n",
      "364/364 [==============================] - 0s 1ms/sample - loss: 4.8139e-04 - root_mean_squared_error: 0.0219 - val_loss: 8.3547e-04 - val_root_mean_squared_error: 0.0289\n",
      "Epoch 34/100\n",
      "364/364 [==============================] - 0s 1ms/sample - loss: 4.8126e-04 - root_mean_squared_error: 0.0219 - val_loss: 8.2895e-04 - val_root_mean_squared_error: 0.0288\n",
      "Epoch 35/100\n",
      "364/364 [==============================] - 0s 1ms/sample - loss: 4.8096e-04 - root_mean_squared_error: 0.0219 - val_loss: 8.2311e-04 - val_root_mean_squared_error: 0.0287\n",
      "Epoch 36/100\n",
      "364/364 [==============================] - 0s 1ms/sample - loss: 4.8050e-04 - root_mean_squared_error: 0.0219 - val_loss: 8.1776e-04 - val_root_mean_squared_error: 0.0286\n",
      "Epoch 37/100\n",
      "364/364 [==============================] - 0s 1ms/sample - loss: 4.7991e-04 - root_mean_squared_error: 0.0219 - val_loss: 8.1282e-04 - val_root_mean_squared_error: 0.0285\n",
      "Epoch 38/100\n",
      "364/364 [==============================] - 0s 1ms/sample - loss: 4.7922e-04 - root_mean_squared_error: 0.0219 - val_loss: 8.0826e-04 - val_root_mean_squared_error: 0.0284\n",
      "Epoch 39/100\n",
      "364/364 [==============================] - 0s 1ms/sample - loss: 4.7846e-04 - root_mean_squared_error: 0.0219 - val_loss: 8.0405e-04 - val_root_mean_squared_error: 0.0284\n",
      "Epoch 40/100\n",
      "364/364 [==============================] - 0s 1ms/sample - loss: 4.7764e-04 - root_mean_squared_error: 0.0219 - val_loss: 8.0021e-04 - val_root_mean_squared_error: 0.0283\n",
      "Epoch 41/100\n",
      "364/364 [==============================] - 0s 1ms/sample - loss: 4.7677e-04 - root_mean_squared_error: 0.0218 - val_loss: 7.9673e-04 - val_root_mean_squared_error: 0.0282\n",
      "Epoch 42/100\n",
      "364/364 [==============================] - 0s 1ms/sample - loss: 4.7587e-04 - root_mean_squared_error: 0.0218 - val_loss: 7.9361e-04 - val_root_mean_squared_error: 0.0282\n",
      "Epoch 43/100\n",
      "364/364 [==============================] - 0s 1ms/sample - loss: 4.7494e-04 - root_mean_squared_error: 0.0218 - val_loss: 7.9088e-04 - val_root_mean_squared_error: 0.0281\n",
      "Epoch 44/100\n",
      "364/364 [==============================] - 0s 1ms/sample - loss: 4.7399e-04 - root_mean_squared_error: 0.0218 - val_loss: 7.8852e-04 - val_root_mean_squared_error: 0.0281\n",
      "Epoch 45/100\n",
      "364/364 [==============================] - 0s 1ms/sample - loss: 4.7303e-04 - root_mean_squared_error: 0.0217 - val_loss: 7.8653e-04 - val_root_mean_squared_error: 0.0280\n",
      "Epoch 46/100\n",
      "364/364 [==============================] - 0s 975us/sample - loss: 4.7207e-04 - root_mean_squared_error: 0.0217 - val_loss: 7.8489e-04 - val_root_mean_squared_error: 0.0280\n",
      "Epoch 47/100\n",
      "364/364 [==============================] - 0s 990us/sample - loss: 4.7112e-04 - root_mean_squared_error: 0.0217 - val_loss: 7.8360e-04 - val_root_mean_squared_error: 0.0280\n",
      "Epoch 48/100\n",
      "364/364 [==============================] - 0s 997us/sample - loss: 4.7019e-04 - root_mean_squared_error: 0.0217 - val_loss: 7.8263e-04 - val_root_mean_squared_error: 0.0280\n",
      "Epoch 49/100\n",
      "364/364 [==============================] - 0s 1ms/sample - loss: 4.6928e-04 - root_mean_squared_error: 0.0217 - val_loss: 7.8196e-04 - val_root_mean_squared_error: 0.0280\n",
      "Epoch 50/100\n",
      "364/364 [==============================] - 0s 993us/sample - loss: 4.6840e-04 - root_mean_squared_error: 0.0216 - val_loss: 7.8155e-04 - val_root_mean_squared_error: 0.0280\n",
      "Epoch 51/100\n",
      "364/364 [==============================] - 0s 999us/sample - loss: 4.6756e-04 - root_mean_squared_error: 0.0216 - val_loss: 7.8139e-04 - val_root_mean_squared_error: 0.0280\n",
      "Epoch 52/100\n",
      "364/364 [==============================] - 0s 1000us/sample - loss: 4.6676e-04 - root_mean_squared_error: 0.0216 - val_loss: 7.8145e-04 - val_root_mean_squared_error: 0.0280\n",
      "Epoch 53/100\n",
      "364/364 [==============================] - 0s 1ms/sample - loss: 4.6600e-04 - root_mean_squared_error: 0.0216 - val_loss: 7.8169e-04 - val_root_mean_squared_error: 0.0280\n",
      "Epoch 54/100\n",
      "364/364 [==============================] - 0s 1ms/sample - loss: 4.6531e-04 - root_mean_squared_error: 0.0216 - val_loss: 7.8209e-04 - val_root_mean_squared_error: 0.0280\n",
      "Epoch 55/100\n",
      "364/364 [==============================] - 0s 1ms/sample - loss: 4.6466e-04 - root_mean_squared_error: 0.0216 - val_loss: 7.8263e-04 - val_root_mean_squared_error: 0.0280\n",
      "Epoch 56/100\n",
      "364/364 [==============================] - 0s 1ms/sample - loss: 4.6408e-04 - root_mean_squared_error: 0.0215 - val_loss: 7.8327e-04 - val_root_mean_squared_error: 0.0280\n",
      "Epoch 57/100\n",
      "364/364 [==============================] - 0s 965us/sample - loss: 4.6356e-04 - root_mean_squared_error: 0.0215 - val_loss: 7.8401e-04 - val_root_mean_squared_error: 0.0280\n",
      "Epoch 58/100\n",
      "364/364 [==============================] - 0s 1ms/sample - loss: 4.6310e-04 - root_mean_squared_error: 0.0215 - val_loss: 7.8483e-04 - val_root_mean_squared_error: 0.0280\n",
      "Epoch 59/100\n",
      "364/364 [==============================] - 0s 1ms/sample - loss: 4.6269e-04 - root_mean_squared_error: 0.0215 - val_loss: 7.8570e-04 - val_root_mean_squared_error: 0.0280\n",
      "Epoch 60/100\n",
      "364/364 [==============================] - 0s 1ms/sample - loss: 4.6235e-04 - root_mean_squared_error: 0.0215 - val_loss: 7.8662e-04 - val_root_mean_squared_error: 0.0280\n",
      "Epoch 61/100\n",
      "364/364 [==============================] - 0s 1ms/sample - loss: 4.6207e-04 - root_mean_squared_error: 0.0215 - val_loss: 7.8757e-04 - val_root_mean_squared_error: 0.0281\n",
      "Epoch 62/100\n",
      "364/364 [==============================] - 0s 1ms/sample - loss: 4.6184e-04 - root_mean_squared_error: 0.0215 - val_loss: 7.8856e-04 - val_root_mean_squared_error: 0.0281\n",
      "Epoch 63/100\n",
      "364/364 [==============================] - 0s 1ms/sample - loss: 4.6167e-04 - root_mean_squared_error: 0.0215 - val_loss: 7.8956e-04 - val_root_mean_squared_error: 0.0281\n",
      "Epoch 64/100\n",
      "364/364 [==============================] - 0s 1ms/sample - loss: 4.6154e-04 - root_mean_squared_error: 0.0215 - val_loss: 7.9057e-04 - val_root_mean_squared_error: 0.0281\n",
      "Epoch 65/100\n",
      "364/364 [==============================] - 0s 1ms/sample - loss: 4.6146e-04 - root_mean_squared_error: 0.0215 - val_loss: 7.9160e-04 - val_root_mean_squared_error: 0.0281\n",
      "Epoch 66/100\n",
      "364/364 [==============================] - 0s 962us/sample - loss: 4.6143e-04 - root_mean_squared_error: 0.0215 - val_loss: 7.9263e-04 - val_root_mean_squared_error: 0.0282\n",
      "Epoch 67/100\n",
      "364/364 [==============================] - 0s 993us/sample - loss: 4.6144e-04 - root_mean_squared_error: 0.0215 - val_loss: 7.9367e-04 - val_root_mean_squared_error: 0.0282\n",
      "Epoch 68/100\n",
      "364/364 [==============================] - 0s 991us/sample - loss: 4.6148e-04 - root_mean_squared_error: 0.0215 - val_loss: 7.9471e-04 - val_root_mean_squared_error: 0.0282\n",
      "Epoch 69/100\n",
      "364/364 [==============================] - 0s 985us/sample - loss: 4.6156e-04 - root_mean_squared_error: 0.0215 - val_loss: 7.9575e-04 - val_root_mean_squared_error: 0.0282\n",
      "Epoch 70/100\n",
      "364/364 [==============================] - 0s 954us/sample - loss: 4.6167e-04 - root_mean_squared_error: 0.0215 - val_loss: 7.9679e-04 - val_root_mean_squared_error: 0.0282\n",
      "Epoch 71/100\n",
      "364/364 [==============================] - 0s 951us/sample - loss: 4.6180e-04 - root_mean_squared_error: 0.0215 - val_loss: 7.9783e-04 - val_root_mean_squared_error: 0.0282\n",
      "Epoch 72/100\n",
      "364/364 [==============================] - 0s 970us/sample - loss: 4.6196e-04 - root_mean_squared_error: 0.0215 - val_loss: 7.9886e-04 - val_root_mean_squared_error: 0.0283\n",
      "Epoch 73/100\n",
      "364/364 [==============================] - 0s 989us/sample - loss: 4.6214e-04 - root_mean_squared_error: 0.0215 - val_loss: 7.9990e-04 - val_root_mean_squared_error: 0.0283\n",
      "Epoch 74/100\n",
      "364/364 [==============================] - 0s 968us/sample - loss: 4.6233e-04 - root_mean_squared_error: 0.0215 - val_loss: 8.0092e-04 - val_root_mean_squared_error: 0.0283\n",
      "Epoch 75/100\n",
      "364/364 [==============================] - 0s 988us/sample - loss: 4.6254e-04 - root_mean_squared_error: 0.0215 - val_loss: 8.0195e-04 - val_root_mean_squared_error: 0.0283\n",
      "Epoch 76/100\n",
      "364/364 [==============================] - 0s 1ms/sample - loss: 4.6277e-04 - root_mean_squared_error: 0.0215 - val_loss: 8.0297e-04 - val_root_mean_squared_error: 0.0283\n",
      "Epoch 77/100\n",
      "364/364 [==============================] - 0s 963us/sample - loss: 4.6300e-04 - root_mean_squared_error: 0.0215 - val_loss: 8.0399e-04 - val_root_mean_squared_error: 0.0284\n",
      "Epoch 78/100\n",
      "364/364 [==============================] - 0s 970us/sample - loss: 4.6324e-04 - root_mean_squared_error: 0.0215 - val_loss: 8.0500e-04 - val_root_mean_squared_error: 0.0284\n",
      "Epoch 79/100\n",
      "364/364 [==============================] - 0s 988us/sample - loss: 4.6349e-04 - root_mean_squared_error: 0.0215 - val_loss: 8.0600e-04 - val_root_mean_squared_error: 0.0284\n",
      "Epoch 80/100\n",
      "364/364 [==============================] - 0s 967us/sample - loss: 4.6374e-04 - root_mean_squared_error: 0.0215 - val_loss: 8.0700e-04 - val_root_mean_squared_error: 0.0284\n",
      "Epoch 81/100\n",
      "364/364 [==============================] - 0s 989us/sample - loss: 4.6400e-04 - root_mean_squared_error: 0.0215 - val_loss: 8.0799e-04 - val_root_mean_squared_error: 0.0284\n",
      "Epoch 82/100\n",
      "364/364 [==============================] - 0s 950us/sample - loss: 4.6425e-04 - root_mean_squared_error: 0.0215 - val_loss: 8.0896e-04 - val_root_mean_squared_error: 0.0284\n",
      "Epoch 83/100\n",
      "364/364 [==============================] - 0s 991us/sample - loss: 4.6451e-04 - root_mean_squared_error: 0.0216 - val_loss: 8.0993e-04 - val_root_mean_squared_error: 0.0285\n",
      "Epoch 84/100\n",
      "364/364 [==============================] - 0s 992us/sample - loss: 4.6476e-04 - root_mean_squared_error: 0.0216 - val_loss: 8.1089e-04 - val_root_mean_squared_error: 0.0285\n",
      "Epoch 85/100\n",
      "364/364 [==============================] - 0s 1ms/sample - loss: 4.6500e-04 - root_mean_squared_error: 0.0216 - val_loss: 8.1183e-04 - val_root_mean_squared_error: 0.0285\n",
      "Epoch 86/100\n",
      "364/364 [==============================] - 0s 968us/sample - loss: 4.6525e-04 - root_mean_squared_error: 0.0216 - val_loss: 8.1276e-04 - val_root_mean_squared_error: 0.0285\n",
      "Epoch 87/100\n",
      "364/364 [==============================] - 0s 966us/sample - loss: 4.6548e-04 - root_mean_squared_error: 0.0216 - val_loss: 8.1368e-04 - val_root_mean_squared_error: 0.0285\n",
      "Epoch 88/100\n",
      "364/364 [==============================] - 0s 942us/sample - loss: 4.6572e-04 - root_mean_squared_error: 0.0216 - val_loss: 8.1458e-04 - val_root_mean_squared_error: 0.0285\n",
      "Epoch 89/100\n",
      "364/364 [==============================] - 0s 959us/sample - loss: 4.6594e-04 - root_mean_squared_error: 0.0216 - val_loss: 8.1546e-04 - val_root_mean_squared_error: 0.0286\n",
      "Epoch 90/100\n"
     ]
    },
    {
     "name": "stdout",
     "output_type": "stream",
     "text": [
      "364/364 [==============================] - 0s 927us/sample - loss: 4.6616e-04 - root_mean_squared_error: 0.0216 - val_loss: 8.1631e-04 - val_root_mean_squared_error: 0.0286\n",
      "Epoch 91/100\n",
      "364/364 [==============================] - 0s 883us/sample - loss: 4.6636e-04 - root_mean_squared_error: 0.0216 - val_loss: 8.1715e-04 - val_root_mean_squared_error: 0.0286\n",
      "Epoch 92/100\n",
      "364/364 [==============================] - 0s 889us/sample - loss: 4.6656e-04 - root_mean_squared_error: 0.0216 - val_loss: 8.1797e-04 - val_root_mean_squared_error: 0.0286\n",
      "Epoch 93/100\n",
      "364/364 [==============================] - 0s 872us/sample - loss: 4.6676e-04 - root_mean_squared_error: 0.0216 - val_loss: 8.1876e-04 - val_root_mean_squared_error: 0.0286\n",
      "Epoch 94/100\n",
      "364/364 [==============================] - 0s 831us/sample - loss: 4.6694e-04 - root_mean_squared_error: 0.0216 - val_loss: 8.1953e-04 - val_root_mean_squared_error: 0.0286\n",
      "Epoch 95/100\n",
      "364/364 [==============================] - 0s 846us/sample - loss: 4.6711e-04 - root_mean_squared_error: 0.0216 - val_loss: 8.2027e-04 - val_root_mean_squared_error: 0.0286\n",
      "Epoch 96/100\n",
      "364/364 [==============================] - 0s 839us/sample - loss: 4.6728e-04 - root_mean_squared_error: 0.0216 - val_loss: 8.2098e-04 - val_root_mean_squared_error: 0.0287\n",
      "Epoch 97/100\n",
      "364/364 [==============================] - 0s 848us/sample - loss: 4.6743e-04 - root_mean_squared_error: 0.0216 - val_loss: 8.2167e-04 - val_root_mean_squared_error: 0.0287\n",
      "Epoch 98/100\n",
      "364/364 [==============================] - 0s 824us/sample - loss: 4.6758e-04 - root_mean_squared_error: 0.0216 - val_loss: 8.2233e-04 - val_root_mean_squared_error: 0.0287\n",
      "Epoch 99/100\n",
      "364/364 [==============================] - 0s 857us/sample - loss: 4.6772e-04 - root_mean_squared_error: 0.0216 - val_loss: 8.2297e-04 - val_root_mean_squared_error: 0.0287\n",
      "Epoch 100/100\n",
      "364/364 [==============================] - 0s 846us/sample - loss: 4.6785e-04 - root_mean_squared_error: 0.0216 - val_loss: 8.2358e-04 - val_root_mean_squared_error: 0.0287\n"
     ]
    }
   ],
   "source": [
    "regressor = Sequential([\n",
    "    LSTM(4),\n",
    "    Dense(1)\n",
    "])\n",
    "regressor.compile(optimizer='adam', \n",
    "                  loss='mse',\n",
    "                  metrics=[RootMeanSquaredError()])\n",
    "\n",
    "history = regressor.fit(X_train, \n",
    "                        y_train, \n",
    "                        batch_size=5, \n",
    "                        epochs=100,\n",
    "                        shuffle=False,\n",
    "                        validation_data=(X_val, y_val))"
   ]
  },
  {
   "cell_type": "code",
   "execution_count": null,
   "id": "aboriginal-storm",
   "metadata": {
    "ExecuteTime": {
     "end_time": "2021-02-26T14:33:19.187809Z",
     "start_time": "2021-02-26T14:33:19.184710Z"
    },
    "id": "aboriginal-storm",
    "outputId": "fe8e3d66-e235-434a-ac59-340a8fd2bc01"
   },
   "outputs": [
    {
     "data": {
      "text/plain": [
       "dict_keys(['loss', 'root_mean_squared_error', 'val_loss', 'val_root_mean_squared_error'])"
      ]
     },
     "execution_count": 18,
     "metadata": {
      "tags": []
     },
     "output_type": "execute_result"
    }
   ],
   "source": [
    "history.history.keys()"
   ]
  },
  {
   "cell_type": "code",
   "execution_count": null,
   "id": "verified-senator",
   "metadata": {
    "ExecuteTime": {
     "end_time": "2021-02-26T17:01:19.114591Z",
     "start_time": "2021-02-26T17:01:18.902102Z"
    },
    "id": "verified-senator",
    "outputId": "0a84e300-9b86-477f-d263-c811bbe8888e"
   },
   "outputs": [
    {
     "data": {
      "image/png": "[encoded data removed]",
      "text/plain": [
       "<Figure size 432x288 with 1 Axes>"
      ]
     },
     "metadata": {
      "tags": []
     },
     "output_type": "display_data"
    }
   ],
   "source": [
    "rmse = history.history['root_mean_squared_error']\n",
    "val_rmse = history.history['val_root_mean_squared_error']\n",
    "\n",
    "fig, ax = plt.subplots()\n",
    "plt.plot(rmse, 'b', label='RMSE')\n",
    "plt.plot(val_rmse, 'r', label='Val RMSE')\n",
    "ax.set(xlabel='Epoch', ylabel='RMSE',\n",
    "      title='Validation set error metric - RMSE')\n",
    "# plt.yticks([0, .1, .2, .3, .4])\n",
    "plt.legend()\n",
    "plt.show()"
   ]
  },
  {
   "cell_type": "code",
   "execution_count": null,
   "id": "isolated-oriental",
   "metadata": {
    "ExecuteTime": {
     "end_time": "2021-02-26T17:01:35.887522Z",
     "start_time": "2021-02-26T17:01:35.883334Z"
    },
    "id": "isolated-oriental",
    "outputId": "c1322ff6-bc4d-4428-e79f-a8d9dbff23d8"
   },
   "outputs": [
    {
     "data": {
      "text/plain": [
       "(0.02795342, 50)"
      ]
     },
     "execution_count": 68,
     "metadata": {
      "tags": []
     },
     "output_type": "execute_result"
    }
   ],
   "source": [
    "# Smallest rmse\n",
    "min(val_rmse), np.argmin(val_rmse)"
   ]
  },
  {
   "cell_type": "code",
   "execution_count": null,
   "id": "renewable-alberta",
   "metadata": {
    "ExecuteTime": {
     "end_time": "2021-02-26T17:16:52.971183Z",
     "start_time": "2021-02-26T17:16:52.967905Z"
    },
    "id": "renewable-alberta",
    "outputId": "eaabff4f-e632-4185-ce1d-5d1174a39d31"
   },
   "outputs": [
    {
     "data": {
      "text/plain": [
       "0.028698"
      ]
     },
     "execution_count": 84,
     "metadata": {
      "tags": []
     },
     "output_type": "execute_result"
    }
   ],
   "source": [
    "val_rmse[-1]"
   ]
  },
  {
   "cell_type": "markdown",
   "id": "manual-department",
   "metadata": {
    "id": "manual-department"
   },
   "source": [
    "~3% of max change in dataset. We think this is not very good. A 3% price change is significant. Hard to interpret. "
   ]
  },
  {
   "cell_type": "code",
   "execution_count": null,
   "id": "accessible-retailer",
   "metadata": {
    "ExecuteTime": {
     "end_time": "2021-02-26T17:01:52.131850Z",
     "start_time": "2021-02-26T17:01:52.127757Z"
    },
    "id": "accessible-retailer",
    "outputId": "d73333e3-8124-4a91-dcaf-719d50f1bede"
   },
   "outputs": [
    {
     "data": {
      "text/plain": [
       "(0.0007813936611236041, 50)"
      ]
     },
     "execution_count": 70,
     "metadata": {
      "tags": []
     },
     "output_type": "execute_result"
    }
   ],
   "source": [
    "# Smallest loss\n",
    "min(val_loss), np.argmin(val_loss)"
   ]
  },
  {
   "cell_type": "code",
   "execution_count": null,
   "id": "outer-treasurer",
   "metadata": {
    "ExecuteTime": {
     "end_time": "2021-02-26T17:16:40.075030Z",
     "start_time": "2021-02-26T17:16:40.071544Z"
    },
    "id": "outer-treasurer",
    "outputId": "775ebd9c-5ed9-4418-fc81-a7a93f3e82b5"
   },
   "outputs": [
    {
     "data": {
      "text/plain": [
       "0.028698"
      ]
     },
     "execution_count": 83,
     "metadata": {
      "tags": []
     },
     "output_type": "execute_result"
    }
   ],
   "source": [
    "history.history['val_root_mean_squared_error'][-1]"
   ]
  },
  {
   "cell_type": "code",
   "execution_count": null,
   "id": "drawn-relevance",
   "metadata": {
    "ExecuteTime": {
     "end_time": "2021-02-26T17:07:28.049492Z",
     "start_time": "2021-02-26T17:07:27.832832Z"
    },
    "id": "drawn-relevance",
    "outputId": "5b981350-956c-4e64-a454-bff7536e2741"
   },
   "outputs": [
    {
     "data": {
      "image/png": "[encoded data removed]",
      "text/plain": [
       "<Figure size 432x288 with 1 Axes>"
      ]
     },
     "metadata": {
      "tags": []
     },
     "output_type": "display_data"
    }
   ],
   "source": [
    "loss = history.history['loss']\n",
    "val_loss = history.history['val_loss']\n",
    "\n",
    "fig, ax = plt.subplots()\n",
    "plt.plot(loss, 'b', label='Loss (MSE)')\n",
    "plt.plot(val_loss, 'r', label='Val Loss (MSE)')\n",
    "ax.set(xlabel='Epochs', ylabel='Loss (MSE)',\n",
    "      title='Loss function - MSE')\n",
    "plt.show()"
   ]
  },
  {
   "cell_type": "code",
   "execution_count": null,
   "id": "social-seeking",
   "metadata": {
    "ExecuteTime": {
     "end_time": "2021-02-26T17:07:29.712905Z",
     "start_time": "2021-02-26T17:07:28.900515Z"
    },
    "id": "social-seeking"
   },
   "outputs": [],
   "source": [
    "predicted_price = regressor.predict(X_test)\n",
    "predicted_price = min_max.inverse_transform(predicted_price)"
   ]
  },
  {
   "cell_type": "code",
   "execution_count": null,
   "id": "existing-fraction",
   "metadata": {
    "ExecuteTime": {
     "end_time": "2021-02-26T17:10:13.545982Z",
     "start_time": "2021-02-26T17:10:13.274792Z"
    },
    "id": "existing-fraction",
    "outputId": "05d630c2-c9c6-4ae3-ad24-233dd12db9b0"
   },
   "outputs": [
    {
     "data": {
      "image/png": "[encoded data removed]",
      "text/plain": [
       "<Figure size 720x432 with 1 Axes>"
      ]
     },
     "metadata": {
      "tags": []
     },
     "output_type": "display_data"
    }
   ],
   "source": [
    "# Need to inverse transform to get correct y-axis values\n",
    "fig, ax = plt.subplots(figsize=(10, 6))\n",
    "plt.plot(regressor.predict(X_test), 'r', label='Forecast')\n",
    "plt.plot(np.ravel(y_test), 'b', label='BTC price')\n",
    "plt.legend()\n",
    "ax.set(xlabel='Days', ylabel='BTC Price (min/max scaled)',\n",
    "      title='Forecast with LSTM(4) Sequential Model')\n",
    "plt.show()"
   ]
  },
  {
   "cell_type": "markdown",
   "id": "employed-railway",
   "metadata": {
    "id": "employed-railway"
   },
   "source": [
    "This is expected (from a model doing a very bad job). Trained on bull data and validated on bear data. "
   ]
  },
  {
   "cell_type": "code",
   "execution_count": null,
   "id": "municipal-europe",
   "metadata": {
    "ExecuteTime": {
     "end_time": "2021-02-26T17:08:49.610687Z",
     "start_time": "2021-02-26T17:08:49.479231Z"
    },
    "id": "municipal-europe",
    "outputId": "c462ef90-1d36-4fd5-c3cf-732d6671d29e"
   },
   "outputs": [
    {
     "data": {
      "text/plain": [
       "0.06531364"
      ]
     },
     "execution_count": 76,
     "metadata": {
      "tags": []
     },
     "output_type": "execute_result"
    }
   ],
   "source": [
    "# Loss for this model\n",
    "rmse_class = RootMeanSquaredError()\n",
    "rmse_class(y_test, regressor.predict(X_test)).numpy()"
   ]
  },
  {
   "cell_type": "code",
   "execution_count": null,
   "id": "mighty-wages",
   "metadata": {
    "ExecuteTime": {
     "end_time": "2021-02-26T17:13:39.168596Z",
     "start_time": "2021-02-26T17:13:39.051774Z"
    },
    "id": "mighty-wages",
    "outputId": "2d3a3c8f-72bd-4811-ab19-848c9f78af58"
   },
   "outputs": [
    {
     "data": {
      "text/plain": [
       "0.05044525"
      ]
     },
     "execution_count": 80,
     "metadata": {
      "tags": []
     },
     "output_type": "execute_result"
    }
   ],
   "source": [
    "# WHY IS THIS DIFFERENT TO THE VALIDATION_RMSE????\n",
    "rmse_class(y_val, regressor.predict(X_val)).numpy()"
   ]
  },
  {
   "cell_type": "code",
   "execution_count": null,
   "id": "bibliographic-vector",
   "metadata": {
    "ExecuteTime": {
     "end_time": "2021-02-26T17:13:52.675485Z",
     "start_time": "2021-02-26T17:13:52.545452Z"
    },
    "id": "bibliographic-vector",
    "outputId": "7bec7a29-12a3-4420-a42f-ac642ecec64b"
   },
   "outputs": [
    {
     "data": {
      "text/plain": [
       "0.027286403"
      ]
     },
     "execution_count": 81,
     "metadata": {
      "tags": []
     },
     "output_type": "execute_result"
    }
   ],
   "source": [
    "rmse_class(y_train, regressor.predict(X_train)).numpy()"
   ]
  },
  {
   "cell_type": "markdown",
   "id": "ierXzoWZXUFd",
   "metadata": {
    "id": "ierXzoWZXUFd"
   },
   "source": [
    "# LSTMs"
   ]
  },
  {
   "cell_type": "markdown",
   "id": "liquid-phase",
   "metadata": {
    "id": "liquid-phase"
   },
   "source": [
    "## Info\n",
    "\n",
    "Couple of helpful ML Mastery articles:\n",
    "- [How to Reshape Input Data for LSTMs - Keras](https://machinelearningmastery.com/reshape-input-data-long-short-term-memory-networks-keras/)\n",
    "- [How to Prepare Univariate Time Series Data for LSTMs](https://machinelearningmastery.com/prepare-univariate-time-series-data-long-short-term-memory-networks/)\n",
    "\n",
    "Univariate is when we just have a time column and a column that we are trying to predict.\n",
    "\n",
    "There are many ways to split up our time series data and exploring these would definititely be fruitful and beneficial for the problem e.g. maybe we need overlapping sequences, perhaps non-overlapping is better but the model needs to maintain state across the sub-sequences and so on.\n",
    "\n",
    "Input to LSTMs in Keras must be `[samples, timesteps, features]`. Note that `timesteps` is a vital tuning parameter, so just picking 1 week's worth of data is not going to cut it. Jason says that 200-400 timesteps is usually optimal though.\n",
    "\n",
    "[Choosing the timestamp split](https://machinelearningmastery.com/truncated-backpropagation-through-time-in-keras/) will be an important hyperparameter. Totally possible to have disjoint sequences. \n",
    "\n",
    "What does it mean to keep the internal state preserved or not? What happens if we do/n't do this?\n",
    "\n",
    "## Attempt Two"
   ]
  },
  {
   "cell_type": "code",
   "execution_count": 99,
   "id": "RV1SudWgZmOk",
   "metadata": {
    "executionInfo": {
     "elapsed": 2611,
     "status": "ok",
     "timestamp": 1615217725271,
     "user": {
      "displayName": "Adam Murphy",
      "photoUrl": "https://lh3.googleusercontent.com/a-/AOh14GhrEUWR1gM_kMZc1JaOXZTsyHAIY7wGzIWe3pircVE=s64",
      "userId": "08787610892899884155"
     },
     "user_tz": -120
    },
    "id": "RV1SudWgZmOk"
   },
   "outputs": [],
   "source": [
    "def make_seqs_and_targets(data, seq_length):\n",
    "    \"\"\"\n",
    "    Return a tuple of (seq, target) pairs.\n",
    "    The target is the next element in the series.\n",
    "    \n",
    "    We assume this is a univariate timeseries problem and thus data should only\n",
    "    contain one feature.\n",
    "    \n",
    "    seqs output shape: [num_samples, seq_length, 1] (as required by Keras)\n",
    "    num_samples is calculated below and varies based on seq_length and len(series)\n",
    "    \"\"\"\n",
    "    if len(data.shape) > 2 and data.shape[1] > 1:\n",
    "        raise TypeError('Data must be univariate')\n",
    "    if not isinstance(data, np.ndarray):\n",
    "        data = data.values\n",
    "\n",
    "    seqs = []\n",
    "    targets = []\n",
    "    i = 0\n",
    "    while i + seq_length < len(data):\n",
    "        seq = data[i : i + seq_length]\n",
    "        target = data[i + seq_length]\n",
    "        seqs.append(seq)\n",
    "        targets.append(target)\n",
    "        i += 1\n",
    "\n",
    "    seqs = np.array(seqs)\n",
    "    targets = np.array(targets)\n",
    "    \n",
    "    seqs = seqs.reshape(-1, seq_length, 1) # Univariate timeseries data\n",
    "    return seqs, targets"
   ]
  },
  {
   "cell_type": "code",
   "execution_count": 14,
   "id": "unlike-mandate",
   "metadata": {
    "ExecuteTime": {
     "end_time": "2021-03-08T11:17:23.156180Z",
     "start_time": "2021-03-08T11:17:23.153048Z"
    },
    "executionInfo": {
     "elapsed": 2488,
     "status": "ok",
     "timestamp": 1615211961267,
     "user": {
      "displayName": "Adam Murphy",
      "photoUrl": "https://lh3.googleusercontent.com/a-/AOh14GhrEUWR1gM_kMZc1JaOXZTsyHAIY7wGzIWe3pircVE=s64",
      "userId": "08787610892899884155"
     },
     "user_tz": -120
    },
    "id": "unlike-mandate"
   },
   "outputs": [],
   "source": [
    "# Found by inspection\n",
    "price_nonans = price.iloc[76307:]"
   ]
  },
  {
   "cell_type": "code",
   "execution_count": 15,
   "id": "phantom-voice",
   "metadata": {
    "ExecuteTime": {
     "end_time": "2021-03-08T11:23:40.551033Z",
     "start_time": "2021-03-08T11:23:40.546712Z"
    },
    "colab": {
     "base_uri": "https://localhost:8080/"
    },
    "executionInfo": {
     "elapsed": 2749,
     "status": "ok",
     "timestamp": 1615211963216,
     "user": {
      "displayName": "Adam Murphy",
      "photoUrl": "https://lh3.googleusercontent.com/a-/AOh14GhrEUWR1gM_kMZc1JaOXZTsyHAIY7wGzIWe3pircVE=s64",
      "userId": "08787610892899884155"
     },
     "user_tz": -120
    },
    "id": "phantom-voice",
    "outputId": "7741ddc5-ac48-4f4a-9f74-7b0affa67197"
   },
   "outputs": [
    {
     "data": {
      "text/plain": [
       "16667"
      ]
     },
     "execution_count": 15,
     "metadata": {
      "tags": []
     },
     "output_type": "execute_result"
    }
   ],
   "source": [
    "len(price_nonans)"
   ]
  },
  {
   "cell_type": "code",
   "execution_count": 16,
   "id": "moral-anthony",
   "metadata": {
    "ExecuteTime": {
     "end_time": "2021-03-08T11:28:41.787434Z",
     "start_time": "2021-03-08T11:28:41.211298Z"
    },
    "executionInfo": {
     "elapsed": 3861,
     "status": "ok",
     "timestamp": 1615211965446,
     "user": {
      "displayName": "Adam Murphy",
      "photoUrl": "https://lh3.googleusercontent.com/a-/AOh14GhrEUWR1gM_kMZc1JaOXZTsyHAIY7wGzIWe3pircVE=s64",
      "userId": "08787610892899884155"
     },
     "user_tz": -120
    },
    "id": "moral-anthony"
   },
   "outputs": [],
   "source": [
    "seqs, targets = make_seqs_and_targets(price_nonans.c, 168)"
   ]
  },
  {
   "cell_type": "code",
   "execution_count": 17,
   "id": "introductory-primary",
   "metadata": {
    "ExecuteTime": {
     "end_time": "2021-03-08T11:28:51.494128Z",
     "start_time": "2021-03-08T11:28:51.489787Z"
    },
    "colab": {
     "base_uri": "https://localhost:8080/"
    },
    "executionInfo": {
     "elapsed": 5089,
     "status": "ok",
     "timestamp": 1615211967416,
     "user": {
      "displayName": "Adam Murphy",
      "photoUrl": "https://lh3.googleusercontent.com/a-/AOh14GhrEUWR1gM_kMZc1JaOXZTsyHAIY7wGzIWe3pircVE=s64",
      "userId": "08787610892899884155"
     },
     "user_tz": -120
    },
    "id": "introductory-primary",
    "outputId": "a273943c-45da-41ec-81e3-1163a2ca5b5d"
   },
   "outputs": [
    {
     "data": {
      "text/plain": [
       "(16499,)"
      ]
     },
     "execution_count": 17,
     "metadata": {
      "tags": []
     },
     "output_type": "execute_result"
    }
   ],
   "source": [
    "targets.shape"
   ]
  },
  {
   "cell_type": "code",
   "execution_count": 18,
   "id": "stunning-wright",
   "metadata": {
    "ExecuteTime": {
     "end_time": "2021-03-08T11:35:18.874635Z",
     "start_time": "2021-03-08T11:35:18.871787Z"
    },
    "executionInfo": {
     "elapsed": 3171,
     "status": "ok",
     "timestamp": 1615211969269,
     "user": {
      "displayName": "Adam Murphy",
      "photoUrl": "https://lh3.googleusercontent.com/a-/AOh14GhrEUWR1gM_kMZc1JaOXZTsyHAIY7wGzIWe3pircVE=s64",
      "userId": "08787610892899884155"
     },
     "user_tz": -120
    },
    "id": "stunning-wright"
   },
   "outputs": [],
   "source": [
    "num_samples = seqs.shape[0]\n",
    "num_train_samples = int(num_samples * 0.6)\n",
    "num_val_samples = int(num_samples * 0.2) + 1\n",
    "num_test_samples = int(num_samples * 0.2) + 1"
   ]
  },
  {
   "cell_type": "code",
   "execution_count": 19,
   "id": "directed-persian",
   "metadata": {
    "ExecuteTime": {
     "end_time": "2021-03-08T11:35:24.328460Z",
     "start_time": "2021-03-08T11:35:24.323032Z"
    },
    "colab": {
     "base_uri": "https://localhost:8080/"
    },
    "executionInfo": {
     "elapsed": 4102,
     "status": "ok",
     "timestamp": 1615211970844,
     "user": {
      "displayName": "Adam Murphy",
      "photoUrl": "https://lh3.googleusercontent.com/a-/AOh14GhrEUWR1gM_kMZc1JaOXZTsyHAIY7wGzIWe3pircVE=s64",
      "userId": "08787610892899884155"
     },
     "user_tz": -120
    },
    "id": "directed-persian",
    "outputId": "22af8943-f788-446e-a288-6fd6d575d1b8"
   },
   "outputs": [
    {
     "data": {
      "text/plain": [
       "True"
      ]
     },
     "execution_count": 19,
     "metadata": {
      "tags": []
     },
     "output_type": "execute_result"
    }
   ],
   "source": [
    "num_train_samples + num_val_samples + num_test_samples == num_samples"
   ]
  },
  {
   "cell_type": "code",
   "execution_count": 31,
   "id": "distinguished-ordinance",
   "metadata": {
    "ExecuteTime": {
     "end_time": "2021-03-08T11:37:21.695192Z",
     "start_time": "2021-03-08T11:37:21.691413Z"
    },
    "executionInfo": {
     "elapsed": 2322,
     "status": "ok",
     "timestamp": 1615212339820,
     "user": {
      "displayName": "Adam Murphy",
      "photoUrl": "https://lh3.googleusercontent.com/a-/AOh14GhrEUWR1gM_kMZc1JaOXZTsyHAIY7wGzIWe3pircVE=s64",
      "userId": "08787610892899884155"
     },
     "user_tz": -120
    },
    "id": "distinguished-ordinance"
   },
   "outputs": [],
   "source": [
    "X_train, y_train = seqs[:num_train_samples], targets[:num_train_samples]\n",
    "X_val, y_val = seqs[num_train_samples:num_train_samples + num_val_samples], \\\n",
    "               targets[num_train_samples:num_train_samples + num_val_samples]\n",
    "X_test, y_test = seqs[-num_test_samples:], targets[-num_test_samples:]"
   ]
  },
  {
   "cell_type": "code",
   "execution_count": 32,
   "id": "bmFAHg9GKFkN",
   "metadata": {
    "colab": {
     "base_uri": "https://localhost:8080/"
    },
    "executionInfo": {
     "elapsed": 2488,
     "status": "ok",
     "timestamp": 1615212344584,
     "user": {
      "displayName": "Adam Murphy",
      "photoUrl": "https://lh3.googleusercontent.com/a-/AOh14GhrEUWR1gM_kMZc1JaOXZTsyHAIY7wGzIWe3pircVE=s64",
      "userId": "08787610892899884155"
     },
     "user_tz": -120
    },
    "id": "bmFAHg9GKFkN",
    "outputId": "21c5a75f-b3df-4275-b0cb-e21156660fff"
   },
   "outputs": [
    {
     "data": {
      "text/plain": [
       "3300"
      ]
     },
     "execution_count": 32,
     "metadata": {
      "tags": []
     },
     "output_type": "execute_result"
    }
   ],
   "source": [
    "len(X_val)"
   ]
  },
  {
   "cell_type": "code",
   "execution_count": 32,
   "id": "scRkHRPps5X6",
   "metadata": {
    "colab": {
     "base_uri": "https://localhost:8080/"
    },
    "executionInfo": {
     "elapsed": 790,
     "status": "ok",
     "timestamp": 1615204695410,
     "user": {
      "displayName": "Adam Murphy",
      "photoUrl": "https://lh3.googleusercontent.com/a-/AOh14GhrEUWR1gM_kMZc1JaOXZTsyHAIY7wGzIWe3pircVE=s64",
      "userId": "08787610892899884155"
     },
     "user_tz": -120
    },
    "id": "scRkHRPps5X6",
    "outputId": "18300553-4fd1-4452-ddf5-35648cf707d2"
   },
   "outputs": [
    {
     "data": {
      "text/plain": [
       "24.7475"
      ]
     },
     "execution_count": 32,
     "metadata": {
      "tags": []
     },
     "output_type": "execute_result"
    }
   ],
   "source": [
    "len(X_train) / 400"
   ]
  },
  {
   "cell_type": "markdown",
   "id": "J0f1DeYMtlir",
   "metadata": {
    "id": "J0f1DeYMtlir"
   },
   "source": [
    "# RUN THIS AGAIN BUT UPLOAD IT TO WANDB!!!"
   ]
  },
  {
   "cell_type": "code",
   "execution_count": 40,
   "id": "hmkq7cBLFAQ6",
   "metadata": {
    "colab": {
     "base_uri": "https://localhost:8080/",
     "height": 957,
     "referenced_widgets": [
      "6fa1ff3cfcc147558e2a5a66551f7306",
      "8e77a39f08ec4a2184cc2b306f11bcae",
      "e48d213c9e234c34aae8d4168dd492f2",
      "7669b9ef16d64d86a808ba88b55ba37f",
      "d4c08641661a492180499157e13d7643",
      "93d80014433f41a6898523b5bdb3e3da",
      "f9c84f6ea7854119bf2cc7b1fa8345e5",
      "311c8060b3a14cb19157eaddb12afc2a"
     ]
    },
    "executionInfo": {
     "elapsed": 8745,
     "status": "ok",
     "timestamp": 1615213573743,
     "user": {
      "displayName": "Adam Murphy",
      "photoUrl": "https://lh3.googleusercontent.com/a-/AOh14GhrEUWR1gM_kMZc1JaOXZTsyHAIY7wGzIWe3pircVE=s64",
      "userId": "08787610892899884155"
     },
     "user_tz": -120
    },
    "id": "hmkq7cBLFAQ6",
    "outputId": "16171722-46ba-4be0-d51a-09e6330448f9"
   },
   "outputs": [
    {
     "data": {
      "text/html": [
       "Finishing last run (ID:3i6u2dft) before initializing another..."
      ],
      "text/plain": [
       "<IPython.core.display.HTML object>"
      ]
     },
     "metadata": {
      "tags": []
     },
     "output_type": "display_data"
    },
    {
     "data": {
      "text/html": [
       "<br/>Waiting for W&B process to finish, PID 906<br/>Program ended successfully."
      ],
      "text/plain": [
       "<IPython.core.display.HTML object>"
      ]
     },
     "metadata": {
      "tags": []
     },
     "output_type": "display_data"
    },
    {
     "data": {
      "application/vnd.jupyter.widget-view+json": {
       "model_id": "6fa1ff3cfcc147558e2a5a66551f7306",
       "version_major": 2,
       "version_minor": 0
      },
      "text/plain": [
       "VBox(children=(Label(value=' 0.08MB of 0.08MB uploaded (0.00MB deduped)\\r'), FloatProgress(value=1.0, max=1.0)…"
      ]
     },
     "metadata": {
      "tags": []
     },
     "output_type": "display_data"
    },
    {
     "data": {
      "text/html": [
       "Find user logs for this run at: <code>/content/wandb/run-20210308_141833-3i6u2dft/logs/debug.log</code>"
      ],
      "text/plain": [
       "<IPython.core.display.HTML object>"
      ]
     },
     "metadata": {
      "tags": []
     },
     "output_type": "display_data"
    },
    {
     "data": {
      "text/html": [
       "Find internal logs for this run at: <code>/content/wandb/run-20210308_141833-3i6u2dft/logs/debug-internal.log</code>"
      ],
      "text/plain": [
       "<IPython.core.display.HTML object>"
      ]
     },
     "metadata": {
      "tags": []
     },
     "output_type": "display_data"
    },
    {
     "data": {
      "text/html": [
       "<h3>Run summary:</h3><br/><style>\n",
       "    table.wandb td:nth-child(1) { padding: 0 10px; text-align: right }\n",
       "    </style><table class=\"wandb\">\n",
       "<tr><td>epoch</td><td>49</td></tr><tr><td>loss</td><td>74897416.0</td></tr><tr><td>val_loss</td><td>106733296.0</td></tr><tr><td>_runtime</td><td>58</td></tr><tr><td>_timestamp</td><td>1615213177</td></tr><tr><td>_step</td><td>49</td></tr><tr><td>best_val_loss</td><td>106733296.0</td></tr><tr><td>best_epoch</td><td>49</td></tr></table>"
      ],
      "text/plain": [
       "<IPython.core.display.HTML object>"
      ]
     },
     "metadata": {
      "tags": []
     },
     "output_type": "display_data"
    },
    {
     "data": {
      "text/html": [
       "<h3>Run history:</h3><br/><style>\n",
       "    table.wandb td:nth-child(1) { padding: 0 10px; text-align: right }\n",
       "    </style><table class=\"wandb\">\n",
       "<tr><td>epoch</td><td>▁▁▁▁▂▂▂▂▂▃▃▃▃▃▃▄▄▄▄▄▅▅▅▅▅▅▆▆▆▆▆▆▇▇▇▇▇███</td></tr><tr><td>loss</td><td>████▇▇▇▇▇▆▆▆▆▆▆▅▅▅▅▅▄▄▄▄▄▄▃▃▃▃▃▃▂▂▂▂▂▁▁▁</td></tr><tr><td>val_loss</td><td>████▇▇▇▇▇▆▆▆▆▆▆▅▅▅▅▅▄▄▄▄▄▄▃▃▃▃▃▃▂▂▂▂▂▁▁▁</td></tr><tr><td>_runtime</td><td>▁▁▁▂▂▂▂▂▂▃▃▃▃▃▃▄▄▄▄▄▅▅▅▅▅▅▆▆▆▆▆▆▇▇▇▇▇▇██</td></tr><tr><td>_timestamp</td><td>▁▁▁▂▂▂▂▂▂▃▃▃▃▃▃▄▄▄▄▄▅▅▅▅▅▅▆▆▆▆▆▆▇▇▇▇▇▇██</td></tr><tr><td>_step</td><td>▁▁▁▁▂▂▂▂▂▃▃▃▃▃▃▄▄▄▄▄▅▅▅▅▅▅▆▆▆▆▆▆▇▇▇▇▇███</td></tr></table><br/>"
      ],
      "text/plain": [
       "<IPython.core.display.HTML object>"
      ]
     },
     "metadata": {
      "tags": []
     },
     "output_type": "display_data"
    },
    {
     "data": {
      "text/html": [
       "Synced 5 W&B file(s), 1 media file(s), 0 artifact file(s) and 1 other file(s)"
      ],
      "text/plain": [
       "<IPython.core.display.HTML object>"
      ]
     },
     "metadata": {
      "tags": []
     },
     "output_type": "display_data"
    },
    {
     "data": {
      "text/html": [
       "\n",
       "                    <br/>Synced <strong style=\"color:#cdcd00\">chocolate-firebrand-10</strong>: <a href=\"https://wandb.ai/theadammurphy/bitcoin_price_predictor/runs/3i6u2dft\" target=\"_blank\">https://wandb.ai/theadammurphy/bitcoin_price_predictor/runs/3i6u2dft</a><br/>\n",
       "                "
      ],
      "text/plain": [
       "<IPython.core.display.HTML object>"
      ]
     },
     "metadata": {
      "tags": []
     },
     "output_type": "display_data"
    },
    {
     "data": {
      "text/html": [
       "...Successfully finished last run (ID:3i6u2dft). Initializing new run:<br/><br/>"
      ],
      "text/plain": [
       "<IPython.core.display.HTML object>"
      ]
     },
     "metadata": {
      "tags": []
     },
     "output_type": "display_data"
    },
    {
     "data": {
      "text/html": [
       "\n",
       "                Tracking run with wandb version 0.10.21<br/>\n",
       "                Syncing run <strong style=\"color:#cdcd00\">glamorous-snowball-11</strong> to <a href=\"https://wandb.ai\" target=\"_blank\">Weights & Biases</a> <a href=\"https://docs.wandb.com/integrations/jupyter.html\" target=\"_blank\">(Documentation)</a>.<br/>\n",
       "                Project page: <a href=\"https://wandb.ai/theadammurphy/bitcoin_price_predictor\" target=\"_blank\">https://wandb.ai/theadammurphy/bitcoin_price_predictor</a><br/>\n",
       "                Run page: <a href=\"https://wandb.ai/theadammurphy/bitcoin_price_predictor/runs/1vkjeeuz\" target=\"_blank\">https://wandb.ai/theadammurphy/bitcoin_price_predictor/runs/1vkjeeuz</a><br/>\n",
       "                Run data is saved locally in <code>/content/wandb/run-20210308_142605-1vkjeeuz</code><br/><br/>\n",
       "            "
      ],
      "text/plain": [
       "<IPython.core.display.HTML object>"
      ]
     },
     "metadata": {
      "tags": []
     },
     "output_type": "display_data"
    },
    {
     "name": "stdout",
     "output_type": "stream",
     "text": [
      "Model: \"sequential_10\"\n",
      "_________________________________________________________________\n",
      "Layer (type)                 Output Shape              Param #   \n",
      "=================================================================\n",
      "lstm_10 (LSTM)               (None, 32)                4352      \n",
      "_________________________________________________________________\n",
      "dense_10 (Dense)             (None, 1)                 33        \n",
      "=================================================================\n",
      "Total params: 4,385\n",
      "Trainable params: 4,385\n",
      "Non-trainable params: 0\n",
      "_________________________________________________________________\n"
     ]
    }
   ],
   "source": [
    "# Initalize wandb with project name\n",
    "run = wandb.init(project='bitcoin_price_predictor',\n",
    "                 config={ # and include hyperparameters and metadata\n",
    "                    'batch_size': 400,\n",
    "                    'epochs': 200,\n",
    "                    'loss_function': 'mse',\n",
    "                    'shuffle': False,\n",
    "                    'optimizer': 'adam',\n",
    "                    'metrics': None\n",
    "                 })\n",
    "config = wandb.config # we use this to configure our experiment\n",
    "\n",
    "# Init model like usual\n",
    "model = Sequential([\n",
    "    LSTM(32, input_shape=(168, 1)),\n",
    "    Dense(1)\n",
    "])\n",
    "model.summary()\n",
    "\n",
    "# Compile model like usual (but use config. for all params)\n",
    "# is this really necessary? What happens if I don't use config.???\n",
    "model.compile(optimizer=config.optimizer,\n",
    "             loss=config.loss_function,\n",
    "             metrics=[config.metrics])"
   ]
  },
  {
   "cell_type": "code",
   "execution_count": 41,
   "id": "hidden-attempt",
   "metadata": {
    "ExecuteTime": {
     "end_time": "2021-03-08T11:50:17.545763Z",
     "start_time": "2021-03-08T11:49:13.758298Z"
    },
    "colab": {
     "base_uri": "https://localhost:8080/"
    },
    "executionInfo": {
     "elapsed": 96437,
     "status": "ok",
     "timestamp": 1615213662005,
     "user": {
      "displayName": "Adam Murphy",
      "photoUrl": "https://lh3.googleusercontent.com/a-/AOh14GhrEUWR1gM_kMZc1JaOXZTsyHAIY7wGzIWe3pircVE=s64",
      "userId": "08787610892899884155"
     },
     "user_tz": -120
    },
    "id": "hidden-attempt",
    "outputId": "ea913832-ebd0-407d-a6b7-220f0f4c7b98"
   },
   "outputs": [
    {
     "name": "stdout",
     "output_type": "stream",
     "text": [
      "Epoch 1/200\n",
      "25/25 [==============================] - 3s 37ms/step - loss: 71483143.7692 - val_loss: 106991992.0000\n",
      "Epoch 2/200\n",
      "25/25 [==============================] - 0s 15ms/step - loss: 71480212.3846 - val_loss: 106988296.0000\n",
      "Epoch 3/200\n",
      "25/25 [==============================] - 0s 15ms/step - loss: 71477288.2308 - val_loss: 106984608.0000\n",
      "Epoch 4/200\n",
      "25/25 [==============================] - 0s 15ms/step - loss: 71474363.2308 - val_loss: 106980936.0000\n",
      "Epoch 5/200\n",
      "25/25 [==============================] - 0s 15ms/step - loss: 71471430.8462 - val_loss: 106977256.0000\n",
      "Epoch 6/200\n",
      "25/25 [==============================] - 0s 15ms/step - loss: 71468501.0000 - val_loss: 106973568.0000\n",
      "Epoch 7/200\n",
      "25/25 [==============================] - 0s 15ms/step - loss: 71465570.5385 - val_loss: 106969904.0000\n",
      "Epoch 8/200\n",
      "25/25 [==============================] - 0s 15ms/step - loss: 71462629.8462 - val_loss: 106966208.0000\n",
      "Epoch 9/200\n",
      "25/25 [==============================] - 0s 15ms/step - loss: 71459700.9231 - val_loss: 106962520.0000\n",
      "Epoch 10/200\n",
      "25/25 [==============================] - 0s 15ms/step - loss: 71456763.8462 - val_loss: 106958840.0000\n",
      "Epoch 11/200\n",
      "25/25 [==============================] - 0s 16ms/step - loss: 71453841.3846 - val_loss: 106955160.0000\n",
      "Epoch 12/200\n",
      "25/25 [==============================] - 0s 16ms/step - loss: 71450901.6923 - val_loss: 106951472.0000\n",
      "Epoch 13/200\n",
      "25/25 [==============================] - 0s 15ms/step - loss: 71447964.4615 - val_loss: 106947760.0000\n",
      "Epoch 14/200\n",
      "25/25 [==============================] - 0s 15ms/step - loss: 71445038.7692 - val_loss: 106944096.0000\n",
      "Epoch 15/200\n",
      "25/25 [==============================] - 0s 15ms/step - loss: 71442103.0000 - val_loss: 106940416.0000\n",
      "Epoch 16/200\n",
      "25/25 [==============================] - 0s 15ms/step - loss: 71439170.0000 - val_loss: 106936712.0000\n",
      "Epoch 17/200\n",
      "25/25 [==============================] - 0s 15ms/step - loss: 71436240.3077 - val_loss: 106933048.0000\n",
      "Epoch 18/200\n",
      "25/25 [==============================] - 0s 15ms/step - loss: 71433309.6923 - val_loss: 106929360.0000\n",
      "Epoch 19/200\n",
      "25/25 [==============================] - 0s 15ms/step - loss: 71430379.3077 - val_loss: 106925656.0000\n",
      "Epoch 20/200\n",
      "25/25 [==============================] - 0s 15ms/step - loss: 71427434.2308 - val_loss: 106921968.0000\n",
      "Epoch 21/200\n",
      "25/25 [==============================] - 0s 15ms/step - loss: 71424500.0769 - val_loss: 106918304.0000\n",
      "Epoch 22/200\n",
      "25/25 [==============================] - 0s 16ms/step - loss: 71421570.3077 - val_loss: 106914616.0000\n",
      "Epoch 23/200\n",
      "25/25 [==============================] - 0s 15ms/step - loss: 71418634.0769 - val_loss: 106910920.0000\n",
      "Epoch 24/200\n",
      "25/25 [==============================] - 0s 16ms/step - loss: 71415708.7692 - val_loss: 106907240.0000\n",
      "Epoch 25/200\n",
      "25/25 [==============================] - 0s 15ms/step - loss: 71412771.3077 - val_loss: 106903568.0000\n",
      "Epoch 26/200\n",
      "25/25 [==============================] - 0s 16ms/step - loss: 71409840.4615 - val_loss: 106899864.0000\n",
      "Epoch 27/200\n",
      "25/25 [==============================] - 0s 15ms/step - loss: 71406906.3077 - val_loss: 106896184.0000\n",
      "Epoch 28/200\n",
      "25/25 [==============================] - 0s 15ms/step - loss: 71403982.9231 - val_loss: 106892504.0000\n",
      "Epoch 29/200\n",
      "25/25 [==============================] - 0s 15ms/step - loss: 71401042.6923 - val_loss: 106888808.0000\n",
      "Epoch 30/200\n",
      "25/25 [==============================] - 0s 16ms/step - loss: 71398114.7692 - val_loss: 106885128.0000\n",
      "Epoch 31/200\n",
      "25/25 [==============================] - 0s 15ms/step - loss: 71395176.6154 - val_loss: 106881448.0000\n",
      "Epoch 32/200\n",
      "25/25 [==============================] - 0s 16ms/step - loss: 71392249.0000 - val_loss: 106877760.0000\n",
      "Epoch 33/200\n",
      "25/25 [==============================] - 0s 15ms/step - loss: 71389310.4615 - val_loss: 106874064.0000\n",
      "Epoch 34/200\n",
      "25/25 [==============================] - 0s 15ms/step - loss: 71386385.0000 - val_loss: 106870392.0000\n",
      "Epoch 35/200\n",
      "25/25 [==============================] - 0s 15ms/step - loss: 71383443.8462 - val_loss: 106866712.0000\n",
      "Epoch 36/200\n",
      "25/25 [==============================] - 0s 16ms/step - loss: 71380513.9231 - val_loss: 106863008.0000\n",
      "Epoch 37/200\n",
      "25/25 [==============================] - 0s 15ms/step - loss: 71377582.9231 - val_loss: 106859328.0000\n",
      "Epoch 38/200\n",
      "25/25 [==============================] - 0s 15ms/step - loss: 71374648.9231 - val_loss: 106855656.0000\n",
      "Epoch 39/200\n",
      "25/25 [==============================] - 0s 15ms/step - loss: 71371725.7692 - val_loss: 106851960.0000\n",
      "Epoch 40/200\n",
      "25/25 [==============================] - 0s 15ms/step - loss: 71368790.7692 - val_loss: 106848264.0000\n",
      "Epoch 41/200\n",
      "25/25 [==============================] - 0s 15ms/step - loss: 71365858.4615 - val_loss: 106844600.0000\n",
      "Epoch 42/200\n",
      "25/25 [==============================] - 0s 15ms/step - loss: 71362925.3077 - val_loss: 106840896.0000\n",
      "Epoch 43/200\n",
      "25/25 [==============================] - 0s 16ms/step - loss: 71359993.3077 - val_loss: 106837224.0000\n",
      "Epoch 44/200\n",
      "25/25 [==============================] - 0s 16ms/step - loss: 71357067.9231 - val_loss: 106833552.0000\n",
      "Epoch 45/200\n",
      "25/25 [==============================] - 0s 15ms/step - loss: 71354134.5385 - val_loss: 106829880.0000\n",
      "Epoch 46/200\n",
      "25/25 [==============================] - 0s 16ms/step - loss: 71351201.5385 - val_loss: 106826176.0000\n",
      "Epoch 47/200\n",
      "25/25 [==============================] - 0s 15ms/step - loss: 71348267.9231 - val_loss: 106822496.0000\n",
      "Epoch 48/200\n",
      "25/25 [==============================] - 0s 16ms/step - loss: 71345334.0000 - val_loss: 106818816.0000\n",
      "Epoch 49/200\n",
      "25/25 [==============================] - 0s 16ms/step - loss: 71342402.8462 - val_loss: 106815112.0000\n",
      "Epoch 50/200\n",
      "25/25 [==============================] - 0s 15ms/step - loss: 71339470.3077 - val_loss: 106811448.0000\n",
      "Epoch 51/200\n",
      "25/25 [==============================] - 0s 15ms/step - loss: 71336545.4615 - val_loss: 106807760.0000\n",
      "Epoch 52/200\n",
      "25/25 [==============================] - 0s 15ms/step - loss: 71333613.0000 - val_loss: 106804056.0000\n",
      "Epoch 53/200\n",
      "25/25 [==============================] - 0s 15ms/step - loss: 71330677.0769 - val_loss: 106800392.0000\n",
      "Epoch 54/200\n",
      "25/25 [==============================] - 0s 15ms/step - loss: 71327747.0769 - val_loss: 106796720.0000\n",
      "Epoch 55/200\n",
      "25/25 [==============================] - 0s 15ms/step - loss: 71324818.9231 - val_loss: 106793024.0000\n",
      "Epoch 56/200\n",
      "25/25 [==============================] - 0s 16ms/step - loss: 71321886.5385 - val_loss: 106789336.0000\n",
      "Epoch 57/200\n",
      "25/25 [==============================] - 0s 15ms/step - loss: 71318958.6923 - val_loss: 106785672.0000\n",
      "Epoch 58/200\n",
      "25/25 [==============================] - 0s 15ms/step - loss: 71316033.4615 - val_loss: 106781976.0000\n",
      "Epoch 59/200\n",
      "25/25 [==============================] - 0s 16ms/step - loss: 71313100.8462 - val_loss: 106778280.0000\n",
      "Epoch 60/200\n",
      "25/25 [==============================] - 0s 15ms/step - loss: 71310168.7692 - val_loss: 106774608.0000\n",
      "Epoch 61/200\n",
      "25/25 [==============================] - 0s 15ms/step - loss: 71307241.5385 - val_loss: 106770936.0000\n",
      "Epoch 62/200\n",
      "25/25 [==============================] - 0s 15ms/step - loss: 71304313.8462 - val_loss: 106767248.0000\n",
      "Epoch 63/200\n",
      "25/25 [==============================] - 0s 16ms/step - loss: 71301377.5385 - val_loss: 106763568.0000\n",
      "Epoch 64/200\n",
      "25/25 [==============================] - 0s 15ms/step - loss: 71298447.4615 - val_loss: 106759880.0000\n",
      "Epoch 65/200\n",
      "25/25 [==============================] - 0s 15ms/step - loss: 71295523.2308 - val_loss: 106756200.0000\n",
      "Epoch 66/200\n",
      "25/25 [==============================] - 0s 15ms/step - loss: 71292582.8462 - val_loss: 106752504.0000\n",
      "Epoch 67/200\n",
      "25/25 [==============================] - 0s 15ms/step - loss: 71289654.2308 - val_loss: 106748840.0000\n",
      "Epoch 68/200\n",
      "25/25 [==============================] - 0s 16ms/step - loss: 71286723.9231 - val_loss: 106745152.0000\n",
      "Epoch 69/200\n",
      "25/25 [==============================] - 0s 15ms/step - loss: 71283800.6154 - val_loss: 106741480.0000\n",
      "Epoch 70/200\n",
      "25/25 [==============================] - 0s 15ms/step - loss: 71280866.4615 - val_loss: 106737792.0000\n",
      "Epoch 71/200\n",
      "25/25 [==============================] - 0s 15ms/step - loss: 71277940.6154 - val_loss: 106734104.0000\n",
      "Epoch 72/200\n",
      "25/25 [==============================] - 0s 15ms/step - loss: 71275015.1538 - val_loss: 106730432.0000\n",
      "Epoch 73/200\n",
      "25/25 [==============================] - 0s 16ms/step - loss: 71272081.7692 - val_loss: 106726736.0000\n",
      "Epoch 74/200\n",
      "25/25 [==============================] - 0s 15ms/step - loss: 71269150.8462 - val_loss: 106723056.0000\n",
      "Epoch 75/200\n",
      "25/25 [==============================] - 0s 15ms/step - loss: 71266227.3077 - val_loss: 106719368.0000\n",
      "Epoch 76/200\n",
      "25/25 [==============================] - 0s 15ms/step - loss: 71263299.7692 - val_loss: 106715712.0000\n",
      "Epoch 77/200\n",
      "25/25 [==============================] - 0s 16ms/step - loss: 71260368.0000 - val_loss: 106712008.0000\n",
      "Epoch 78/200\n",
      "25/25 [==============================] - 0s 16ms/step - loss: 71257437.2308 - val_loss: 106708336.0000\n",
      "Epoch 79/200\n",
      "25/25 [==============================] - 0s 15ms/step - loss: 71254509.4615 - val_loss: 106704664.0000\n",
      "Epoch 80/200\n",
      "25/25 [==============================] - 0s 16ms/step - loss: 71251575.6923 - val_loss: 106700976.0000\n",
      "Epoch 81/200\n",
      "25/25 [==============================] - 0s 15ms/step - loss: 71248650.4615 - val_loss: 106697272.0000\n",
      "Epoch 82/200\n",
      "25/25 [==============================] - 0s 15ms/step - loss: 71245725.0769 - val_loss: 106693624.0000\n",
      "Epoch 83/200\n",
      "25/25 [==============================] - 0s 16ms/step - loss: 71242797.0000 - val_loss: 106689928.0000\n",
      "Epoch 84/200\n",
      "25/25 [==============================] - 0s 15ms/step - loss: 71239868.0769 - val_loss: 106686264.0000\n",
      "Epoch 85/200\n",
      "25/25 [==============================] - 0s 19ms/step - loss: 71236938.7692 - val_loss: 106682560.0000\n",
      "Epoch 86/200\n",
      "25/25 [==============================] - 0s 14ms/step - loss: 71234011.5385 - val_loss: 106678896.0000\n",
      "Epoch 87/200\n",
      "25/25 [==============================] - 0s 15ms/step - loss: 71231089.9231 - val_loss: 106675224.0000\n",
      "Epoch 88/200\n",
      "25/25 [==============================] - 0s 15ms/step - loss: 71228155.5385 - val_loss: 106671520.0000\n",
      "Epoch 89/200\n",
      "25/25 [==============================] - 0s 15ms/step - loss: 71225225.3077 - val_loss: 106667840.0000\n",
      "Epoch 90/200\n",
      "25/25 [==============================] - 0s 15ms/step - loss: 71222297.7692 - val_loss: 106664176.0000\n",
      "Epoch 91/200\n",
      "25/25 [==============================] - 0s 15ms/step - loss: 71219371.0769 - val_loss: 106660496.0000\n",
      "Epoch 92/200\n",
      "25/25 [==============================] - 0s 15ms/step - loss: 71216443.9231 - val_loss: 106656800.0000\n",
      "Epoch 93/200\n",
      "25/25 [==============================] - 0s 14ms/step - loss: 71213519.8462 - val_loss: 106653128.0000\n",
      "Epoch 94/200\n",
      "25/25 [==============================] - 0s 15ms/step - loss: 71210591.9231 - val_loss: 106649440.0000\n",
      "Epoch 95/200\n",
      "25/25 [==============================] - 0s 16ms/step - loss: 71207666.0769 - val_loss: 106645768.0000\n",
      "Epoch 96/200\n",
      "25/25 [==============================] - 0s 15ms/step - loss: 71204734.0769 - val_loss: 106642088.0000\n",
      "Epoch 97/200\n",
      "25/25 [==============================] - 0s 16ms/step - loss: 71201803.0769 - val_loss: 106638400.0000\n",
      "Epoch 98/200\n",
      "25/25 [==============================] - 0s 15ms/step - loss: 71198880.3846 - val_loss: 106634736.0000\n",
      "Epoch 99/200\n",
      "25/25 [==============================] - 0s 15ms/step - loss: 71195951.5385 - val_loss: 106631064.0000\n",
      "Epoch 100/200\n",
      "25/25 [==============================] - 0s 16ms/step - loss: 71193023.1538 - val_loss: 106627360.0000\n",
      "Epoch 101/200\n",
      "25/25 [==============================] - 0s 15ms/step - loss: 71190100.4615 - val_loss: 106623696.0000\n",
      "Epoch 102/200\n",
      "25/25 [==============================] - 0s 15ms/step - loss: 71187169.8462 - val_loss: 106620008.0000\n",
      "Epoch 103/200\n",
      "25/25 [==============================] - 0s 15ms/step - loss: 71184235.3846 - val_loss: 106616328.0000\n",
      "Epoch 104/200\n",
      "25/25 [==============================] - 0s 15ms/step - loss: 71181310.6154 - val_loss: 106612648.0000\n",
      "Epoch 105/200\n",
      "25/25 [==============================] - 0s 15ms/step - loss: 71178383.4615 - val_loss: 106608968.0000\n",
      "Epoch 106/200\n",
      "25/25 [==============================] - 0s 15ms/step - loss: 71175465.7692 - val_loss: 106605304.0000\n",
      "Epoch 107/200\n",
      "25/25 [==============================] - 0s 16ms/step - loss: 71172529.0000 - val_loss: 106601624.0000\n",
      "Epoch 108/200\n",
      "25/25 [==============================] - 0s 15ms/step - loss: 71169601.7692 - val_loss: 106597936.0000\n",
      "Epoch 109/200\n",
      "25/25 [==============================] - 0s 15ms/step - loss: 71166676.5385 - val_loss: 106594256.0000\n",
      "Epoch 110/200\n",
      "25/25 [==============================] - 0s 16ms/step - loss: 71163755.8462 - val_loss: 106590568.0000\n",
      "Epoch 111/200\n",
      "25/25 [==============================] - 0s 15ms/step - loss: 71160828.6923 - val_loss: 106586920.0000\n",
      "Epoch 112/200\n",
      "25/25 [==============================] - 0s 16ms/step - loss: 71157899.4615 - val_loss: 106583216.0000\n",
      "Epoch 113/200\n",
      "25/25 [==============================] - 0s 15ms/step - loss: 71154971.2308 - val_loss: 106579536.0000\n",
      "Epoch 114/200\n",
      "25/25 [==============================] - 0s 16ms/step - loss: 71152055.0769 - val_loss: 106575864.0000\n",
      "Epoch 115/200\n",
      "25/25 [==============================] - 0s 15ms/step - loss: 71149125.2308 - val_loss: 106572192.0000\n",
      "Epoch 116/200\n",
      "25/25 [==============================] - 0s 15ms/step - loss: 71146199.1538 - val_loss: 106568488.0000\n",
      "Epoch 117/200\n",
      "25/25 [==============================] - 0s 16ms/step - loss: 71143270.3077 - val_loss: 106564824.0000\n",
      "Epoch 118/200\n",
      "25/25 [==============================] - 0s 15ms/step - loss: 71140342.1538 - val_loss: 106561152.0000\n",
      "Epoch 119/200\n",
      "25/25 [==============================] - 0s 16ms/step - loss: 71137423.0769 - val_loss: 106557472.0000\n",
      "Epoch 120/200\n",
      "25/25 [==============================] - 0s 16ms/step - loss: 71134497.1538 - val_loss: 106553792.0000\n",
      "Epoch 121/200\n",
      "25/25 [==============================] - 0s 15ms/step - loss: 71131575.0000 - val_loss: 106550104.0000\n",
      "Epoch 122/200\n",
      "25/25 [==============================] - 0s 16ms/step - loss: 71128649.0769 - val_loss: 106546440.0000\n",
      "Epoch 123/200\n",
      "25/25 [==============================] - 0s 15ms/step - loss: 71125723.4615 - val_loss: 106542776.0000\n",
      "Epoch 124/200\n",
      "25/25 [==============================] - 0s 15ms/step - loss: 71122792.4615 - val_loss: 106539064.0000\n",
      "Epoch 125/200\n",
      "25/25 [==============================] - 0s 15ms/step - loss: 71119864.6154 - val_loss: 106535392.0000\n",
      "Epoch 126/200\n",
      "25/25 [==============================] - 0s 15ms/step - loss: 71116945.2308 - val_loss: 106531728.0000\n",
      "Epoch 127/200\n",
      "25/25 [==============================] - 0s 16ms/step - loss: 71114022.4615 - val_loss: 106528056.0000\n",
      "Epoch 128/200\n",
      "25/25 [==============================] - 0s 15ms/step - loss: 71111093.7692 - val_loss: 106524376.0000\n",
      "Epoch 129/200\n",
      "25/25 [==============================] - 0s 16ms/step - loss: 71108169.2308 - val_loss: 106520696.0000\n",
      "Epoch 130/200\n",
      "25/25 [==============================] - 0s 16ms/step - loss: 71105243.0769 - val_loss: 106517024.0000\n",
      "Epoch 131/200\n",
      "25/25 [==============================] - 0s 16ms/step - loss: 71102317.0000 - val_loss: 106513336.0000\n",
      "Epoch 132/200\n",
      "25/25 [==============================] - 0s 16ms/step - loss: 71099388.3077 - val_loss: 106509680.0000\n",
      "Epoch 133/200\n",
      "25/25 [==============================] - 0s 16ms/step - loss: 71096466.6923 - val_loss: 106505992.0000\n",
      "Epoch 134/200\n",
      "25/25 [==============================] - 0s 16ms/step - loss: 71093543.0769 - val_loss: 106502304.0000\n",
      "Epoch 135/200\n",
      "25/25 [==============================] - 0s 15ms/step - loss: 71090621.0769 - val_loss: 106498640.0000\n",
      "Epoch 136/200\n",
      "25/25 [==============================] - 0s 15ms/step - loss: 71087689.0769 - val_loss: 106494968.0000\n",
      "Epoch 137/200\n",
      "25/25 [==============================] - 0s 16ms/step - loss: 71084766.5385 - val_loss: 106491272.0000\n",
      "Epoch 138/200\n",
      "25/25 [==============================] - 0s 16ms/step - loss: 71081842.8462 - val_loss: 106487608.0000\n",
      "Epoch 139/200\n",
      "25/25 [==============================] - 0s 15ms/step - loss: 71078922.2308 - val_loss: 106483928.0000\n",
      "Epoch 140/200\n",
      "25/25 [==============================] - 0s 15ms/step - loss: 71076000.9231 - val_loss: 106480264.0000\n",
      "Epoch 141/200\n",
      "25/25 [==============================] - 0s 16ms/step - loss: 71073075.4615 - val_loss: 106476568.0000\n",
      "Epoch 142/200\n",
      "25/25 [==============================] - 0s 16ms/step - loss: 71070148.1538 - val_loss: 106472896.0000\n",
      "Epoch 143/200\n",
      "25/25 [==============================] - 0s 16ms/step - loss: 71067228.3846 - val_loss: 106469216.0000\n",
      "Epoch 144/200\n",
      "25/25 [==============================] - 0s 15ms/step - loss: 71064301.4615 - val_loss: 106465552.0000\n",
      "Epoch 145/200\n",
      "25/25 [==============================] - 0s 16ms/step - loss: 71061377.0769 - val_loss: 106461880.0000\n",
      "Epoch 146/200\n",
      "25/25 [==============================] - 0s 16ms/step - loss: 71058445.8462 - val_loss: 106458184.0000\n",
      "Epoch 147/200\n",
      "25/25 [==============================] - 0s 15ms/step - loss: 71055530.2308 - val_loss: 106454512.0000\n",
      "Epoch 148/200\n",
      "25/25 [==============================] - 0s 16ms/step - loss: 71052601.2308 - val_loss: 106450848.0000\n",
      "Epoch 149/200\n",
      "25/25 [==============================] - 0s 16ms/step - loss: 71049681.3077 - val_loss: 106447168.0000\n",
      "Epoch 150/200\n",
      "25/25 [==============================] - 0s 16ms/step - loss: 71046757.2308 - val_loss: 106443480.0000\n",
      "Epoch 151/200\n",
      "25/25 [==============================] - 0s 15ms/step - loss: 71043829.3846 - val_loss: 106439816.0000\n",
      "Epoch 152/200\n",
      "25/25 [==============================] - 0s 16ms/step - loss: 71040908.9231 - val_loss: 106436136.0000\n",
      "Epoch 153/200\n",
      "25/25 [==============================] - 0s 16ms/step - loss: 71037990.6923 - val_loss: 106432480.0000\n",
      "Epoch 154/200\n",
      "25/25 [==============================] - 0s 16ms/step - loss: 71035059.0000 - val_loss: 106428776.0000\n",
      "Epoch 155/200\n",
      "25/25 [==============================] - 0s 15ms/step - loss: 71032139.5385 - val_loss: 106425104.0000\n",
      "Epoch 156/200\n",
      "25/25 [==============================] - 0s 15ms/step - loss: 71029217.3846 - val_loss: 106421448.0000\n",
      "Epoch 157/200\n",
      "25/25 [==============================] - 0s 15ms/step - loss: 71026300.0769 - val_loss: 106417760.0000\n",
      "Epoch 158/200\n",
      "25/25 [==============================] - 0s 16ms/step - loss: 71023375.5385 - val_loss: 106414096.0000\n",
      "Epoch 159/200\n",
      "25/25 [==============================] - 0s 15ms/step - loss: 71020443.6154 - val_loss: 106410408.0000\n",
      "Epoch 160/200\n",
      "25/25 [==============================] - 0s 15ms/step - loss: 71017527.9231 - val_loss: 106406744.0000\n",
      "Epoch 161/200\n",
      "25/25 [==============================] - 0s 15ms/step - loss: 71014601.3077 - val_loss: 106403064.0000\n",
      "Epoch 162/200\n",
      "25/25 [==============================] - 0s 15ms/step - loss: 71011681.0000 - val_loss: 106399400.0000\n",
      "Epoch 163/200\n",
      "25/25 [==============================] - 0s 15ms/step - loss: 71008758.3077 - val_loss: 106395712.0000\n",
      "Epoch 164/200\n",
      "25/25 [==============================] - 0s 16ms/step - loss: 71005836.3077 - val_loss: 106392040.0000\n",
      "Epoch 165/200\n",
      "25/25 [==============================] - 0s 16ms/step - loss: 71002915.6154 - val_loss: 106388360.0000\n",
      "Epoch 166/200\n",
      "25/25 [==============================] - 0s 16ms/step - loss: 70999988.2308 - val_loss: 106384696.0000\n",
      "Epoch 167/200\n",
      "25/25 [==============================] - 0s 15ms/step - loss: 70997068.4615 - val_loss: 106381016.0000\n",
      "Epoch 168/200\n",
      "25/25 [==============================] - 0s 15ms/step - loss: 70994143.6154 - val_loss: 106377328.0000\n",
      "Epoch 169/200\n",
      "25/25 [==============================] - 0s 16ms/step - loss: 70991221.5385 - val_loss: 106373664.0000\n",
      "Epoch 170/200\n",
      "25/25 [==============================] - 0s 16ms/step - loss: 70988298.3077 - val_loss: 106369984.0000\n",
      "Epoch 171/200\n",
      "25/25 [==============================] - 0s 15ms/step - loss: 70985378.1538 - val_loss: 106366328.0000\n",
      "Epoch 172/200\n",
      "25/25 [==============================] - 0s 16ms/step - loss: 70982455.0000 - val_loss: 106362624.0000\n",
      "Epoch 173/200\n",
      "25/25 [==============================] - 0s 15ms/step - loss: 70979531.2308 - val_loss: 106358960.0000\n",
      "Epoch 174/200\n",
      "25/25 [==============================] - 0s 16ms/step - loss: 70976610.2308 - val_loss: 106355296.0000\n",
      "Epoch 175/200\n",
      "25/25 [==============================] - 0s 15ms/step - loss: 70973697.2308 - val_loss: 106351624.0000\n",
      "Epoch 176/200\n",
      "25/25 [==============================] - 0s 16ms/step - loss: 70970761.0769 - val_loss: 106347952.0000\n",
      "Epoch 177/200\n",
      "25/25 [==============================] - 0s 17ms/step - loss: 70967847.9231 - val_loss: 106344264.0000\n",
      "Epoch 178/200\n",
      "25/25 [==============================] - 0s 16ms/step - loss: 70964927.7692 - val_loss: 106340600.0000\n",
      "Epoch 179/200\n",
      "25/25 [==============================] - 0s 16ms/step - loss: 70961998.3077 - val_loss: 106336928.0000\n",
      "Epoch 180/200\n",
      "25/25 [==============================] - 0s 16ms/step - loss: 70959081.1538 - val_loss: 106333264.0000\n",
      "Epoch 181/200\n",
      "25/25 [==============================] - 0s 16ms/step - loss: 70956156.4615 - val_loss: 106329568.0000\n",
      "Epoch 182/200\n",
      "25/25 [==============================] - 0s 15ms/step - loss: 70953240.4615 - val_loss: 106325896.0000\n",
      "Epoch 183/200\n",
      "25/25 [==============================] - 0s 16ms/step - loss: 70950317.5385 - val_loss: 106322232.0000\n",
      "Epoch 184/200\n",
      "25/25 [==============================] - 0s 15ms/step - loss: 70947394.8462 - val_loss: 106318560.0000\n",
      "Epoch 185/200\n",
      "25/25 [==============================] - 0s 16ms/step - loss: 70944477.8462 - val_loss: 106314896.0000\n",
      "Epoch 186/200\n",
      "25/25 [==============================] - 0s 17ms/step - loss: 70941555.2308 - val_loss: 106311208.0000\n",
      "Epoch 187/200\n",
      "25/25 [==============================] - 0s 16ms/step - loss: 70938634.7692 - val_loss: 106307536.0000\n",
      "Epoch 188/200\n",
      "25/25 [==============================] - 0s 16ms/step - loss: 70935713.0000 - val_loss: 106303864.0000\n",
      "Epoch 189/200\n",
      "25/25 [==============================] - 0s 16ms/step - loss: 70932793.2308 - val_loss: 106300200.0000\n",
      "Epoch 190/200\n",
      "25/25 [==============================] - 0s 16ms/step - loss: 70929874.0000 - val_loss: 106296512.0000\n",
      "Epoch 191/200\n",
      "25/25 [==============================] - 0s 15ms/step - loss: 70926948.0000 - val_loss: 106292832.0000\n",
      "Epoch 192/200\n",
      "25/25 [==============================] - 0s 16ms/step - loss: 70924028.7692 - val_loss: 106289176.0000\n",
      "Epoch 193/200\n",
      "25/25 [==============================] - 0s 16ms/step - loss: 70921109.1538 - val_loss: 106285504.0000\n",
      "Epoch 194/200\n",
      "25/25 [==============================] - 0s 16ms/step - loss: 70918192.0000 - val_loss: 106281840.0000\n",
      "Epoch 195/200\n",
      "25/25 [==============================] - 0s 16ms/step - loss: 70915271.9231 - val_loss: 106278152.0000\n",
      "Epoch 196/200\n",
      "25/25 [==============================] - 0s 16ms/step - loss: 70912341.6154 - val_loss: 106274480.0000\n",
      "Epoch 197/200\n",
      "25/25 [==============================] - 0s 16ms/step - loss: 70909427.0769 - val_loss: 106270808.0000\n",
      "Epoch 198/200\n",
      "25/25 [==============================] - 0s 16ms/step - loss: 70906506.5385 - val_loss: 106267144.0000\n",
      "Epoch 199/200\n",
      "25/25 [==============================] - 0s 16ms/step - loss: 70903592.3846 - val_loss: 106263464.0000\n",
      "Epoch 200/200\n",
      "25/25 [==============================] - 0s 16ms/step - loss: 70900665.9231 - val_loss: 106259784.0000\n"
     ]
    }
   ],
   "source": [
    "# Fit as normal - use config. for everything and add WandbCallback\n",
    "history = model.fit(X_train, \n",
    "                    y_train, \n",
    "                    batch_size=config.batch_size, \n",
    "                    epochs=config.epochs,\n",
    "                    shuffle=config.shuffle,\n",
    "                    validation_data=(X_val, y_val),\n",
    "                    callbacks=[WandbCallback()])"
   ]
  },
  {
   "cell_type": "markdown",
   "id": "l5uHwHLXPUDJ",
   "metadata": {
    "id": "l5uHwHLXPUDJ"
   },
   "source": [
    "Doesn't look like having unnormalized data is very helpful."
   ]
  },
  {
   "cell_type": "markdown",
   "id": "Ak-sh7jhPalx",
   "metadata": {
    "id": "Ak-sh7jhPalx"
   },
   "source": [
    "## LSTM with Normalized Data"
   ]
  },
  {
   "cell_type": "markdown",
   "id": "cx9kcJgsSP87",
   "metadata": {
    "id": "cx9kcJgsSP87"
   },
   "source": [
    "We need to split the data first (train, val, test) and then scale before we turn it into the sequences we want to feed into the LSTM.\n",
    "\n",
    "When we call `int()` it always rounds down. Perhaps `math.floor()` would be better or even fucking floor division!\n",
    "\n",
    "We only need to define two of the three sizes. Since they sum to one. So we just need the sizes for train and val and then test will be 1-that. \n",
    "\n",
    "Wait... I need to put in the targets too but the targets exist from the features. \n",
    "\n",
    "So I need to scale all the data using the train/val/test sizes I've specified. \n",
    "\n",
    "Jason says I need to [reframe my time-series problem as a supervised ML problem](https://machinelearningmastery.com/convert-time-series-supervised-learning-problem-python/). \n",
    "\n",
    "Think it makes sense to first transform the problem into a supervised ML task. \n",
    "\n",
    "Can defo make use of the `series_to_supervised` function in the above article to elegantly reframe the dataset before moving on. This may make it possible to just `fit_transform()` the whole dataset and then"
   ]
  },
  {
   "cell_type": "code",
   "execution_count": 92,
   "id": "tmEW22DyTb-d",
   "metadata": {
    "executionInfo": {
     "elapsed": 2603,
     "status": "ok",
     "timestamp": 1615217628004,
     "user": {
      "displayName": "Adam Murphy",
      "photoUrl": "https://lh3.googleusercontent.com/a-/AOh14GhrEUWR1gM_kMZc1JaOXZTsyHAIY7wGzIWe3pircVE=s64",
      "userId": "08787610892899884155"
     },
     "user_tz": -120
    },
    "id": "tmEW22DyTb-d"
   },
   "outputs": [],
   "source": [
    "def train_val_test_split(data, train_size=0.6, val_size=0.2):\n",
    "    \"\"\"\n",
    "    data should be a dataframe, series or numpy object in its original (probably\n",
    "    tabular) form. It should _not_ be in a form ready to be fed into an LSTM,\n",
    "    we will do that transformation after this. \n",
    "\n",
    "    We need to split the data first if we are to transform it before feeding it\n",
    "    into our LSTM.\n",
    "    \"\"\"\n",
    "    assert train_size + val_size < 1\n",
    "\n",
    "    num_samples = len(data)\n",
    "    # int() rounds all numbers down\n",
    "    num_train_samples = int(num_samples * train_size)\n",
    "    num_val_samples = int(num_samples * val_size)\n",
    "\n",
    "    # Slice dataset into train-val-test\n",
    "    X_train = data[:num_train_samples]\n",
    "    X_val = data[num_train_samples:num_train_samples + num_val_samples]\n",
    "    X_test = data[num_train_samples + num_val_samples:]\n",
    "\n",
    "    # Turn into 2D arraus\n",
    "    X_train = X_train.values.reshape(-1, 1)\n",
    "    X_val = X_val.values.reshape(-1, 1)\n",
    "    X_test = X_test.values.reshape(-1, 1)\n",
    "\n",
    "    return X_train, X_val, X_test"
   ]
  },
  {
   "cell_type": "code",
   "execution_count": 93,
   "id": "NRFyLUoGQWW2",
   "metadata": {
    "executionInfo": {
     "elapsed": 2513,
     "status": "ok",
     "timestamp": 1615217631524,
     "user": {
      "displayName": "Adam Murphy",
      "photoUrl": "https://lh3.googleusercontent.com/a-/AOh14GhrEUWR1gM_kMZc1JaOXZTsyHAIY7wGzIWe3pircVE=s64",
      "userId": "08787610892899884155"
     },
     "user_tz": -120
    },
    "id": "NRFyLUoGQWW2"
   },
   "outputs": [],
   "source": [
    "X_train, X_val, X_test = train_val_test_split(price_nonans.c)"
   ]
  },
  {
   "cell_type": "code",
   "execution_count": 94,
   "id": "bV_b1TPfX7hg",
   "metadata": {
    "colab": {
     "base_uri": "https://localhost:8080/"
    },
    "executionInfo": {
     "elapsed": 4767,
     "status": "ok",
     "timestamp": 1615217633931,
     "user": {
      "displayName": "Adam Murphy",
      "photoUrl": "https://lh3.googleusercontent.com/a-/AOh14GhrEUWR1gM_kMZc1JaOXZTsyHAIY7wGzIWe3pircVE=s64",
      "userId": "08787610892899884155"
     },
     "user_tz": -120
    },
    "id": "bV_b1TPfX7hg",
    "outputId": "1ccf68d7-a700-4436-c8fa-fe299f5cde23"
   },
   "outputs": [
    {
     "data": {
      "text/plain": [
       "True"
      ]
     },
     "execution_count": 94,
     "metadata": {
      "tags": []
     },
     "output_type": "execute_result"
    }
   ],
   "source": [
    "len(X_train) + len(X_val) + len(X_test) == len(price_nonans.c)"
   ]
  },
  {
   "cell_type": "code",
   "execution_count": 95,
   "id": "i_guf1TsYRQ3",
   "metadata": {
    "colab": {
     "base_uri": "https://localhost:8080/"
    },
    "executionInfo": {
     "elapsed": 5911,
     "status": "ok",
     "timestamp": 1615217635740,
     "user": {
      "displayName": "Adam Murphy",
      "photoUrl": "https://lh3.googleusercontent.com/a-/AOh14GhrEUWR1gM_kMZc1JaOXZTsyHAIY7wGzIWe3pircVE=s64",
      "userId": "08787610892899884155"
     },
     "user_tz": -120
    },
    "id": "i_guf1TsYRQ3",
    "outputId": "3258ebc0-7777-42fd-b7ae-5116802952dd"
   },
   "outputs": [
    {
     "data": {
      "text/plain": [
       "(10000, 1)"
      ]
     },
     "execution_count": 95,
     "metadata": {
      "tags": []
     },
     "output_type": "execute_result"
    }
   ],
   "source": [
    "X_train.shape"
   ]
  },
  {
   "cell_type": "code",
   "execution_count": 96,
   "id": "rp0RBbk7PaPl",
   "metadata": {
    "executionInfo": {
     "elapsed": 5801,
     "status": "ok",
     "timestamp": 1615217637991,
     "user": {
      "displayName": "Adam Murphy",
      "photoUrl": "https://lh3.googleusercontent.com/a-/AOh14GhrEUWR1gM_kMZc1JaOXZTsyHAIY7wGzIWe3pircVE=s64",
      "userId": "08787610892899884155"
     },
     "user_tz": -120
    },
    "id": "rp0RBbk7PaPl"
   },
   "outputs": [],
   "source": [
    "min_max = MinMaxScaler()\n",
    "\n",
    "X_train_scaled = min_max.fit_transform(X_train)\n",
    "X_val_scaled = min_max.transform(X_val)\n",
    "X_test_scaled = min_max.transform(X_test)"
   ]
  },
  {
   "cell_type": "code",
   "execution_count": 98,
   "id": "eKSkw06keS6v",
   "metadata": {
    "colab": {
     "base_uri": "https://localhost:8080/"
    },
    "executionInfo": {
     "elapsed": 2459,
     "status": "ok",
     "timestamp": 1615217680616,
     "user": {
      "displayName": "Adam Murphy",
      "photoUrl": "https://lh3.googleusercontent.com/a-/AOh14GhrEUWR1gM_kMZc1JaOXZTsyHAIY7wGzIWe3pircVE=s64",
      "userId": "08787610892899884155"
     },
     "user_tz": -120
    },
    "id": "eKSkw06keS6v",
    "outputId": "ba53093d-206f-4bc9-8527-d0d4169aeb56"
   },
   "outputs": [
    {
     "data": {
      "text/plain": [
       "True"
      ]
     },
     "execution_count": 98,
     "metadata": {
      "tags": []
     },
     "output_type": "execute_result"
    }
   ],
   "source": [
    "type(X_train_scaled)\n",
    "isinstance(X_train_scaled, np.ndarray)"
   ]
  },
  {
   "cell_type": "code",
   "execution_count": 100,
   "id": "satellite-willow",
   "metadata": {
    "executionInfo": {
     "elapsed": 2831,
     "status": "ok",
     "timestamp": 1615217730764,
     "user": {
      "displayName": "Adam Murphy",
      "photoUrl": "https://lh3.googleusercontent.com/a-/AOh14GhrEUWR1gM_kMZc1JaOXZTsyHAIY7wGzIWe3pircVE=s64",
      "userId": "08787610892899884155"
     },
     "user_tz": -120
    },
    "id": "satellite-willow"
   },
   "outputs": [],
   "source": [
    "X_train, y_train = make_seqs_and_targets(X_train_scaled, 168)\n",
    "X_val, y_val = make_seqs_and_targets(X_val_scaled, 168)\n",
    "X_test, y_test = make_seqs_and_targets(X_test_scaled, 168)"
   ]
  },
  {
   "cell_type": "code",
   "execution_count": 103,
   "id": "lc_tEBqJaUAO",
   "metadata": {
    "colab": {
     "base_uri": "https://localhost:8080/"
    },
    "executionInfo": {
     "elapsed": 2536,
     "status": "ok",
     "timestamp": 1615217777326,
     "user": {
      "displayName": "Adam Murphy",
      "photoUrl": "https://lh3.googleusercontent.com/a-/AOh14GhrEUWR1gM_kMZc1JaOXZTsyHAIY7wGzIWe3pircVE=s64",
      "userId": "08787610892899884155"
     },
     "user_tz": -120
    },
    "id": "lc_tEBqJaUAO",
    "outputId": "2337bd92-0b9f-4996-bf2e-29709e78afa8"
   },
   "outputs": [
    {
     "name": "stdout",
     "output_type": "stream",
     "text": [
      "(9832, 168, 1) (9832, 1)\n",
      "(3165, 168, 1) (3165, 1)\n",
      "(3166, 168, 1) (3166, 1)\n"
     ]
    }
   ],
   "source": [
    "print(X_train.shape, y_train.shape)\n",
    "print(X_val.shape, y_val.shape)\n",
    "print(X_test.shape, y_test.shape)"
   ]
  },
  {
   "cell_type": "markdown",
   "id": "vocational-delivery",
   "metadata": {
    "executionInfo": {
     "elapsed": 1317,
     "status": "aborted",
     "timestamp": 1615204354390,
     "user": {
      "displayName": "Adam Murphy",
      "photoUrl": "https://lh3.googleusercontent.com/a-/AOh14GhrEUWR1gM_kMZc1JaOXZTsyHAIY7wGzIWe3pircVE=s64",
      "userId": "08787610892899884155"
     },
     "user_tz": -120
    },
    "id": "failing-photography"
   },
   "source": [
    "# NaN Investigation\n",
    "\n",
    "Tldr: drop them, only 55 NaNs in total after 2011 across 7 days."
   ]
  },
  {
   "cell_type": "code",
   "execution_count": 27,
   "id": "postal-benjamin",
   "metadata": {
    "ExecuteTime": {
     "end_time": "2021-03-11T15:24:31.641936Z",
     "start_time": "2021-03-11T15:24:31.307740Z"
    }
   },
   "outputs": [],
   "source": [
    "price = pd.read_csv(DOWNLOAD_DIR / 'price.csv', parse_dates=[0])\n",
    "price = price.set_index('timestamp')\n",
    "# price = pd.read_csv('price.csv')\n",
    "close = price.loc[:, 'c']"
   ]
  },
  {
   "cell_type": "code",
   "execution_count": 11,
   "id": "entitled-exhibition",
   "metadata": {
    "ExecuteTime": {
     "end_time": "2021-03-11T15:17:58.925480Z",
     "start_time": "2021-03-11T15:17:58.911078Z"
    }
   },
   "outputs": [],
   "source": [
    "price[close.isna()].to_csv('Nans.csv')"
   ]
  },
  {
   "cell_type": "code",
   "execution_count": 29,
   "id": "early-automation",
   "metadata": {
    "ExecuteTime": {
     "end_time": "2021-03-11T15:24:37.714451Z",
     "start_time": "2021-03-11T15:24:37.704225Z"
    }
   },
   "outputs": [
    {
     "data": {
      "text/html": [
       "<div>\n",
       "<style scoped>\n",
       "    .dataframe tbody tr th:only-of-type {\n",
       "        vertical-align: middle;\n",
       "    }\n",
       "\n",
       "    .dataframe tbody tr th {\n",
       "        vertical-align: top;\n",
       "    }\n",
       "\n",
       "    .dataframe thead th {\n",
       "        text-align: right;\n",
       "    }\n",
       "</style>\n",
       "<table border=\"1\" class=\"dataframe\">\n",
       "  <thead>\n",
       "    <tr style=\"text-align: right;\">\n",
       "      <th></th>\n",
       "      <th>c</th>\n",
       "      <th>h</th>\n",
       "      <th>l</th>\n",
       "      <th>o</th>\n",
       "    </tr>\n",
       "    <tr>\n",
       "      <th>timestamp</th>\n",
       "      <th></th>\n",
       "      <th></th>\n",
       "      <th></th>\n",
       "      <th></th>\n",
       "    </tr>\n",
       "  </thead>\n",
       "  <tbody>\n",
       "    <tr>\n",
       "      <th>2010-07-17 23:00:00+00:00</th>\n",
       "      <td>0.04951</td>\n",
       "      <td>0.04951</td>\n",
       "      <td>0.04951</td>\n",
       "      <td>0.04951</td>\n",
       "    </tr>\n",
       "    <tr>\n",
       "      <th>2010-07-18 00:00:00+00:00</th>\n",
       "      <td>NaN</td>\n",
       "      <td>NaN</td>\n",
       "      <td>NaN</td>\n",
       "      <td>NaN</td>\n",
       "    </tr>\n",
       "    <tr>\n",
       "      <th>2010-07-18 01:00:00+00:00</th>\n",
       "      <td>NaN</td>\n",
       "      <td>NaN</td>\n",
       "      <td>NaN</td>\n",
       "      <td>NaN</td>\n",
       "    </tr>\n",
       "    <tr>\n",
       "      <th>2010-07-18 02:00:00+00:00</th>\n",
       "      <td>NaN</td>\n",
       "      <td>NaN</td>\n",
       "      <td>NaN</td>\n",
       "      <td>NaN</td>\n",
       "    </tr>\n",
       "    <tr>\n",
       "      <th>2010-07-18 03:00:00+00:00</th>\n",
       "      <td>0.05941</td>\n",
       "      <td>0.05941</td>\n",
       "      <td>0.05941</td>\n",
       "      <td>0.05941</td>\n",
       "    </tr>\n",
       "  </tbody>\n",
       "</table>\n",
       "</div>"
      ],
      "text/plain": [
       "                                 c        h        l        o\n",
       "timestamp                                                    \n",
       "2010-07-17 23:00:00+00:00  0.04951  0.04951  0.04951  0.04951\n",
       "2010-07-18 00:00:00+00:00      NaN      NaN      NaN      NaN\n",
       "2010-07-18 01:00:00+00:00      NaN      NaN      NaN      NaN\n",
       "2010-07-18 02:00:00+00:00      NaN      NaN      NaN      NaN\n",
       "2010-07-18 03:00:00+00:00  0.05941  0.05941  0.05941  0.05941"
      ]
     },
     "execution_count": 29,
     "metadata": {},
     "output_type": "execute_result"
    }
   ],
   "source": [
    "price.head()"
   ]
  },
  {
   "cell_type": "code",
   "execution_count": 50,
   "id": "painful-dublin",
   "metadata": {
    "ExecuteTime": {
     "end_time": "2021-03-11T15:32:44.634813Z",
     "start_time": "2021-03-11T15:32:44.629193Z"
    }
   },
   "outputs": [
    {
     "data": {
      "text/plain": [
       "DatetimeIndex(['2010-07-17 23:00:00+00:00', '2010-07-18 00:00:00+00:00',\n",
       "               '2010-07-18 01:00:00+00:00', '2010-07-18 02:00:00+00:00',\n",
       "               '2010-07-18 03:00:00+00:00', '2010-07-18 04:00:00+00:00',\n",
       "               '2010-07-18 05:00:00+00:00', '2010-07-18 06:00:00+00:00',\n",
       "               '2010-07-18 07:00:00+00:00', '2010-07-18 08:00:00+00:00',\n",
       "               ...\n",
       "               '2021-02-23 11:00:00+00:00', '2021-02-23 12:00:00+00:00',\n",
       "               '2021-02-23 13:00:00+00:00', '2021-02-23 14:00:00+00:00',\n",
       "               '2021-02-23 15:00:00+00:00', '2021-02-23 16:00:00+00:00',\n",
       "               '2021-02-23 17:00:00+00:00', '2021-02-23 18:00:00+00:00',\n",
       "               '2021-02-23 19:00:00+00:00', '2021-02-23 20:00:00+00:00'],\n",
       "              dtype='datetime64[ns, UTC]', name='timestamp', length=92974, freq=None)"
      ]
     },
     "execution_count": 50,
     "metadata": {},
     "output_type": "execute_result"
    }
   ],
   "source": [
    "price.c.isna()"
   ]
  },
  {
   "cell_type": "code",
   "execution_count": 60,
   "id": "agricultural-venezuela",
   "metadata": {
    "ExecuteTime": {
     "end_time": "2021-03-11T15:38:12.446561Z",
     "start_time": "2021-03-11T15:38:12.196744Z"
    }
   },
   "outputs": [
    {
     "data": {
      "image/png": "[encoded data removed]",
      "text/plain": [
       "<Figure size 720x576 with 1 Axes>"
      ]
     },
     "metadata": {},
     "output_type": "display_data"
    }
   ],
   "source": [
    "fig, ax = plt.subplots(figsize=(10, 8))\n",
    "c_nans = price.c[price.c.isna()]\n",
    "c_no_nans = price.c[price.c.notna()]\n",
    "# plt.scatter(c_no_nans.index, c_no_nans.values, s=1)\n",
    "plt.plot(c_no_nans)\n",
    "plt.vlines(c_nans.index, ymin=0, ymax=50000, colors='r', linewidths=1)\n",
    "ax.set(xlabel='Date', ylabel='BTC Price ($)', \n",
    "       title='BTC Price - red lines are NaN values')\n",
    "plt.show()"
   ]
  },
  {
   "cell_type": "code",
   "execution_count": 61,
   "id": "hourly-portugal",
   "metadata": {
    "ExecuteTime": {
     "end_time": "2021-03-11T15:38:45.958203Z",
     "start_time": "2021-03-11T15:38:45.669212Z"
    }
   },
   "outputs": [
    {
     "data": {
      "image/png": "[encoded data removed]",
      "text/plain": [
       "<Figure size 720x576 with 1 Axes>"
      ]
     },
     "metadata": {},
     "output_type": "display_data"
    }
   ],
   "source": [
    "fig, ax = plt.subplots(figsize=(10, 8))\n",
    "c_nans = price.c[price.c.isna()]\n",
    "c_no_nans = price.c[price.c.notna()]\n",
    "# plt.scatter(c_no_nans.index, c_no_nans.values, s=1)\n",
    "plt.plot(c_no_nans)\n",
    "plt.vlines(c_nans.index, ymin=0, ymax=50000, colors='r', linewidths=0.5)\n",
    "plt.xlim((np.datetime64('2018-04'), np.datetime64('2019-05')))\n",
    "ax.set(xlabel='Date', ylabel='BTC Price ($)', \n",
    "       title='BTC Price - red lines are NaN values - zoomed in')\n",
    "plt.show()"
   ]
  },
  {
   "cell_type": "code",
   "execution_count": 65,
   "id": "jewish-mongolia",
   "metadata": {
    "ExecuteTime": {
     "end_time": "2021-03-11T15:40:34.061445Z",
     "start_time": "2021-03-11T15:40:34.057503Z"
    }
   },
   "outputs": [
    {
     "data": {
      "text/plain": [
       "55"
      ]
     },
     "execution_count": 65,
     "metadata": {},
     "output_type": "execute_result"
    }
   ],
   "source": [
    "# Only 55 hours missing after 2011 (all in 2018 and 2019)\n",
    "len(c_nans.loc['2012':])"
   ]
  },
  {
   "cell_type": "code",
   "execution_count": 72,
   "id": "focal-camping",
   "metadata": {
    "ExecuteTime": {
     "end_time": "2021-03-11T15:42:46.874891Z",
     "start_time": "2021-03-11T15:42:46.869382Z"
    }
   },
   "outputs": [
    {
     "data": {
      "text/plain": [
       "7"
      ]
     },
     "execution_count": 72,
     "metadata": {},
     "output_type": "execute_result"
    }
   ],
   "source": [
    "# Only across 7 days\n",
    "len(np.unique(c_nans.loc['2012':].index.date))"
   ]
  },
  {
   "cell_type": "code",
   "execution_count": 76,
   "id": "chinese-limit",
   "metadata": {
    "ExecuteTime": {
     "end_time": "2021-03-11T15:52:11.962529Z",
     "start_time": "2021-03-11T15:52:11.745520Z"
    }
   },
   "outputs": [
    {
     "data": {
      "text/plain": [
       "[<matplotlib.lines.Line2D at 0x1637b03d0>]"
      ]
     },
     "execution_count": 76,
     "metadata": {},
     "output_type": "execute_result"
    },
    {
     "data": {
      "image/png": "[encoded data removed]",
      "text/plain": [
       "<Figure size 720x576 with 1 Axes>"
      ]
     },
     "metadata": {},
     "output_type": "display_data"
    }
   ],
   "source": [
    "fig, ax = plt.subplots(figsize=(10, 8))\n",
    "plt.plot(price.c.loc['2018-12'])"
   ]
  },
  {
   "cell_type": "code",
   "execution_count": 80,
   "id": "focal-pasta",
   "metadata": {
    "ExecuteTime": {
     "end_time": "2021-03-11T15:55:15.184150Z",
     "start_time": "2021-03-11T15:55:15.180121Z"
    }
   },
   "outputs": [],
   "source": [
    "c_nans_removed = price.c.dropna()"
   ]
  },
  {
   "cell_type": "markdown",
   "id": "dominican-chance",
   "metadata": {},
   "source": [
    "# ML Mastery Follow Along\n",
    "\n",
    "Walkthrough of [this](https://machinelearningmastery.com/how-to-develop-deep-learning-models-for-univariate-time-series-forecasting/) article"
   ]
  },
  {
   "cell_type": "code",
   "execution_count": 81,
   "id": "beautiful-stability",
   "metadata": {
    "ExecuteTime": {
     "end_time": "2021-03-11T15:55:58.815973Z",
     "start_time": "2021-03-11T15:55:58.812063Z"
    }
   },
   "outputs": [
    {
     "data": {
      "text/plain": [
       "(92192,)"
      ]
     },
     "execution_count": 81,
     "metadata": {},
     "output_type": "execute_result"
    }
   ],
   "source": [
    "c_nans_removed.shape"
   ]
  },
  {
   "cell_type": "code",
   "execution_count": 83,
   "id": "surface-authentication",
   "metadata": {
    "ExecuteTime": {
     "end_time": "2021-03-11T15:56:20.155332Z",
     "start_time": "2021-03-11T15:56:19.990952Z"
    }
   },
   "outputs": [
    {
     "data": {
      "image/png": "[encoded data removed]",
      "text/plain": [
       "<Figure size 432x288 with 1 Axes>"
      ]
     },
     "metadata": {},
     "output_type": "display_data"
    }
   ],
   "source": [
    "plt.plot(c_nans_removed)\n",
    "plt.show()"
   ]
  },
  {
   "cell_type": "markdown",
   "id": "standard-motel",
   "metadata": {},
   "source": [
    "## Creating a baseline model\n",
    "\n",
    "We won't do this here for brevity."
   ]
  },
  {
   "cell_type": "markdown",
   "id": "sunrise-accordance",
   "metadata": {},
   "source": [
    "### Train-Test Split"
   ]
  },
  {
   "cell_type": "code",
   "execution_count": 98,
   "id": "sudden-glory",
   "metadata": {
    "ExecuteTime": {
     "end_time": "2021-03-11T16:27:43.183936Z",
     "start_time": "2021-03-11T16:27:43.181371Z"
    }
   },
   "outputs": [],
   "source": [
    "def train_test_split(data, n_test):\n",
    "    return data[:-n_test], data[-n_test:]"
   ]
  },
  {
   "cell_type": "code",
   "execution_count": 100,
   "id": "eastern-victim",
   "metadata": {
    "ExecuteTime": {
     "end_time": "2021-03-11T16:28:44.617486Z",
     "start_time": "2021-03-11T16:28:44.614540Z"
    }
   },
   "outputs": [],
   "source": [
    "# difference dataset\n",
    "def difference(data, interval):\n",
    "    return [data[i] - data[i - interval] \\\n",
    "            for i in range(interval, len(data))]"
   ]
  },
  {
   "cell_type": "markdown",
   "id": "armed-august",
   "metadata": {},
   "source": [
    "### Series as Supervised Learning\n",
    "\n",
    "Need to frame as supervised ML problem"
   ]
  },
  {
   "cell_type": "code",
   "execution_count": 89,
   "id": "fifty-jumping",
   "metadata": {
    "ExecuteTime": {
     "end_time": "2021-03-11T16:03:18.289371Z",
     "start_time": "2021-03-11T16:03:18.285135Z"
    }
   },
   "outputs": [],
   "source": [
    "def series_to_supervised(data, n_in=1, n_out=1):\n",
    "    df = pd.DataFrame(data)\n",
    "    cols = []\n",
    "    # input sequence (t-n, ..., t-1)\n",
    "    for i in range(n_in, 0, -1):\n",
    "        cols.append(df.shift(i))\n",
    "    # forecast sequence (t, t+1, ..., t+n)\n",
    "    for i in range(0, n_out):\n",
    "        cols.append(df.shift(-i))\n",
    "    # put it all together\n",
    "    agg = pd.concat(cols, axis=1)\n",
    "    # drop rows with NaN values\n",
    "    agg.dropna(inplace=True)\n",
    "    return agg.values"
   ]
  },
  {
   "cell_type": "code",
   "execution_count": 92,
   "id": "beginning-savannah",
   "metadata": {
    "ExecuteTime": {
     "end_time": "2021-03-11T16:03:38.919375Z",
     "start_time": "2021-03-11T16:03:38.365443Z"
    }
   },
   "outputs": [
    {
     "data": {
      "text/plain": [
       "(85187, 169)"
      ]
     },
     "execution_count": 92,
     "metadata": {},
     "output_type": "execute_result"
    }
   ],
   "source": [
    "series_to_supervised(price.c, n_in=168).shape"
   ]
  },
  {
   "cell_type": "markdown",
   "id": "exact-houston",
   "metadata": {},
   "source": [
    "### Walk-Forward Validation\n",
    "\n",
    "Forcast for each observation in the test dataset one at a time. After each forecast is made for a time step in the test dataset, the true observation for the forecast is added to the test dataset and made available to the model. \n",
    "\n",
    "You can refit simpler models but more complex ones e.g. NNs are not refit given the computational cost. Something to toy with here. But we can still use the new input to make a prediction which is something at least. \n",
    "\n",
    "Generic func to fit the model once on the train dataset and for a specific model config. Takes train, model config and returns the fit model ready to make predictions."
   ]
  },
  {
   "cell_type": "code",
   "execution_count": 101,
   "id": "voluntary-adrian",
   "metadata": {
    "ExecuteTime": {
     "end_time": "2021-03-11T16:28:55.129807Z",
     "start_time": "2021-03-11T16:28:55.127215Z"
    }
   },
   "outputs": [],
   "source": [
    "# fit a model\n",
    "def model_fit(train, config):\n",
    "    return None"
   ]
  },
  {
   "cell_type": "markdown",
   "id": "obvious-region",
   "metadata": {},
   "source": [
    "As each time step of the dataset is enumerated, we make a prediction with the fit model. \n",
    "\n",
    "The func `model_predict()` takes the fit model, the history, and the model config and makes a single one-step prediction."
   ]
  },
  {
   "cell_type": "code",
   "execution_count": 94,
   "id": "antique-klein",
   "metadata": {
    "ExecuteTime": {
     "end_time": "2021-03-11T16:09:58.722757Z",
     "start_time": "2021-03-11T16:09:58.720502Z"
    }
   },
   "outputs": [],
   "source": [
    "# forecast with a pre-fit model\n",
    "def model_predict(model, history, config):\n",
    "    return 0.0"
   ]
  },
  {
   "cell_type": "markdown",
   "id": "pending-birmingham",
   "metadata": {},
   "source": [
    "We add this pred to the list of preds and true observation is added to the list of observations. Both lists grow on each step in the walk-forward validation.\n",
    "\n",
    "Then we compare all the preds to the true values in the test set and calc and error measure."
   ]
  },
  {
   "cell_type": "code",
   "execution_count": 95,
   "id": "million-switch",
   "metadata": {
    "ExecuteTime": {
     "end_time": "2021-03-11T16:12:05.043676Z",
     "start_time": "2021-03-11T16:12:04.987785Z"
    }
   },
   "outputs": [],
   "source": [
    "from sklearn.metrics import mean_squared_error\n",
    "\n",
    "# root mean squared error, or rmse\n",
    "def measure_rmse(actual, predicted):\n",
    "    return np.sqrt(mean_squared_error(actual, predicted))"
   ]
  },
  {
   "cell_type": "markdown",
   "id": "viral-fabric",
   "metadata": {},
   "source": [
    "Complete walk-forward validation function."
   ]
  },
  {
   "cell_type": "code",
   "execution_count": 112,
   "id": "empirical-champion",
   "metadata": {
    "ExecuteTime": {
     "end_time": "2021-03-11T16:34:43.064446Z",
     "start_time": "2021-03-11T16:34:43.059625Z"
    }
   },
   "outputs": [],
   "source": [
    "# walk-forward validation for univariate data\n",
    "def walk_forward_validation(data, n_test, config):\n",
    "    predictions = []\n",
    "    # split dataset\n",
    "    train, test = train_test_split(data, n_test)\n",
    "    # fit model\n",
    "    model = model_fit(train, config)\n",
    "    # seed history with training dataset\n",
    "    history = [x for x in train]\n",
    "    # step over each time-step in the test dataset\n",
    "    for i in range(len(test)):\n",
    "        # use fitted model to make forecast\n",
    "        yhat = model_predict(model, history, config)\n",
    "        # store forecaxst in the list of predictions\n",
    "        predictions.append(yhat)\n",
    "        # add actual observation to history for the next loop\n",
    "        history.append(test[i])\n",
    "    # estimate prediction error\n",
    "    error = measure_rmse(test, predictions)\n",
    "    print(' > %.3f' % error)\n",
    "    return error"
   ]
  },
  {
   "cell_type": "markdown",
   "id": "automotive-talent",
   "metadata": {},
   "source": [
    "### Repeat Evaluation\n",
    "\n",
    "Given the stochastic nature of NNs, we want to repeat our evaluations multiple times."
   ]
  },
  {
   "cell_type": "code",
   "execution_count": 107,
   "id": "structural-survival",
   "metadata": {
    "ExecuteTime": {
     "end_time": "2021-03-11T16:32:41.464123Z",
     "start_time": "2021-03-11T16:32:41.460826Z"
    }
   },
   "outputs": [],
   "source": [
    "# repeat evaluation of a config\n",
    "def repeat_evaluate(data, config, n_test, n_repeats=30):\n",
    "    # fit and evaluate model n times\n",
    "    scores = [walk_forward_validation(data, n_test, config) \\\n",
    "              for _ in range(n_repeats)]\n",
    "    return scores"
   ]
  },
  {
   "cell_type": "markdown",
   "id": "affiliated-ethernet",
   "metadata": {},
   "source": [
    "### Summarize Performance"
   ]
  },
  {
   "cell_type": "code",
   "execution_count": 115,
   "id": "thousand-laundry",
   "metadata": {
    "ExecuteTime": {
     "end_time": "2021-03-11T16:36:38.017351Z",
     "start_time": "2021-03-11T16:36:38.013546Z"
    }
   },
   "outputs": [],
   "source": [
    "# Summarize model performance\n",
    "def summarize_scores(name, scores):\n",
    "    # print a summary\n",
    "    scores_m, scores_std = np.mean(scores), np.std(scores)\n",
    "    print(f'{name}: {scores_m:.3f} RMSE (+/- {scores_std:.3f})')\n",
    "    sns.boxplot(x=scores)\n",
    "    plt.show()"
   ]
  },
  {
   "cell_type": "markdown",
   "id": "stock-professor",
   "metadata": {},
   "source": [
    "## Baseline Model - Persistence (average of last week)"
   ]
  },
  {
   "cell_type": "code",
   "execution_count": 102,
   "id": "sudden-armenia",
   "metadata": {
    "ExecuteTime": {
     "end_time": "2021-03-11T16:30:00.369269Z",
     "start_time": "2021-03-11T16:30:00.365355Z"
    }
   },
   "outputs": [],
   "source": [
    "# Nothing to fit\n",
    "def model_fit(train, config):\n",
    "    return None\n",
    "\n",
    "def model_predict(model, history, config):\n",
    "    values = []\n",
    "    for offset in config:\n",
    "        values.append(history[-offset])\n",
    "    return np.mean(values)"
   ]
  },
  {
   "cell_type": "code",
   "execution_count": 116,
   "id": "authorized-public",
   "metadata": {
    "ExecuteTime": {
     "end_time": "2021-03-11T16:36:49.909507Z",
     "start_time": "2021-03-11T16:36:40.178057Z"
    }
   },
   "outputs": [
    {
     "name": "stdout",
     "output_type": "stream",
     "text": [
      " > 946.621\n",
      " > 946.621\n",
      " > 946.621\n",
      " > 946.621\n",
      " > 946.621\n",
      "persistence: 946.621 RMSE (+/- 0.000)\n"
     ]
    },
    {
     "data": {
      "image/png": "[encoded data removed]",
      "text/plain": [
       "<Figure size 432x288 with 1 Axes>"
      ]
     },
     "metadata": {},
     "output_type": "display_data"
    }
   ],
   "source": [
    "price = pd.read_csv(DOWNLOAD_DIR / 'price.csv', parse_dates=[0])\n",
    "price = price.set_index('timestamp')\n",
    "close = price.loc[:, 'c'].dropna()\n",
    "data = close.values\n",
    "# data split\n",
    "n_test = int(len(data) * 0.33)\n",
    "# define config\n",
    "config = np.arange(1, 169)\n",
    "# grid search\n",
    "scores = repeat_evaluate(data, config, n_test, 5)\n",
    "summarize_scores('persistence', scores)"
   ]
  },
  {
   "cell_type": "markdown",
   "id": "peripheral-landscape",
   "metadata": {},
   "source": [
    "## Let's build an NN\n",
    "\n",
    "Continue following [this](https://machinelearningmastery.com/how-to-develop-deep-learning-models-for-univariate-time-series-forecasting/) article."
   ]
  },
  {
   "cell_type": "code",
   "execution_count": null,
   "id": "balanced-crawford",
   "metadata": {},
   "outputs": [],
   "source": []
  },
  {
   "cell_type": "code",
   "execution_count": null,
   "id": "hazardous-death",
   "metadata": {},
   "outputs": [],
   "source": []
  },
  {
   "cell_type": "code",
   "execution_count": null,
   "id": "expensive-nicholas",
   "metadata": {},
   "outputs": [],
   "source": []
  },
  {
   "cell_type": "code",
   "execution_count": null,
   "id": "extraordinary-teens",
   "metadata": {},
   "outputs": [],
   "source": []
  },
  {
   "cell_type": "code",
   "execution_count": null,
   "id": "interim-modem",
   "metadata": {},
   "outputs": [],
   "source": []
  },
  {
   "cell_type": "code",
   "execution_count": null,
   "id": "first-classroom",
   "metadata": {},
   "outputs": [],
   "source": []
  },
  {
   "cell_type": "code",
   "execution_count": null,
   "id": "forty-asbestos",
   "metadata": {},
   "outputs": [],
   "source": []
  },
  {
   "cell_type": "code",
   "execution_count": null,
   "id": "auburn-arcade",
   "metadata": {},
   "outputs": [],
   "source": []
  }
 ],
 "metadata": {
  "accelerator": "GPU",
  "colab": {
   "collapsed_sections": [
    "IXSrlMhwIk7U"
   ],
   "name": "keras_price_predictor.ipynb",
   "provenance": []
  },
  "kernelspec": {
   "display_name": "Python 3",
   "language": "python",
   "name": "python3"
  },
  "language_info": {
   "codemirror_mode": {
    "name": "ipython",
    "version": 3
   },
   "file_extension": ".py",
   "mimetype": "text/x-python",
   "name": "python",
   "nbconvert_exporter": "python",
   "pygments_lexer": "ipython3",
   "version": "3.7.9"
  },
  "toc": {
   "base_numbering": 1,
   "nav_menu": {},
   "number_sections": true,
   "sideBar": true,
   "skip_h1_title": false,
   "title_cell": "Table of Contents",
   "title_sidebar": "Contents",
   "toc_cell": false,
   "toc_position": {},
   "toc_section_display": true,
   "toc_window_display": false
  },
  "varInspector": {
   "cols": {
    "lenName": 16,
    "lenType": 16,
    "lenVar": 40
   },
   "kernels_config": {
    "python": {
     "delete_cmd_postfix": "",
     "delete_cmd_prefix": "del ",
     "library": "var_list.py",
     "varRefreshCmd": "print(var_dic_list())"
    },
    "r": {
     "delete_cmd_postfix": ") ",
     "delete_cmd_prefix": "rm(",
     "library": "var_list.r",
     "varRefreshCmd": "cat(var_dic_list()) "
    }
   },
   "types_to_exclude": [
    "module",
    "function",
    "builtin_function_or_method",
    "instance",
    "_Feature"
   ],
   "window_display": false
  },
  "widgets": {
   "application/vnd.jupyter.widget-state+json": {
    "311c8060b3a14cb19157eaddb12afc2a": {
     "model_module": "@jupyter-widgets/base",
     "model_name": "LayoutModel",
     "state": {
      "_model_module": "@jupyter-widgets/base",
      "_model_module_version": "1.2.0",
      "_model_name": "LayoutModel",
      "_view_count": null,
      "_view_module": "@jupyter-widgets/base",
      "_view_module_version": "1.2.0",
      "_view_name": "LayoutView",
      "align_content": null,
      "align_items": null,
      "align_self": null,
      "border": null,
      "bottom": null,
      "display": null,
      "flex": null,
      "flex_flow": null,
      "grid_area": null,
      "grid_auto_columns": null,
      "grid_auto_flow": null,
      "grid_auto_rows": null,
      "grid_column": null,
      "grid_gap": null,
      "grid_row": null,
      "grid_template_areas": null,
      "grid_template_columns": null,
      "grid_template_rows": null,
      "height": null,
      "justify_content": null,
      "justify_items": null,
      "left": null,
      "margin": null,
      "max_height": null,
      "max_width": null,
      "min_height": null,
      "min_width": null,
      "object_fit": null,
      "object_position": null,
      "order": null,
      "overflow": null,
      "overflow_x": null,
      "overflow_y": null,
      "padding": null,
      "right": null,
      "top": null,
      "visibility": null,
      "width": null
     }
    },
    "6fa1ff3cfcc147558e2a5a66551f7306": {
     "model_module": "@jupyter-widgets/controls",
     "model_name": "VBoxModel",
     "state": {
      "_dom_classes": [],
      "_model_module": "@jupyter-widgets/controls",
      "_model_module_version": "1.5.0",
      "_model_name": "VBoxModel",
      "_view_count": null,
      "_view_module": "@jupyter-widgets/controls",
      "_view_module_version": "1.5.0",
      "_view_name": "VBoxView",
      "box_style": "",
      "children": [
       "IPY_MODEL_e48d213c9e234c34aae8d4168dd492f2",
       "IPY_MODEL_7669b9ef16d64d86a808ba88b55ba37f"
      ],
      "layout": "IPY_MODEL_8e77a39f08ec4a2184cc2b306f11bcae"
     }
    },
    "7669b9ef16d64d86a808ba88b55ba37f": {
     "model_module": "@jupyter-widgets/controls",
     "model_name": "FloatProgressModel",
     "state": {
      "_dom_classes": [],
      "_model_module": "@jupyter-widgets/controls",
      "_model_module_version": "1.5.0",
      "_model_name": "FloatProgressModel",
      "_view_count": null,
      "_view_module": "@jupyter-widgets/controls",
      "_view_module_version": "1.5.0",
      "_view_name": "ProgressView",
      "bar_style": "",
      "description": "",
      "description_tooltip": null,
      "layout": "IPY_MODEL_311c8060b3a14cb19157eaddb12afc2a",
      "max": 1,
      "min": 0,
      "orientation": "horizontal",
      "style": "IPY_MODEL_f9c84f6ea7854119bf2cc7b1fa8345e5",
      "value": 1
     }
    },
    "8e77a39f08ec4a2184cc2b306f11bcae": {
     "model_module": "@jupyter-widgets/base",
     "model_name": "LayoutModel",
     "state": {
      "_model_module": "@jupyter-widgets/base",
      "_model_module_version": "1.2.0",
      "_model_name": "LayoutModel",
      "_view_count": null,
      "_view_module": "@jupyter-widgets/base",
      "_view_module_version": "1.2.0",
      "_view_name": "LayoutView",
      "align_content": null,
      "align_items": null,
      "align_self": null,
      "border": null,
      "bottom": null,
      "display": null,
      "flex": null,
      "flex_flow": null,
      "grid_area": null,
      "grid_auto_columns": null,
      "grid_auto_flow": null,
      "grid_auto_rows": null,
      "grid_column": null,
      "grid_gap": null,
      "grid_row": null,
      "grid_template_areas": null,
      "grid_template_columns": null,
      "grid_template_rows": null,
      "height": null,
      "justify_content": null,
      "justify_items": null,
      "left": null,
      "margin": null,
      "max_height": null,
      "max_width": null,
      "min_height": null,
      "min_width": null,
      "object_fit": null,
      "object_position": null,
      "order": null,
      "overflow": null,
      "overflow_x": null,
      "overflow_y": null,
      "padding": null,
      "right": null,
      "top": null,
      "visibility": null,
      "width": null
     }
    },
    "93d80014433f41a6898523b5bdb3e3da": {
     "model_module": "@jupyter-widgets/base",
     "model_name": "LayoutModel",
     "state": {
      "_model_module": "@jupyter-widgets/base",
      "_model_module_version": "1.2.0",
      "_model_name": "LayoutModel",
      "_view_count": null,
      "_view_module": "@jupyter-widgets/base",
      "_view_module_version": "1.2.0",
      "_view_name": "LayoutView",
      "align_content": null,
      "align_items": null,
      "align_self": null,
      "border": null,
      "bottom": null,
      "display": null,
      "flex": null,
      "flex_flow": null,
      "grid_area": null,
      "grid_auto_columns": null,
      "grid_auto_flow": null,
      "grid_auto_rows": null,
      "grid_column": null,
      "grid_gap": null,
      "grid_row": null,
      "grid_template_areas": null,
      "grid_template_columns": null,
      "grid_template_rows": null,
      "height": null,
      "justify_content": null,
      "justify_items": null,
      "left": null,
      "margin": null,
      "max_height": null,
      "max_width": null,
      "min_height": null,
      "min_width": null,
      "object_fit": null,
      "object_position": null,
      "order": null,
      "overflow": null,
      "overflow_x": null,
      "overflow_y": null,
      "padding": null,
      "right": null,
      "top": null,
      "visibility": null,
      "width": null
     }
    },
    "d4c08641661a492180499157e13d7643": {
     "model_module": "@jupyter-widgets/controls",
     "model_name": "DescriptionStyleModel",
     "state": {
      "_model_module": "@jupyter-widgets/controls",
      "_model_module_version": "1.5.0",
      "_model_name": "DescriptionStyleModel",
      "_view_count": null,
      "_view_module": "@jupyter-widgets/base",
      "_view_module_version": "1.2.0",
      "_view_name": "StyleView",
      "description_width": ""
     }
    },
    "e48d213c9e234c34aae8d4168dd492f2": {
     "model_module": "@jupyter-widgets/controls",
     "model_name": "LabelModel",
     "state": {
      "_dom_classes": [],
      "_model_module": "@jupyter-widgets/controls",
      "_model_module_version": "1.5.0",
      "_model_name": "LabelModel",
      "_view_count": null,
      "_view_module": "@jupyter-widgets/controls",
      "_view_module_version": "1.5.0",
      "_view_name": "LabelView",
      "description": "",
      "description_tooltip": null,
      "layout": "IPY_MODEL_93d80014433f41a6898523b5bdb3e3da",
      "placeholder": "​",
      "style": "IPY_MODEL_d4c08641661a492180499157e13d7643",
      "value": " 0.13MB of 0.13MB uploaded (0.00MB deduped)\r"
     }
    },
    "f9c84f6ea7854119bf2cc7b1fa8345e5": {
     "model_module": "@jupyter-widgets/controls",
     "model_name": "ProgressStyleModel",
     "state": {
      "_model_module": "@jupyter-widgets/controls",
      "_model_module_version": "1.5.0",
      "_model_name": "ProgressStyleModel",
      "_view_count": null,
      "_view_module": "@jupyter-widgets/base",
      "_view_module_version": "1.2.0",
      "_view_name": "StyleView",
      "bar_color": null,
      "description_width": ""
     }
    }
   }
  }
 },
 "nbformat": 4,
 "nbformat_minor": 5
}
