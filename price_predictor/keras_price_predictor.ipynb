{
 "cells": [
  {
   "cell_type": "markdown",
   "id": "spoken-mixer",
   "metadata": {},
   "source": [
    "# First Attempt with Keras\n",
    "\n",
    "Let's have a play around and see what I can do. Let's just build a nice simple model, using the medium article as a follow along. "
   ]
  },
  {
   "cell_type": "code",
   "execution_count": 55,
   "id": "discrete-profit",
   "metadata": {
    "ExecuteTime": {
     "end_time": "2021-02-26T16:59:55.405167Z",
     "start_time": "2021-02-26T16:59:55.391231Z"
    }
   },
   "outputs": [],
   "source": [
    "import numpy as np\n",
    "import pandas as pd\n",
    "import matplotlib.pyplot as plt\n",
    "from pathlib import Path\n",
    "import seaborn as sns\n",
    "\n",
    "from tensorflow.keras import Input, Model\n",
    "from tensorflow.keras.layers import Dense, LSTM\n",
    "from tensorflow.keras.models import Sequential\n",
    "\n",
    "from sklearn.preprocessing import StandardScaler, MinMaxScaler\n",
    "min_max = MinMaxScaler()\n",
    "scaler = StandardScaler()\n",
    "\n",
    "DOWNLOAD_DIR = Path('../download')"
   ]
  },
  {
   "cell_type": "code",
   "execution_count": 56,
   "id": "incredible-princeton",
   "metadata": {
    "ExecuteTime": {
     "end_time": "2021-02-26T16:59:56.616403Z",
     "start_time": "2021-02-26T16:59:56.588475Z"
    }
   },
   "outputs": [],
   "source": [
    "sns.set()"
   ]
  },
  {
   "cell_type": "code",
   "execution_count": 57,
   "id": "champion-smooth",
   "metadata": {
    "ExecuteTime": {
     "end_time": "2021-02-26T16:59:56.985090Z",
     "start_time": "2021-02-26T16:59:56.849489Z"
    }
   },
   "outputs": [],
   "source": [
    "price = pd.read_csv(DOWNLOAD_DIR / 'price.csv')\n",
    "close = price.loc[:, 'c']"
   ]
  },
  {
   "cell_type": "code",
   "execution_count": 58,
   "id": "handmade-childhood",
   "metadata": {
    "ExecuteTime": {
     "end_time": "2021-02-26T16:59:57.331078Z",
     "start_time": "2021-02-26T16:59:57.319276Z"
    }
   },
   "outputs": [
    {
     "data": {
      "text/html": [
       "<div>\n",
       "<style scoped>\n",
       "    .dataframe tbody tr th:only-of-type {\n",
       "        vertical-align: middle;\n",
       "    }\n",
       "\n",
       "    .dataframe tbody tr th {\n",
       "        vertical-align: top;\n",
       "    }\n",
       "\n",
       "    .dataframe thead th {\n",
       "        text-align: right;\n",
       "    }\n",
       "</style>\n",
       "<table border=\"1\" class=\"dataframe\">\n",
       "  <thead>\n",
       "    <tr style=\"text-align: right;\">\n",
       "      <th></th>\n",
       "      <th>timestamp</th>\n",
       "      <th>c</th>\n",
       "      <th>h</th>\n",
       "      <th>l</th>\n",
       "      <th>o</th>\n",
       "    </tr>\n",
       "  </thead>\n",
       "  <tbody>\n",
       "    <tr>\n",
       "      <th>0</th>\n",
       "      <td>2010-07-17T23:00:00Z</td>\n",
       "      <td>0.04951</td>\n",
       "      <td>0.04951</td>\n",
       "      <td>0.04951</td>\n",
       "      <td>0.04951</td>\n",
       "    </tr>\n",
       "    <tr>\n",
       "      <th>1</th>\n",
       "      <td>2010-07-18T00:00:00Z</td>\n",
       "      <td>NaN</td>\n",
       "      <td>NaN</td>\n",
       "      <td>NaN</td>\n",
       "      <td>NaN</td>\n",
       "    </tr>\n",
       "    <tr>\n",
       "      <th>2</th>\n",
       "      <td>2010-07-18T01:00:00Z</td>\n",
       "      <td>NaN</td>\n",
       "      <td>NaN</td>\n",
       "      <td>NaN</td>\n",
       "      <td>NaN</td>\n",
       "    </tr>\n",
       "    <tr>\n",
       "      <th>3</th>\n",
       "      <td>2010-07-18T02:00:00Z</td>\n",
       "      <td>NaN</td>\n",
       "      <td>NaN</td>\n",
       "      <td>NaN</td>\n",
       "      <td>NaN</td>\n",
       "    </tr>\n",
       "    <tr>\n",
       "      <th>4</th>\n",
       "      <td>2010-07-18T03:00:00Z</td>\n",
       "      <td>0.05941</td>\n",
       "      <td>0.05941</td>\n",
       "      <td>0.05941</td>\n",
       "      <td>0.05941</td>\n",
       "    </tr>\n",
       "  </tbody>\n",
       "</table>\n",
       "</div>"
      ],
      "text/plain": [
       "              timestamp        c        h        l        o\n",
       "0  2010-07-17T23:00:00Z  0.04951  0.04951  0.04951  0.04951\n",
       "1  2010-07-18T00:00:00Z      NaN      NaN      NaN      NaN\n",
       "2  2010-07-18T01:00:00Z      NaN      NaN      NaN      NaN\n",
       "3  2010-07-18T02:00:00Z      NaN      NaN      NaN      NaN\n",
       "4  2010-07-18T03:00:00Z  0.05941  0.05941  0.05941  0.05941"
      ]
     },
     "execution_count": 58,
     "metadata": {},
     "output_type": "execute_result"
    }
   ],
   "source": [
    "price.head()"
   ]
  },
  {
   "cell_type": "code",
   "execution_count": 59,
   "id": "backed-width",
   "metadata": {
    "ExecuteTime": {
     "end_time": "2021-02-26T16:59:58.975318Z",
     "start_time": "2021-02-26T16:59:58.968658Z"
    }
   },
   "outputs": [
    {
     "data": {
      "text/plain": [
       "92969    47437.266848\n",
       "92970    47332.765754\n",
       "92971    47410.123970\n",
       "92972    45889.364858\n",
       "92973    47467.739097\n",
       "Name: c, dtype: float64"
      ]
     },
     "execution_count": 59,
     "metadata": {},
     "output_type": "execute_result"
    }
   ],
   "source": [
    "close.tail()"
   ]
  },
  {
   "cell_type": "markdown",
   "id": "temporal-upper",
   "metadata": {},
   "source": [
    "Let's take 1 year of data and use it to predict the next 30 days. "
   ]
  },
  {
   "cell_type": "code",
   "execution_count": 60,
   "id": "catholic-queue",
   "metadata": {
    "ExecuteTime": {
     "end_time": "2021-02-26T17:00:00.722594Z",
     "start_time": "2021-02-26T17:00:00.719147Z"
    }
   },
   "outputs": [],
   "source": [
    "prediction_days = 30\n",
    "one_year = 365\n",
    "# close[-365 - 2*30:].plot()\n",
    "\n",
    "close_train = close[(-one_year - 2 * prediction_days) : -2 * prediction_days] # [-365 - 60 : -60]\n",
    "close_val = close[-2 * prediction_days: -prediction_days] # [-60 : -30]\n",
    "close_test = close[-prediction_days:] # [-30:]"
   ]
  },
  {
   "cell_type": "code",
   "execution_count": 50,
   "id": "amended-gabriel",
   "metadata": {
    "ExecuteTime": {
     "end_time": "2021-02-26T16:51:06.938641Z",
     "start_time": "2021-02-26T16:51:06.738620Z"
    }
   },
   "outputs": [
    {
     "data": {
      "text/plain": [
       "<AxesSubplot:>"
      ]
     },
     "execution_count": 50,
     "metadata": {},
     "output_type": "execute_result"
    },
    {
     "data": {
      "image/png": "[encoded data removed]",
      "text/plain": [
       "<Figure size 432x288 with 1 Axes>"
      ]
     },
     "metadata": {},
     "output_type": "display_data"
    }
   ],
   "source": [
    "close_train.plot()"
   ]
  },
  {
   "cell_type": "code",
   "execution_count": 51,
   "id": "intelligent-current",
   "metadata": {
    "ExecuteTime": {
     "end_time": "2021-02-26T16:51:09.353616Z",
     "start_time": "2021-02-26T16:51:09.164623Z"
    }
   },
   "outputs": [
    {
     "data": {
      "text/plain": [
       "<AxesSubplot:>"
      ]
     },
     "execution_count": 51,
     "metadata": {},
     "output_type": "execute_result"
    },
    {
     "data": {
      "image/png": "[encoded data removed]",
      "text/plain": [
       "<Figure size 432x288 with 1 Axes>"
      ]
     },
     "metadata": {},
     "output_type": "display_data"
    }
   ],
   "source": [
    "close_val.plot()"
   ]
  },
  {
   "cell_type": "code",
   "execution_count": 52,
   "id": "boxed-space",
   "metadata": {
    "ExecuteTime": {
     "end_time": "2021-02-26T16:51:13.813223Z",
     "start_time": "2021-02-26T16:51:13.628264Z"
    }
   },
   "outputs": [
    {
     "data": {
      "text/plain": [
       "<AxesSubplot:>"
      ]
     },
     "execution_count": 52,
     "metadata": {},
     "output_type": "execute_result"
    },
    {
     "data": {
      "image/png": "[encoded data removed]",
      "text/plain": [
       "<Figure size 432x288 with 1 Axes>"
      ]
     },
     "metadata": {},
     "output_type": "display_data"
    }
   ],
   "source": [
    "close_test.plot()"
   ]
  },
  {
   "cell_type": "code",
   "execution_count": 28,
   "id": "prime-graduate",
   "metadata": {
    "ExecuteTime": {
     "end_time": "2021-02-25T10:55:38.103669Z",
     "start_time": "2021-02-25T10:55:38.096964Z"
    },
    "scrolled": true
   },
   "outputs": [
    {
     "data": {
      "text/plain": [
       "(92943, 92944)"
      ]
     },
     "execution_count": 28,
     "metadata": {},
     "output_type": "execute_result"
    }
   ],
   "source": [
    "close_train.index[-1], close_test.index[0]"
   ]
  },
  {
   "cell_type": "code",
   "execution_count": 53,
   "id": "blessed-brush",
   "metadata": {
    "ExecuteTime": {
     "end_time": "2021-02-26T16:52:34.667479Z",
     "start_time": "2021-02-26T16:52:34.662206Z"
    }
   },
   "outputs": [
    {
     "data": {
      "text/plain": [
       "(365,)"
      ]
     },
     "execution_count": 53,
     "metadata": {},
     "output_type": "execute_result"
    }
   ],
   "source": [
    "close_train.shape"
   ]
  },
  {
   "cell_type": "code",
   "execution_count": 61,
   "id": "official-crack",
   "metadata": {
    "ExecuteTime": {
     "end_time": "2021-02-26T17:00:08.757835Z",
     "start_time": "2021-02-26T17:00:08.752609Z"
    }
   },
   "outputs": [],
   "source": [
    "# Prep for training\n",
    "training_set = close_train.values.reshape(-1, 1)\n",
    "training_set = min_max.fit_transform(training_set)\n",
    "training_set = training_set.reshape((-1, 1, 1))\n",
    "\n",
    "validation_set = close_val.values.reshape(-1, 1)\n",
    "validation_set = min_max.transform(validation_set)\n",
    "validation_set = validation_set.reshape((-1, 1, 1))\n",
    "\n",
    "# Prep for testing\n",
    "testing_set = close_test.values.reshape((-1, 1))\n",
    "testing_set = min_max.transform(testing_set)\n",
    "testing_set = testing_set.reshape((-1, 1, 1))\n",
    "\n",
    "# We are training to predict the next day's close\n",
    "# so cut off final val for X_train and start at index 1 for\n",
    "# y_train\n",
    "X_train = training_set[:-1]\n",
    "y_train = training_set[1:]\n",
    "\n",
    "X_val = validation_set[:-1]\n",
    "y_val = validation_set[1:]\n",
    "\n",
    "X_test = testing_set[:-1]\n",
    "y_test = testing_set[1:]"
   ]
  },
  {
   "cell_type": "code",
   "execution_count": 62,
   "id": "identified-discipline",
   "metadata": {
    "ExecuteTime": {
     "end_time": "2021-02-26T17:00:52.061231Z",
     "start_time": "2021-02-26T17:00:10.000154Z"
    }
   },
   "outputs": [
    {
     "name": "stdout",
     "output_type": "stream",
     "text": [
      "Train on 364 samples, validate on 29 samples\n",
      "Epoch 1/100\n",
      "364/364 [==============================] - 5s 13ms/sample - loss: 0.1535 - root_mean_squared_error: 0.3917 - val_loss: 0.3875 - val_root_mean_squared_error: 0.6225\n",
      "Epoch 2/100\n",
      "364/364 [==============================] - 0s 930us/sample - loss: 0.0685 - root_mean_squared_error: 0.2618 - val_loss: 0.2199 - val_root_mean_squared_error: 0.4690\n",
      "Epoch 3/100\n",
      "364/364 [==============================] - 0s 947us/sample - loss: 0.0336 - root_mean_squared_error: 0.1832 - val_loss: 0.1264 - val_root_mean_squared_error: 0.3556\n",
      "Epoch 4/100\n",
      "364/364 [==============================] - 0s 998us/sample - loss: 0.0242 - root_mean_squared_error: 0.1555 - val_loss: 0.0827 - val_root_mean_squared_error: 0.2877\n",
      "Epoch 5/100\n",
      "364/364 [==============================] - 0s 1ms/sample - loss: 0.0226 - root_mean_squared_error: 0.1504 - val_loss: 0.0632 - val_root_mean_squared_error: 0.2513\n",
      "Epoch 6/100\n",
      "364/364 [==============================] - 0s 977us/sample - loss: 0.0215 - root_mean_squared_error: 0.1467 - val_loss: 0.0528 - val_root_mean_squared_error: 0.2299\n",
      "Epoch 7/100\n",
      "364/364 [==============================] - 0s 1ms/sample - loss: 0.0198 - root_mean_squared_error: 0.1409 - val_loss: 0.0456 - val_root_mean_squared_error: 0.2137\n",
      "Epoch 8/100\n",
      "364/364 [==============================] - 0s 996us/sample - loss: 0.0179 - root_mean_squared_error: 0.1337 - val_loss: 0.0395 - val_root_mean_squared_error: 0.1988\n",
      "Epoch 9/100\n",
      "364/364 [==============================] - 0s 990us/sample - loss: 0.0158 - root_mean_squared_error: 0.1259 - val_loss: 0.0339 - val_root_mean_squared_error: 0.1840\n",
      "Epoch 10/100\n",
      "364/364 [==============================] - 0s 1ms/sample - loss: 0.0138 - root_mean_squared_error: 0.1176 - val_loss: 0.0286 - val_root_mean_squared_error: 0.1692\n",
      "Epoch 11/100\n",
      "364/364 [==============================] - 0s 1ms/sample - loss: 0.0119 - root_mean_squared_error: 0.1089 - val_loss: 0.0238 - val_root_mean_squared_error: 0.1544\n",
      "Epoch 12/100\n",
      "364/364 [==============================] - 0s 1ms/sample - loss: 0.0100 - root_mean_squared_error: 0.1001 - val_loss: 0.0195 - val_root_mean_squared_error: 0.1396\n",
      "Epoch 13/100\n",
      "364/364 [==============================] - 0s 1ms/sample - loss: 0.0083 - root_mean_squared_error: 0.0911 - val_loss: 0.0156 - val_root_mean_squared_error: 0.1251\n",
      "Epoch 14/100\n",
      "364/364 [==============================] - 0s 1ms/sample - loss: 0.0067 - root_mean_squared_error: 0.0821 - val_loss: 0.0123 - val_root_mean_squared_error: 0.1111\n",
      "Epoch 15/100\n",
      "364/364 [==============================] - 0s 1ms/sample - loss: 0.0054 - root_mean_squared_error: 0.0733 - val_loss: 0.0096 - val_root_mean_squared_error: 0.0977\n",
      "Epoch 16/100\n",
      "364/364 [==============================] - 0s 1ms/sample - loss: 0.0042 - root_mean_squared_error: 0.0648 - val_loss: 0.0073 - val_root_mean_squared_error: 0.0853\n",
      "Epoch 17/100\n",
      "364/364 [==============================] - 0s 1ms/sample - loss: 0.0032 - root_mean_squared_error: 0.0567 - val_loss: 0.0055 - val_root_mean_squared_error: 0.0740\n",
      "Epoch 18/100\n",
      "364/364 [==============================] - 0s 1ms/sample - loss: 0.0024 - root_mean_squared_error: 0.0492 - val_loss: 0.0041 - val_root_mean_squared_error: 0.0641\n",
      "Epoch 19/100\n",
      "364/364 [==============================] - 0s 1ms/sample - loss: 0.0018 - root_mean_squared_error: 0.0426 - val_loss: 0.0031 - val_root_mean_squared_error: 0.0556\n",
      "Epoch 20/100\n",
      "364/364 [==============================] - 1s 1ms/sample - loss: 0.0014 - root_mean_squared_error: 0.0368 - val_loss: 0.0024 - val_root_mean_squared_error: 0.0485\n",
      "Epoch 21/100\n",
      "364/364 [==============================] - 0s 1ms/sample - loss: 0.0010 - root_mean_squared_error: 0.0321 - val_loss: 0.0018 - val_root_mean_squared_error: 0.0430\n",
      "Epoch 22/100\n",
      "364/364 [==============================] - 0s 1ms/sample - loss: 8.1116e-04 - root_mean_squared_error: 0.0285 - val_loss: 0.0015 - val_root_mean_squared_error: 0.0388\n",
      "Epoch 23/100\n",
      "364/364 [==============================] - 0s 1ms/sample - loss: 6.6867e-04 - root_mean_squared_error: 0.0259 - val_loss: 0.0013 - val_root_mean_squared_error: 0.0357\n",
      "Epoch 24/100\n",
      "364/364 [==============================] - 0s 1ms/sample - loss: 5.8133e-04 - root_mean_squared_error: 0.0241 - val_loss: 0.0011 - val_root_mean_squared_error: 0.0336\n",
      "Epoch 25/100\n",
      "364/364 [==============================] - 0s 1ms/sample - loss: 5.3083e-04 - root_mean_squared_error: 0.0230 - val_loss: 0.0010 - val_root_mean_squared_error: 0.0321\n",
      "Epoch 26/100\n",
      "364/364 [==============================] - 0s 1ms/sample - loss: 5.0351e-04 - root_mean_squared_error: 0.0224 - val_loss: 9.6821e-04 - val_root_mean_squared_error: 0.0311\n",
      "Epoch 27/100\n",
      "364/364 [==============================] - 0s 1ms/sample - loss: 4.8989e-04 - root_mean_squared_error: 0.0221 - val_loss: 9.2610e-04 - val_root_mean_squared_error: 0.0304\n",
      "Epoch 28/100\n",
      "364/364 [==============================] - 0s 1ms/sample - loss: 4.8383e-04 - root_mean_squared_error: 0.0220 - val_loss: 8.9753e-04 - val_root_mean_squared_error: 0.0300\n",
      "Epoch 29/100\n",
      "364/364 [==============================] - 0s 1ms/sample - loss: 4.8158e-04 - root_mean_squared_error: 0.0219 - val_loss: 8.7753e-04 - val_root_mean_squared_error: 0.0296\n",
      "Epoch 30/100\n",
      "364/364 [==============================] - 0s 1ms/sample - loss: 4.8105e-04 - root_mean_squared_error: 0.0219 - val_loss: 8.6295e-04 - val_root_mean_squared_error: 0.0294\n",
      "Epoch 31/100\n",
      "364/364 [==============================] - 0s 1ms/sample - loss: 4.8114e-04 - root_mean_squared_error: 0.0219 - val_loss: 8.5184e-04 - val_root_mean_squared_error: 0.0292\n",
      "Epoch 32/100\n",
      "364/364 [==============================] - 0s 1ms/sample - loss: 4.8133e-04 - root_mean_squared_error: 0.0219 - val_loss: 8.4294e-04 - val_root_mean_squared_error: 0.0290\n",
      "Epoch 33/100\n",
      "364/364 [==============================] - 0s 1ms/sample - loss: 4.8139e-04 - root_mean_squared_error: 0.0219 - val_loss: 8.3547e-04 - val_root_mean_squared_error: 0.0289\n",
      "Epoch 34/100\n",
      "364/364 [==============================] - 0s 1ms/sample - loss: 4.8126e-04 - root_mean_squared_error: 0.0219 - val_loss: 8.2895e-04 - val_root_mean_squared_error: 0.0288\n",
      "Epoch 35/100\n",
      "364/364 [==============================] - 0s 1ms/sample - loss: 4.8096e-04 - root_mean_squared_error: 0.0219 - val_loss: 8.2311e-04 - val_root_mean_squared_error: 0.0287\n",
      "Epoch 36/100\n",
      "364/364 [==============================] - 0s 1ms/sample - loss: 4.8050e-04 - root_mean_squared_error: 0.0219 - val_loss: 8.1776e-04 - val_root_mean_squared_error: 0.0286\n",
      "Epoch 37/100\n",
      "364/364 [==============================] - 0s 1ms/sample - loss: 4.7991e-04 - root_mean_squared_error: 0.0219 - val_loss: 8.1282e-04 - val_root_mean_squared_error: 0.0285\n",
      "Epoch 38/100\n",
      "364/364 [==============================] - 0s 1ms/sample - loss: 4.7922e-04 - root_mean_squared_error: 0.0219 - val_loss: 8.0826e-04 - val_root_mean_squared_error: 0.0284\n",
      "Epoch 39/100\n",
      "364/364 [==============================] - 0s 1ms/sample - loss: 4.7846e-04 - root_mean_squared_error: 0.0219 - val_loss: 8.0405e-04 - val_root_mean_squared_error: 0.0284\n",
      "Epoch 40/100\n",
      "364/364 [==============================] - 0s 1ms/sample - loss: 4.7764e-04 - root_mean_squared_error: 0.0219 - val_loss: 8.0021e-04 - val_root_mean_squared_error: 0.0283\n",
      "Epoch 41/100\n",
      "364/364 [==============================] - 0s 1ms/sample - loss: 4.7677e-04 - root_mean_squared_error: 0.0218 - val_loss: 7.9673e-04 - val_root_mean_squared_error: 0.0282\n",
      "Epoch 42/100\n",
      "364/364 [==============================] - 0s 1ms/sample - loss: 4.7587e-04 - root_mean_squared_error: 0.0218 - val_loss: 7.9361e-04 - val_root_mean_squared_error: 0.0282\n",
      "Epoch 43/100\n",
      "364/364 [==============================] - 0s 1ms/sample - loss: 4.7494e-04 - root_mean_squared_error: 0.0218 - val_loss: 7.9088e-04 - val_root_mean_squared_error: 0.0281\n",
      "Epoch 44/100\n",
      "364/364 [==============================] - 0s 1ms/sample - loss: 4.7399e-04 - root_mean_squared_error: 0.0218 - val_loss: 7.8852e-04 - val_root_mean_squared_error: 0.0281\n",
      "Epoch 45/100\n",
      "364/364 [==============================] - 0s 1ms/sample - loss: 4.7303e-04 - root_mean_squared_error: 0.0217 - val_loss: 7.8653e-04 - val_root_mean_squared_error: 0.0280\n",
      "Epoch 46/100\n"
     ]
    },
    {
     "name": "stdout",
     "output_type": "stream",
     "text": [
      "364/364 [==============================] - 0s 975us/sample - loss: 4.7207e-04 - root_mean_squared_error: 0.0217 - val_loss: 7.8489e-04 - val_root_mean_squared_error: 0.0280\n",
      "Epoch 47/100\n",
      "364/364 [==============================] - 0s 990us/sample - loss: 4.7112e-04 - root_mean_squared_error: 0.0217 - val_loss: 7.8360e-04 - val_root_mean_squared_error: 0.0280\n",
      "Epoch 48/100\n",
      "364/364 [==============================] - 0s 997us/sample - loss: 4.7019e-04 - root_mean_squared_error: 0.0217 - val_loss: 7.8263e-04 - val_root_mean_squared_error: 0.0280\n",
      "Epoch 49/100\n",
      "364/364 [==============================] - 0s 1ms/sample - loss: 4.6928e-04 - root_mean_squared_error: 0.0217 - val_loss: 7.8196e-04 - val_root_mean_squared_error: 0.0280\n",
      "Epoch 50/100\n",
      "364/364 [==============================] - 0s 993us/sample - loss: 4.6840e-04 - root_mean_squared_error: 0.0216 - val_loss: 7.8155e-04 - val_root_mean_squared_error: 0.0280\n",
      "Epoch 51/100\n",
      "364/364 [==============================] - 0s 999us/sample - loss: 4.6756e-04 - root_mean_squared_error: 0.0216 - val_loss: 7.8139e-04 - val_root_mean_squared_error: 0.0280\n",
      "Epoch 52/100\n",
      "364/364 [==============================] - 0s 1000us/sample - loss: 4.6676e-04 - root_mean_squared_error: 0.0216 - val_loss: 7.8145e-04 - val_root_mean_squared_error: 0.0280\n",
      "Epoch 53/100\n",
      "364/364 [==============================] - 0s 1ms/sample - loss: 4.6600e-04 - root_mean_squared_error: 0.0216 - val_loss: 7.8169e-04 - val_root_mean_squared_error: 0.0280\n",
      "Epoch 54/100\n",
      "364/364 [==============================] - 0s 1ms/sample - loss: 4.6531e-04 - root_mean_squared_error: 0.0216 - val_loss: 7.8209e-04 - val_root_mean_squared_error: 0.0280\n",
      "Epoch 55/100\n",
      "364/364 [==============================] - 0s 1ms/sample - loss: 4.6466e-04 - root_mean_squared_error: 0.0216 - val_loss: 7.8263e-04 - val_root_mean_squared_error: 0.0280\n",
      "Epoch 56/100\n",
      "364/364 [==============================] - 0s 1ms/sample - loss: 4.6408e-04 - root_mean_squared_error: 0.0215 - val_loss: 7.8327e-04 - val_root_mean_squared_error: 0.0280\n",
      "Epoch 57/100\n",
      "364/364 [==============================] - 0s 965us/sample - loss: 4.6356e-04 - root_mean_squared_error: 0.0215 - val_loss: 7.8401e-04 - val_root_mean_squared_error: 0.0280\n",
      "Epoch 58/100\n",
      "364/364 [==============================] - 0s 1ms/sample - loss: 4.6310e-04 - root_mean_squared_error: 0.0215 - val_loss: 7.8483e-04 - val_root_mean_squared_error: 0.0280\n",
      "Epoch 59/100\n",
      "364/364 [==============================] - 0s 1ms/sample - loss: 4.6269e-04 - root_mean_squared_error: 0.0215 - val_loss: 7.8570e-04 - val_root_mean_squared_error: 0.0280\n",
      "Epoch 60/100\n",
      "364/364 [==============================] - 0s 1ms/sample - loss: 4.6235e-04 - root_mean_squared_error: 0.0215 - val_loss: 7.8662e-04 - val_root_mean_squared_error: 0.0280\n",
      "Epoch 61/100\n",
      "364/364 [==============================] - 0s 1ms/sample - loss: 4.6207e-04 - root_mean_squared_error: 0.0215 - val_loss: 7.8757e-04 - val_root_mean_squared_error: 0.0281\n",
      "Epoch 62/100\n",
      "364/364 [==============================] - 0s 1ms/sample - loss: 4.6184e-04 - root_mean_squared_error: 0.0215 - val_loss: 7.8856e-04 - val_root_mean_squared_error: 0.0281\n",
      "Epoch 63/100\n",
      "364/364 [==============================] - 0s 1ms/sample - loss: 4.6167e-04 - root_mean_squared_error: 0.0215 - val_loss: 7.8956e-04 - val_root_mean_squared_error: 0.0281\n",
      "Epoch 64/100\n",
      "364/364 [==============================] - 0s 1ms/sample - loss: 4.6154e-04 - root_mean_squared_error: 0.0215 - val_loss: 7.9057e-04 - val_root_mean_squared_error: 0.0281\n",
      "Epoch 65/100\n",
      "364/364 [==============================] - 0s 1ms/sample - loss: 4.6146e-04 - root_mean_squared_error: 0.0215 - val_loss: 7.9160e-04 - val_root_mean_squared_error: 0.0281\n",
      "Epoch 66/100\n",
      "364/364 [==============================] - 0s 962us/sample - loss: 4.6143e-04 - root_mean_squared_error: 0.0215 - val_loss: 7.9263e-04 - val_root_mean_squared_error: 0.0282\n",
      "Epoch 67/100\n",
      "364/364 [==============================] - 0s 993us/sample - loss: 4.6144e-04 - root_mean_squared_error: 0.0215 - val_loss: 7.9367e-04 - val_root_mean_squared_error: 0.0282\n",
      "Epoch 68/100\n",
      "364/364 [==============================] - 0s 991us/sample - loss: 4.6148e-04 - root_mean_squared_error: 0.0215 - val_loss: 7.9471e-04 - val_root_mean_squared_error: 0.0282\n",
      "Epoch 69/100\n",
      "364/364 [==============================] - 0s 985us/sample - loss: 4.6156e-04 - root_mean_squared_error: 0.0215 - val_loss: 7.9575e-04 - val_root_mean_squared_error: 0.0282\n",
      "Epoch 70/100\n",
      "364/364 [==============================] - 0s 954us/sample - loss: 4.6167e-04 - root_mean_squared_error: 0.0215 - val_loss: 7.9679e-04 - val_root_mean_squared_error: 0.0282\n",
      "Epoch 71/100\n",
      "364/364 [==============================] - 0s 951us/sample - loss: 4.6180e-04 - root_mean_squared_error: 0.0215 - val_loss: 7.9783e-04 - val_root_mean_squared_error: 0.0282\n",
      "Epoch 72/100\n",
      "364/364 [==============================] - 0s 970us/sample - loss: 4.6196e-04 - root_mean_squared_error: 0.0215 - val_loss: 7.9886e-04 - val_root_mean_squared_error: 0.0283\n",
      "Epoch 73/100\n",
      "364/364 [==============================] - 0s 989us/sample - loss: 4.6214e-04 - root_mean_squared_error: 0.0215 - val_loss: 7.9990e-04 - val_root_mean_squared_error: 0.0283\n",
      "Epoch 74/100\n",
      "364/364 [==============================] - 0s 968us/sample - loss: 4.6233e-04 - root_mean_squared_error: 0.0215 - val_loss: 8.0092e-04 - val_root_mean_squared_error: 0.0283\n",
      "Epoch 75/100\n",
      "364/364 [==============================] - 0s 988us/sample - loss: 4.6254e-04 - root_mean_squared_error: 0.0215 - val_loss: 8.0195e-04 - val_root_mean_squared_error: 0.0283\n",
      "Epoch 76/100\n",
      "364/364 [==============================] - 0s 1ms/sample - loss: 4.6277e-04 - root_mean_squared_error: 0.0215 - val_loss: 8.0297e-04 - val_root_mean_squared_error: 0.0283\n",
      "Epoch 77/100\n",
      "364/364 [==============================] - 0s 963us/sample - loss: 4.6300e-04 - root_mean_squared_error: 0.0215 - val_loss: 8.0399e-04 - val_root_mean_squared_error: 0.0284\n",
      "Epoch 78/100\n",
      "364/364 [==============================] - 0s 970us/sample - loss: 4.6324e-04 - root_mean_squared_error: 0.0215 - val_loss: 8.0500e-04 - val_root_mean_squared_error: 0.0284\n",
      "Epoch 79/100\n",
      "364/364 [==============================] - 0s 988us/sample - loss: 4.6349e-04 - root_mean_squared_error: 0.0215 - val_loss: 8.0600e-04 - val_root_mean_squared_error: 0.0284\n",
      "Epoch 80/100\n",
      "364/364 [==============================] - 0s 967us/sample - loss: 4.6374e-04 - root_mean_squared_error: 0.0215 - val_loss: 8.0700e-04 - val_root_mean_squared_error: 0.0284\n",
      "Epoch 81/100\n",
      "364/364 [==============================] - 0s 989us/sample - loss: 4.6400e-04 - root_mean_squared_error: 0.0215 - val_loss: 8.0799e-04 - val_root_mean_squared_error: 0.0284\n",
      "Epoch 82/100\n",
      "364/364 [==============================] - 0s 950us/sample - loss: 4.6425e-04 - root_mean_squared_error: 0.0215 - val_loss: 8.0896e-04 - val_root_mean_squared_error: 0.0284\n",
      "Epoch 83/100\n",
      "364/364 [==============================] - 0s 991us/sample - loss: 4.6451e-04 - root_mean_squared_error: 0.0216 - val_loss: 8.0993e-04 - val_root_mean_squared_error: 0.0285\n",
      "Epoch 84/100\n",
      "364/364 [==============================] - 0s 992us/sample - loss: 4.6476e-04 - root_mean_squared_error: 0.0216 - val_loss: 8.1089e-04 - val_root_mean_squared_error: 0.0285\n",
      "Epoch 85/100\n",
      "364/364 [==============================] - 0s 1ms/sample - loss: 4.6500e-04 - root_mean_squared_error: 0.0216 - val_loss: 8.1183e-04 - val_root_mean_squared_error: 0.0285\n",
      "Epoch 86/100\n",
      "364/364 [==============================] - 0s 968us/sample - loss: 4.6525e-04 - root_mean_squared_error: 0.0216 - val_loss: 8.1276e-04 - val_root_mean_squared_error: 0.0285\n",
      "Epoch 87/100\n",
      "364/364 [==============================] - 0s 966us/sample - loss: 4.6548e-04 - root_mean_squared_error: 0.0216 - val_loss: 8.1368e-04 - val_root_mean_squared_error: 0.0285\n",
      "Epoch 88/100\n",
      "364/364 [==============================] - 0s 942us/sample - loss: 4.6572e-04 - root_mean_squared_error: 0.0216 - val_loss: 8.1458e-04 - val_root_mean_squared_error: 0.0285\n",
      "Epoch 89/100\n",
      "364/364 [==============================] - 0s 959us/sample - loss: 4.6594e-04 - root_mean_squared_error: 0.0216 - val_loss: 8.1546e-04 - val_root_mean_squared_error: 0.0286\n",
      "Epoch 90/100\n"
     ]
    },
    {
     "name": "stdout",
     "output_type": "stream",
     "text": [
      "364/364 [==============================] - 0s 927us/sample - loss: 4.6616e-04 - root_mean_squared_error: 0.0216 - val_loss: 8.1631e-04 - val_root_mean_squared_error: 0.0286\n",
      "Epoch 91/100\n",
      "364/364 [==============================] - 0s 883us/sample - loss: 4.6636e-04 - root_mean_squared_error: 0.0216 - val_loss: 8.1715e-04 - val_root_mean_squared_error: 0.0286\n",
      "Epoch 92/100\n",
      "364/364 [==============================] - 0s 889us/sample - loss: 4.6656e-04 - root_mean_squared_error: 0.0216 - val_loss: 8.1797e-04 - val_root_mean_squared_error: 0.0286\n",
      "Epoch 93/100\n",
      "364/364 [==============================] - 0s 872us/sample - loss: 4.6676e-04 - root_mean_squared_error: 0.0216 - val_loss: 8.1876e-04 - val_root_mean_squared_error: 0.0286\n",
      "Epoch 94/100\n",
      "364/364 [==============================] - 0s 831us/sample - loss: 4.6694e-04 - root_mean_squared_error: 0.0216 - val_loss: 8.1953e-04 - val_root_mean_squared_error: 0.0286\n",
      "Epoch 95/100\n",
      "364/364 [==============================] - 0s 846us/sample - loss: 4.6711e-04 - root_mean_squared_error: 0.0216 - val_loss: 8.2027e-04 - val_root_mean_squared_error: 0.0286\n",
      "Epoch 96/100\n",
      "364/364 [==============================] - 0s 839us/sample - loss: 4.6728e-04 - root_mean_squared_error: 0.0216 - val_loss: 8.2098e-04 - val_root_mean_squared_error: 0.0287\n",
      "Epoch 97/100\n",
      "364/364 [==============================] - 0s 848us/sample - loss: 4.6743e-04 - root_mean_squared_error: 0.0216 - val_loss: 8.2167e-04 - val_root_mean_squared_error: 0.0287\n",
      "Epoch 98/100\n",
      "364/364 [==============================] - 0s 824us/sample - loss: 4.6758e-04 - root_mean_squared_error: 0.0216 - val_loss: 8.2233e-04 - val_root_mean_squared_error: 0.0287\n",
      "Epoch 99/100\n",
      "364/364 [==============================] - 0s 857us/sample - loss: 4.6772e-04 - root_mean_squared_error: 0.0216 - val_loss: 8.2297e-04 - val_root_mean_squared_error: 0.0287\n",
      "Epoch 100/100\n",
      "364/364 [==============================] - 0s 846us/sample - loss: 4.6785e-04 - root_mean_squared_error: 0.0216 - val_loss: 8.2358e-04 - val_root_mean_squared_error: 0.0287\n"
     ]
    }
   ],
   "source": [
    "from tensorflow.keras.metrics import RootMeanSquaredError\n",
    "\n",
    "regressor = Sequential([\n",
    "    LSTM(4),\n",
    "    Dense(1)\n",
    "])\n",
    "regressor.compile(optimizer='adam', \n",
    "                  loss='mse',\n",
    "                  metrics=[RootMeanSquaredError()])\n",
    "\n",
    "history = regressor.fit(X_train, \n",
    "                        y_train, \n",
    "                        batch_size=5, \n",
    "                        epochs=100,\n",
    "                        shuffle=False,\n",
    "                        validation_data=(X_val, y_val))"
   ]
  },
  {
   "cell_type": "code",
   "execution_count": 18,
   "id": "aboriginal-storm",
   "metadata": {
    "ExecuteTime": {
     "end_time": "2021-02-26T14:33:19.187809Z",
     "start_time": "2021-02-26T14:33:19.184710Z"
    }
   },
   "outputs": [
    {
     "data": {
      "text/plain": [
       "dict_keys(['loss', 'root_mean_squared_error', 'val_loss', 'val_root_mean_squared_error'])"
      ]
     },
     "execution_count": 18,
     "metadata": {},
     "output_type": "execute_result"
    }
   ],
   "source": [
    "history.history.keys()"
   ]
  },
  {
   "cell_type": "code",
   "execution_count": 67,
   "id": "verified-senator",
   "metadata": {
    "ExecuteTime": {
     "end_time": "2021-02-26T17:01:19.114591Z",
     "start_time": "2021-02-26T17:01:18.902102Z"
    }
   },
   "outputs": [
    {
     "data": {
      "image/png": "[encoded data removed]",
      "text/plain": [
       "<Figure size 432x288 with 1 Axes>"
      ]
     },
     "metadata": {},
     "output_type": "display_data"
    }
   ],
   "source": [
    "rmse = history.history['root_mean_squared_error']\n",
    "val_rmse = history.history['val_root_mean_squared_error']\n",
    "\n",
    "fig, ax = plt.subplots()\n",
    "plt.plot(rmse, 'b', label='RMSE')\n",
    "plt.plot(val_rmse, 'r', label='Val RMSE')\n",
    "ax.set(xlabel='Epoch', ylabel='RMSE',\n",
    "      title='Validation set error metric - RMSE')\n",
    "# plt.yticks([0, .1, .2, .3, .4])\n",
    "plt.legend()\n",
    "plt.show()"
   ]
  },
  {
   "cell_type": "code",
   "execution_count": 68,
   "id": "isolated-oriental",
   "metadata": {
    "ExecuteTime": {
     "end_time": "2021-02-26T17:01:35.887522Z",
     "start_time": "2021-02-26T17:01:35.883334Z"
    }
   },
   "outputs": [
    {
     "data": {
      "text/plain": [
       "(0.02795342, 50)"
      ]
     },
     "execution_count": 68,
     "metadata": {},
     "output_type": "execute_result"
    }
   ],
   "source": [
    "# Smallest rmse\n",
    "min(val_rmse), np.argmin(val_rmse)"
   ]
  },
  {
   "cell_type": "code",
   "execution_count": 84,
   "id": "renewable-alberta",
   "metadata": {
    "ExecuteTime": {
     "end_time": "2021-02-26T17:16:52.971183Z",
     "start_time": "2021-02-26T17:16:52.967905Z"
    }
   },
   "outputs": [
    {
     "data": {
      "text/plain": [
       "0.028698"
      ]
     },
     "execution_count": 84,
     "metadata": {},
     "output_type": "execute_result"
    }
   ],
   "source": [
    "val_rmse[-1]"
   ]
  },
  {
   "cell_type": "markdown",
   "id": "manual-department",
   "metadata": {},
   "source": [
    "~3% of max change in dataset. We think this is not very good. A 3% price change is significant. Hard to interpret. "
   ]
  },
  {
   "cell_type": "code",
   "execution_count": 70,
   "id": "accessible-retailer",
   "metadata": {
    "ExecuteTime": {
     "end_time": "2021-02-26T17:01:52.131850Z",
     "start_time": "2021-02-26T17:01:52.127757Z"
    }
   },
   "outputs": [
    {
     "data": {
      "text/plain": [
       "(0.0007813936611236041, 50)"
      ]
     },
     "execution_count": 70,
     "metadata": {},
     "output_type": "execute_result"
    }
   ],
   "source": [
    "# Smallest loss\n",
    "min(val_loss), np.argmin(val_loss)"
   ]
  },
  {
   "cell_type": "code",
   "execution_count": 83,
   "id": "outer-treasurer",
   "metadata": {
    "ExecuteTime": {
     "end_time": "2021-02-26T17:16:40.075030Z",
     "start_time": "2021-02-26T17:16:40.071544Z"
    }
   },
   "outputs": [
    {
     "data": {
      "text/plain": [
       "0.028698"
      ]
     },
     "execution_count": 83,
     "metadata": {},
     "output_type": "execute_result"
    }
   ],
   "source": [
    "history.history['val_root_mean_squared_error'][-1]"
   ]
  },
  {
   "cell_type": "code",
   "execution_count": 72,
   "id": "drawn-relevance",
   "metadata": {
    "ExecuteTime": {
     "end_time": "2021-02-26T17:07:28.049492Z",
     "start_time": "2021-02-26T17:07:27.832832Z"
    }
   },
   "outputs": [
    {
     "data": {
      "image/png": "[encoded data removed]",
      "text/plain": [
       "<Figure size 432x288 with 1 Axes>"
      ]
     },
     "metadata": {},
     "output_type": "display_data"
    }
   ],
   "source": [
    "loss = history.history['loss']\n",
    "val_loss = history.history['val_loss']\n",
    "\n",
    "fig, ax = plt.subplots()\n",
    "plt.plot(loss, 'b', label='Loss (MSE)')\n",
    "plt.plot(val_loss, 'r', label='Val Loss (MSE)')\n",
    "ax.set(xlabel='Epochs', ylabel='Loss (MSE)',\n",
    "      title='Loss function - MSE')\n",
    "plt.show()"
   ]
  },
  {
   "cell_type": "code",
   "execution_count": 73,
   "id": "social-seeking",
   "metadata": {
    "ExecuteTime": {
     "end_time": "2021-02-26T17:07:29.712905Z",
     "start_time": "2021-02-26T17:07:28.900515Z"
    }
   },
   "outputs": [],
   "source": [
    "predicted_price = regressor.predict(X_test)\n",
    "predicted_price = min_max.inverse_transform(predicted_price)"
   ]
  },
  {
   "cell_type": "code",
   "execution_count": 78,
   "id": "existing-fraction",
   "metadata": {
    "ExecuteTime": {
     "end_time": "2021-02-26T17:10:13.545982Z",
     "start_time": "2021-02-26T17:10:13.274792Z"
    }
   },
   "outputs": [
    {
     "data": {
      "image/png": "[encoded data removed]",
      "text/plain": [
       "<Figure size 720x432 with 1 Axes>"
      ]
     },
     "metadata": {},
     "output_type": "display_data"
    }
   ],
   "source": [
    "# Need to inverse transform to get correct y-axis values\n",
    "fig, ax = plt.subplots(figsize=(10, 6))\n",
    "plt.plot(regressor.predict(X_test), 'r', label='Forecast')\n",
    "plt.plot(np.ravel(y_test), 'b', label='BTC price')\n",
    "plt.legend()\n",
    "ax.set(xlabel='Days', ylabel='BTC Price (min/max scaled)',\n",
    "      title='Forecast with LSTM(4) Sequential Model')\n",
    "plt.show()"
   ]
  },
  {
   "cell_type": "markdown",
   "id": "employed-railway",
   "metadata": {},
   "source": [
    "This is expected (from a model doing a very bad job). Trained on bull data and validated on bear data. "
   ]
  },
  {
   "cell_type": "code",
   "execution_count": 76,
   "id": "municipal-europe",
   "metadata": {
    "ExecuteTime": {
     "end_time": "2021-02-26T17:08:49.610687Z",
     "start_time": "2021-02-26T17:08:49.479231Z"
    }
   },
   "outputs": [
    {
     "data": {
      "text/plain": [
       "0.06531364"
      ]
     },
     "execution_count": 76,
     "metadata": {},
     "output_type": "execute_result"
    }
   ],
   "source": [
    "# Loss for this model\n",
    "rmse_class = RootMeanSquaredError()\n",
    "rmse_class(y_test, regressor.predict(X_test)).numpy()"
   ]
  },
  {
   "cell_type": "code",
   "execution_count": 80,
   "id": "mighty-wages",
   "metadata": {
    "ExecuteTime": {
     "end_time": "2021-02-26T17:13:39.168596Z",
     "start_time": "2021-02-26T17:13:39.051774Z"
    }
   },
   "outputs": [
    {
     "data": {
      "text/plain": [
       "0.05044525"
      ]
     },
     "execution_count": 80,
     "metadata": {},
     "output_type": "execute_result"
    }
   ],
   "source": [
    "# WHY IS THIS DIFFERENT TO THE VALIDATION_RMSE????\n",
    "rmse_class(y_val, regressor.predict(X_val)).numpy()"
   ]
  },
  {
   "cell_type": "code",
   "execution_count": 81,
   "id": "bibliographic-vector",
   "metadata": {
    "ExecuteTime": {
     "end_time": "2021-02-26T17:13:52.675485Z",
     "start_time": "2021-02-26T17:13:52.545452Z"
    }
   },
   "outputs": [
    {
     "data": {
      "text/plain": [
       "0.027286403"
      ]
     },
     "execution_count": 81,
     "metadata": {},
     "output_type": "execute_result"
    }
   ],
   "source": [
    "rmse_class(y_train, regressor.predict(X_train)).numpy()"
   ]
  },
  {
   "cell_type": "code",
   "execution_count": null,
   "id": "enhanced-negotiation",
   "metadata": {},
   "outputs": [],
   "source": []
  },
  {
   "cell_type": "code",
   "execution_count": null,
   "id": "cathedral-factor",
   "metadata": {},
   "outputs": [],
   "source": []
  },
  {
   "cell_type": "code",
   "execution_count": null,
   "id": "meaning-miller",
   "metadata": {},
   "outputs": [],
   "source": []
  },
  {
   "cell_type": "code",
   "execution_count": null,
   "id": "failing-photography",
   "metadata": {},
   "outputs": [],
   "source": []
  }
 ],
 "metadata": {
  "kernelspec": {
   "display_name": "Python [conda env:deep] *",
   "language": "python",
   "name": "conda-env-deep-py"
  },
  "language_info": {
   "codemirror_mode": {
    "name": "ipython",
    "version": 3
   },
   "file_extension": ".py",
   "mimetype": "text/x-python",
   "name": "python",
   "nbconvert_exporter": "python",
   "pygments_lexer": "ipython3",
   "version": "3.7.9"
  },
  "toc": {
   "base_numbering": 1,
   "nav_menu": {},
   "number_sections": true,
   "sideBar": true,
   "skip_h1_title": false,
   "title_cell": "Table of Contents",
   "title_sidebar": "Contents",
   "toc_cell": false,
   "toc_position": {},
   "toc_section_display": true,
   "toc_window_display": false
  },
  "varInspector": {
   "cols": {
    "lenName": 16,
    "lenType": 16,
    "lenVar": 40
   },
   "kernels_config": {
    "python": {
     "delete_cmd_postfix": "",
     "delete_cmd_prefix": "del ",
     "library": "var_list.py",
     "varRefreshCmd": "print(var_dic_list())"
    },
    "r": {
     "delete_cmd_postfix": ") ",
     "delete_cmd_prefix": "rm(",
     "library": "var_list.r",
     "varRefreshCmd": "cat(var_dic_list()) "
    }
   },
   "types_to_exclude": [
    "module",
    "function",
    "builtin_function_or_method",
    "instance",
    "_Feature"
   ],
   "window_display": false
  }
 },
 "nbformat": 4,
 "nbformat_minor": 5
}
